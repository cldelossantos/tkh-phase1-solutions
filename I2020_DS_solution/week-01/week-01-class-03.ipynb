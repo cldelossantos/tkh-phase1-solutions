{
 "cells": [
  {
   "cell_type": "markdown",
   "metadata": {},
   "source": [
    "<div style=\"background: #000;\n",
    "            color: #FFF;\n",
    "            margin: 0px;\n",
    "                padding: 10px 0px 20px 0px;\n",
    "            text-align: center; \n",
    "                \">\n",
    "    <h1>Python Data Science Course - Week 1 - Day 3</h1>\n",
    "</div>\n",
    "\n",
    "## Todays Agenda\n",
    "* Logic Fun\n",
    "* Ints vs. Floats\n",
    "* Math in Python\n",
    "* Discuss homework assignments\n"
   ]
  },
  {
   "cell_type": "markdown",
   "metadata": {},
   "source": [
    "## Logic Fun\n",
    "\n",
    "### Truth Tables\n",
    "\n",
    "\tTrue\t      False\t\tIdentity   \tNegation\n",
    "\tp\tT\t\tp\tF\t\tp\tp\t\tp   ¬P\n",
    "\tT\tT\t\tT\tF\t\tT\tT\t\tT\tF\n",
    "\tF\tT\t\tF\tF\t\tF\tF\t\tF\tT\n",
    "\n",
    "\tAND      OR       XOR     NAND\n",
    "\tp & q\tp || q   p ⊕ q   p  NAND  q\n",
    "\tT T T\tT T  T   T F T   T    F   T\n",
    "\tT F F\tT T  F   T T F   T    T   F\n",
    "\tF F T\tF T  T   F T T   F    T   T\n",
    "\tF F F\tF F  F   F F F   F    T   F\n",
    "\t\n",
    "\n",
    "Can You Answer these? How about in python?      \n",
    "\n",
    "¬(p & q )\n",
    "T   F  T = F\n",
    "T   F  F = F\n",
    "F   T  T = T\n",
    "F   T  F = F\n",
    "\n",
    "\n",
    "( p || q ) & ( ¬p || ¬q)\n",
    "T     T = T      T     T   F   F = F   Final = F\n",
    "T     F = T      T     F   F   T = T         = T\n",
    "F     T = T      F     T   T   F = T         = T\n",
    "F     F = F      F     F   T   T = T         = F"
   ]
  },
  {
   "cell_type": "markdown",
   "metadata": {},
   "source": [
    "# DIscuss python solutions for logic fun"
   ]
  },
  {
   "cell_type": "markdown",
   "metadata": {},
   "source": [
    "- ( p & q)"
   ]
  },
  {
   "cell_type": "code",
   "execution_count": 8,
   "metadata": {},
   "outputs": [
    {
     "data": {
      "text/plain": [
       "True"
      ]
     },
     "execution_count": 8,
     "metadata": {},
     "output_type": "execute_result"
    }
   ],
   "source": [
    "p = True\n",
    "q = False\n",
    "\n",
    "not (p and q)"
   ]
  },
  {
   "cell_type": "markdown",
   "metadata": {},
   "source": [
    "( p || q) & (-p || -q)"
   ]
  },
  {
   "cell_type": "code",
   "execution_count": 9,
   "metadata": {},
   "outputs": [
    {
     "name": "stdout",
     "output_type": "stream",
     "text": [
      "hello\n"
     ]
    }
   ],
   "source": [
    "if(p or q) and (not p or not q):\n",
    "    print(\"hello\")"
   ]
  },
  {
   "cell_type": "markdown",
   "metadata": {},
   "source": [
    "# Notes from yesterday"
   ]
  },
  {
   "cell_type": "code",
   "execution_count": null,
   "metadata": {},
   "outputs": [],
   "source": [
    "first_adjective = input(\"enter an adjective\")\n",
    "second_adjective = input(\"enter and adjective\")\n",
    "first_noun = input(\"enter a noun\")\n",
    "first_verb = input(\"enter a verb\")\n",
    "second_noun = input(\"enter a noun\")\n",
    "third_noun = input(\"enter a noun\")\n",
    "day = input(\"enter a day\")\n",
    "person = input(\"enter a person\")\n",
    "second_verb = input(\"enter a verb\")\n",
    "weather = input(\"enter a weather\")\n",
    "crazy_event = input(\"enter a crazy event\")\n",
    "action_in_response = input(\"enter an action\")\n",
    "number = input(\"enter a number\")\n",
    "time_of_arrival = input(\"enter a time of arrival\")\n",
    "action = input(\"enter a action\")\n",
    "condition = input(\"enter a condition\")\n",
    "meeting_event = input(\"enter a meeting event\")\n",
    "\n",
    "mad_lib = f\"It was a {first_adjective}, cold November day. I woke up to the {second_adjective} smell of {first_noun} downstairs. I quickly got ready, grabbing my {second_noun} and ran downstairs to {first_verb} the {third_noun}. It was {day} and I was late! I rushed outside to see {person} at the bodega {second_verb}. I had no time for that and it was {weather} outside so I headed to the subway. On the train, I see {crazy_event} so I {action_in_response}. I finally get to my stop and leave the train. I'm {number} minutes {time_of_arrival} so I {action}. I get to the meeting {condition} only to find out that {meeting_event}\"\n",
    "\n",
    "print(mad_lib)`"
   ]
  },
  {
   "cell_type": "markdown",
   "metadata": {},
   "source": [
    "### bools"
   ]
  },
  {
   "cell_type": "code",
   "execution_count": 10,
   "metadata": {},
   "outputs": [
    {
     "name": "stdout",
     "output_type": "stream",
     "text": [
      "hello\n"
     ]
    }
   ],
   "source": [
    "print(\"hello\") and print(\"hello\") # "
   ]
  },
  {
   "cell_type": "code",
   "execution_count": null,
   "metadata": {},
   "outputs": [],
   "source": [
    "print(\"hello\") and True"
   ]
  },
  {
   "cell_type": "code",
   "execution_count": null,
   "metadata": {},
   "outputs": [],
   "source": [
    "print(\"hello\") and False"
   ]
  },
  {
   "cell_type": "code",
   "execution_count": null,
   "metadata": {},
   "outputs": [],
   "source": [
    "True and print(\"hello\")"
   ]
  },
  {
   "cell_type": "code",
   "execution_count": null,
   "metadata": {},
   "outputs": [],
   "source": [
    "False and print(\"hello\")"
   ]
  },
  {
   "cell_type": "code",
   "execution_count": null,
   "metadata": {},
   "outputs": [],
   "source": [
    "print(\"hello\") or print(\"goodbye\")"
   ]
  },
  {
   "cell_type": "code",
   "execution_count": null,
   "metadata": {},
   "outputs": [],
   "source": [
    "print(\"hello\") or True"
   ]
  },
  {
   "cell_type": "code",
   "execution_count": null,
   "metadata": {},
   "outputs": [],
   "source": [
    "True == 1"
   ]
  },
  {
   "cell_type": "code",
   "execution_count": null,
   "metadata": {},
   "outputs": [],
   "source": [
    "False == 0"
   ]
  },
  {
   "cell_type": "code",
   "execution_count": null,
   "metadata": {},
   "outputs": [],
   "source": [
    "True == 939"
   ]
  },
  {
   "cell_type": "code",
   "execution_count": null,
   "metadata": {},
   "outputs": [],
   "source": [
    "False == -323"
   ]
  },
  {
   "cell_type": "code",
   "execution_count": 11,
   "metadata": {},
   "outputs": [
    {
     "data": {
      "text/plain": [
       "(False, False, False)"
      ]
     },
     "execution_count": 11,
     "metadata": {},
     "output_type": "execute_result"
    }
   ],
   "source": [
    "bool(0), bool(0.00), bool(0j)"
   ]
  },
  {
   "cell_type": "code",
   "execution_count": null,
   "metadata": {},
   "outputs": [],
   "source": [
    "bool(None)"
   ]
  },
  {
   "cell_type": "code",
   "execution_count": null,
   "metadata": {},
   "outputs": [],
   "source": [
    "bool(()), bool([]), bool({})"
   ]
  },
  {
   "cell_type": "code",
   "execution_count": null,
   "metadata": {},
   "outputs": [],
   "source": [
    "class Example:\n",
    "    def __init__(self):\n",
    "        pass\n",
    "    def __bool__(self):\n",
    "        return False\n",
    "    def __len__(self):\n",
    "        return 0\n",
    "\n",
    "e = Example()\n",
    "    \n",
    "bool(e)"
   ]
  },
  {
   "cell_type": "markdown",
   "metadata": {},
   "source": [
    "# Ints"
   ]
  },
  {
   "cell_type": "code",
   "execution_count": null,
   "metadata": {},
   "outputs": [],
   "source": [
    "variable = 45"
   ]
  },
  {
   "cell_type": "code",
   "execution_count": null,
   "metadata": {},
   "outputs": [],
   "source": [
    "type(variable)"
   ]
  },
  {
   "cell_type": "markdown",
   "metadata": {},
   "source": [
    "# common math operations"
   ]
  },
  {
   "cell_type": "code",
   "execution_count": null,
   "metadata": {},
   "outputs": [],
   "source": [
    "variable = 10 + 10\n",
    "\n",
    "print(variable)"
   ]
  },
  {
   "cell_type": "code",
   "execution_count": null,
   "metadata": {},
   "outputs": [],
   "source": [
    "variable = 10 - 10\n",
    "\n",
    "print(variable)"
   ]
  },
  {
   "cell_type": "code",
   "execution_count": null,
   "metadata": {},
   "outputs": [],
   "source": [
    "variable = -10 + 10\n",
    "print(variable)"
   ]
  },
  {
   "cell_type": "code",
   "execution_count": null,
   "metadata": {},
   "outputs": [],
   "source": [
    "# some useful tricks\n",
    "\n",
    "# adding/subtracting an amount to a variable:\n",
    "variable += 5\n",
    "variable -= 5"
   ]
  },
  {
   "cell_type": "code",
   "execution_count": null,
   "metadata": {},
   "outputs": [],
   "source": [
    "# multiplication\n",
    "\n",
    "variable = 5 * 5\n",
    "\n",
    "# using exponents\n",
    "\n",
    "variable2 = 5 ** 5\n",
    "\n",
    "print(variable, variable2)"
   ]
  },
  {
   "cell_type": "markdown",
   "metadata": {},
   "source": [
    "# Examples using python as a calculator"
   ]
  },
  {
   "cell_type": "markdown",
   "metadata": {},
   "source": [
    "Say you had a company that ran projects with a budgeted amount of $1000 per project. Of that amount, you spend money for supplies and labor. Often, you don't use the full budget. Your boss asks you weekly to generate a list of the leftover funds. \n",
    "\n",
    "Let's use python to create a script that will allow us to enter the values and generate that list easily. "
   ]
  },
  {
   "cell_type": "code",
   "execution_count": null,
   "metadata": {},
   "outputs": [],
   "source": [
    "balance: int = 1000"
   ]
  },
  {
   "cell_type": "code",
   "execution_count": 14,
   "metadata": {},
   "outputs": [
    {
     "name": "stdout",
     "output_type": "stream",
     "text": [
      "Enter the cost of supplies: 300\n",
      "Enter the cost of the labor: 300\n"
     ]
    },
    {
     "ename": "NameError",
     "evalue": "name 'budget' is not defined",
     "output_type": "error",
     "traceback": [
      "\u001b[0;31m---------------------------------------------------------------------------\u001b[0m",
      "\u001b[0;31mNameError\u001b[0m                                 Traceback (most recent call last)",
      "\u001b[0;32m<ipython-input-14-f55b6ebc33fe>\u001b[0m in \u001b[0;36m<module>\u001b[0;34m\u001b[0m\n\u001b[1;32m      1\u001b[0m \u001b[0mcost_supplies\u001b[0m \u001b[0;34m=\u001b[0m \u001b[0mint\u001b[0m\u001b[0;34m(\u001b[0m\u001b[0minput\u001b[0m\u001b[0;34m(\u001b[0m\u001b[0;34m\"Enter the cost of supplies: \"\u001b[0m\u001b[0;34m)\u001b[0m\u001b[0;34m)\u001b[0m\u001b[0;34m\u001b[0m\u001b[0;34m\u001b[0m\u001b[0m\n\u001b[1;32m      2\u001b[0m \u001b[0mcost_of_labor\u001b[0m \u001b[0;34m=\u001b[0m \u001b[0mint\u001b[0m\u001b[0;34m(\u001b[0m\u001b[0minput\u001b[0m\u001b[0;34m(\u001b[0m\u001b[0;34m\"Enter the cost of the labor: \"\u001b[0m\u001b[0;34m)\u001b[0m\u001b[0;34m)\u001b[0m\u001b[0;34m\u001b[0m\u001b[0;34m\u001b[0m\u001b[0m\n\u001b[0;32m----> 3\u001b[0;31m \u001b[0mbudget\u001b[0m \u001b[0;34m-=\u001b[0m \u001b[0mcost_of_supplies\u001b[0m \u001b[0;34m+\u001b[0m \u001b[0mcost_of_labor\u001b[0m\u001b[0;34m\u001b[0m\u001b[0;34m\u001b[0m\u001b[0m\n\u001b[0m\u001b[1;32m      4\u001b[0m \u001b[0;34m\u001b[0m\u001b[0m\n\u001b[1;32m      5\u001b[0m \u001b[0mbalance\u001b[0m \u001b[0;34m=\u001b[0m \u001b[0mbudget\u001b[0m \u001b[0;34m-\u001b[0m \u001b[0;34m(\u001b[0m\u001b[0mcost_supplies\u001b[0m \u001b[0;34m+\u001b[0m \u001b[0mcost_of_labor\u001b[0m\u001b[0;34m)\u001b[0m\u001b[0;34m\u001b[0m\u001b[0;34m\u001b[0m\u001b[0m\n",
      "\u001b[0;31mNameError\u001b[0m: name 'budget' is not defined"
     ]
    }
   ],
   "source": [
    "\n",
    "cost_supplies = int(input(\"Enter the cost of supplies: \"))\n",
    "cost_of_labor = int(input(\"Enter the cost of the labor: \"))\n",
    "budget -= cost_of_supplies + cost_of_labor\n",
    "\n",
    "balance = budget - (cost_supplies + cost_of_labor)\n",
    "print(\"balance equals\", balance)"
   ]
  },
  {
   "cell_type": "code",
   "execution_count": null,
   "metadata": {},
   "outputs": [],
   "source": []
  },
  {
   "cell_type": "markdown",
   "metadata": {},
   "source": [
    "# More complicated examples"
   ]
  },
  {
   "cell_type": "code",
   "execution_count": 17,
   "metadata": {},
   "outputs": [
    {
     "data": {
      "text/plain": [
       "7"
      ]
     },
     "execution_count": 17,
     "metadata": {},
     "output_type": "execute_result"
    }
   ],
   "source": [
    "# Floor division\n",
    "\n",
    "22 // 3 # discards fractional part"
   ]
  },
  {
   "cell_type": "code",
   "execution_count": 18,
   "metadata": {},
   "outputs": [
    {
     "data": {
      "text/plain": [
       "1"
      ]
     },
     "execution_count": 18,
     "metadata": {},
     "output_type": "execute_result"
    }
   ],
   "source": [
    "# Remainder operation\n",
    "\n",
    "22 % 3 # returns remainder"
   ]
  },
  {
   "cell_type": "code",
   "execution_count": 21,
   "metadata": {},
   "outputs": [
    {
     "data": {
      "text/plain": [
       "5"
      ]
     },
     "execution_count": 21,
     "metadata": {},
     "output_type": "execute_result"
    }
   ],
   "source": [
    "# putting that together:\n",
    "\n",
    "w = 17 // 3\n",
    "w"
   ]
  },
  {
   "cell_type": "code",
   "execution_count": 19,
   "metadata": {},
   "outputs": [
    {
     "data": {
      "text/plain": [
       "2"
      ]
     },
     "execution_count": 19,
     "metadata": {},
     "output_type": "execute_result"
    }
   ],
   "source": [
    "x = 17 % 3\n",
    "x"
   ]
  },
  {
   "cell_type": "code",
   "execution_count": 22,
   "metadata": {},
   "outputs": [
    {
     "data": {
      "text/plain": [
       "(5, 2)"
      ]
     },
     "execution_count": 22,
     "metadata": {},
     "output_type": "execute_result"
    }
   ],
   "source": [
    "y = w, x\n",
    "y"
   ]
  },
  {
   "cell_type": "code",
   "execution_count": null,
   "metadata": {},
   "outputs": [],
   "source": [
    "w * 3 + x"
   ]
  },
  {
   "cell_type": "code",
   "execution_count": null,
   "metadata": {},
   "outputs": [],
   "source": [
    "# multiplication gets tricky"
   ]
  },
  {
   "cell_type": "code",
   "execution_count": null,
   "metadata": {},
   "outputs": [],
   "source": [
    "print(type(5))\n",
    "print(type(3))\n",
    "print(type(5/3))"
   ]
  },
  {
   "cell_type": "code",
   "execution_count": null,
   "metadata": {},
   "outputs": [],
   "source": [
    "type(4.)"
   ]
  },
  {
   "cell_type": "code",
   "execution_count": null,
   "metadata": {},
   "outputs": [],
   "source": [
    "22/7."
   ]
  },
  {
   "cell_type": "code",
   "execution_count": null,
   "metadata": {},
   "outputs": [],
   "source": [
    "import math\n",
    "math.pi.as_integer_ratio()"
   ]
  },
  {
   "cell_type": "code",
   "execution_count": null,
   "metadata": {},
   "outputs": [],
   "source": [
    "884279719003555/281474976710656"
   ]
  },
  {
   "cell_type": "markdown",
   "metadata": {},
   "source": [
    "# Floats\n",
    "***\n",
    "\n",
    "The float type in CPython uses a C double for storage. A float object’s value is stored in binary floating-point with a fixed precision (typically 53 bits) and Python uses C operations, which in turn rely on the hardware implementation in the processor, to perform floating-point operations. This means that as far as floating-point operations are concerned, Python behaves like many popular languages including C and Java.\n",
    "\n",
    "Floats:\n",
    "1. Sign bit\n",
    "2. Fractional part digits\n",
    "3. Exponent part digits\n",
    "\n",
    "\n",
    "\n",
    "1. bit for negative/postive\n",
    "2. bits to expand as follows:  \n",
    "$\n",
    "01101101 - 0*2^{-1} + 1*2^{-2} + 1*2^{-3} + 0*2^{-4} + 1*2^{-5} + 1*2^{-6} + 0*2^{-7} + 1*2^{-8} = 0.42578125\n",
    "$\n",
    "3. bits for exponent:\n",
    "$\n",
    "11000011 - 1*2^7 + 1*2^6 + 0*2^5 + 0*2^4 + 0*2^3 + 0*2^2 + 1*2^1 + 1*2^0 = 195\n",
    "$\n",
    "\n",
    "\n",
    "sign * fractional part ** exponent"
   ]
  },
  {
   "cell_type": "code",
   "execution_count": null,
   "metadata": {},
   "outputs": [],
   "source": [
    "0*2**-1 + 1*2**-2 + 1*2**-3 + 0*2**-4 + 1*2**-5 + 1*2**-6 + 0*2**-7 + 1*2**-8"
   ]
  },
  {
   "cell_type": "code",
   "execution_count": null,
   "metadata": {},
   "outputs": [],
   "source": [
    "sum([int(j) * 2 **-(i+1) for i, j in enumerate('01101101')])"
   ]
  },
  {
   "cell_type": "code",
   "execution_count": null,
   "metadata": {},
   "outputs": [],
   "source": [
    "1*2**7 + 1*2**6 + 0*2**5 + 0*2**4 + 0*2**3 + 0*2**2 + 1*2**1 + 1*2**0"
   ]
  },
  {
   "cell_type": "code",
   "execution_count": null,
   "metadata": {},
   "outputs": [],
   "source": [
    "sum([int(j) * 2 **(i) for i, j in enumerate('11000011')])"
   ]
  },
  {
   "cell_type": "markdown",
   "metadata": {},
   "source": [
    "1 2 3 4 5 6 7 8 9 10\n",
    "\n",
    "1.00 1.01 1.02 .. 1.99 2.00 99\n",
    "\n",
    "1.00000000000000000000000000000...\n",
    "2.000000000000000000000000000000000000000000000...\n",
    "1.0 ... 2.0"
   ]
  },
  {
   "cell_type": "code",
   "execution_count": null,
   "metadata": {},
   "outputs": [],
   "source": [
    "1/3."
   ]
  },
  {
   "cell_type": "code",
   "execution_count": 23,
   "metadata": {},
   "outputs": [
    {
     "data": {
      "text/plain": [
       "float"
      ]
     },
     "execution_count": 23,
     "metadata": {},
     "output_type": "execute_result"
    }
   ],
   "source": [
    "import math\n",
    "\n",
    "type(math.pi)"
   ]
  },
  {
   "cell_type": "code",
   "execution_count": 24,
   "metadata": {},
   "outputs": [
    {
     "data": {
      "text/plain": [
       "'3.14159265359'"
      ]
     },
     "execution_count": 24,
     "metadata": {},
     "output_type": "execute_result"
    }
   ],
   "source": [
    "format(math.pi, '.12g')"
   ]
  },
  {
   "cell_type": "code",
   "execution_count": 25,
   "metadata": {},
   "outputs": [
    {
     "data": {
      "text/plain": [
       "'3.14'"
      ]
     },
     "execution_count": 25,
     "metadata": {},
     "output_type": "execute_result"
    }
   ],
   "source": [
    "format(math.pi, '.2f')"
   ]
  },
  {
   "cell_type": "code",
   "execution_count": 26,
   "metadata": {},
   "outputs": [
    {
     "data": {
      "text/plain": [
       "'0.10000000000000001'"
      ]
     },
     "execution_count": 26,
     "metadata": {},
     "output_type": "execute_result"
    }
   ],
   "source": [
    "format(0.1, '.17f')"
   ]
  },
  {
   "cell_type": "code",
   "execution_count": 27,
   "metadata": {},
   "outputs": [
    {
     "data": {
      "text/plain": [
       "False"
      ]
     },
     "execution_count": 27,
     "metadata": {},
     "output_type": "execute_result"
    }
   ],
   "source": [
    "0.1 + 0.1 + 0.1 == 0.3"
   ]
  },
  {
   "cell_type": "code",
   "execution_count": 28,
   "metadata": {},
   "outputs": [
    {
     "data": {
      "text/plain": [
       "True"
      ]
     },
     "execution_count": 28,
     "metadata": {},
     "output_type": "execute_result"
    }
   ],
   "source": [
    "round(0.1 + 0.1 + 0.1, 10) == round(0.3, 10)"
   ]
  },
  {
   "cell_type": "code",
   "execution_count": null,
   "metadata": {},
   "outputs": [],
   "source": [
    "(0.1).as_integer_ratio()"
   ]
  },
  {
   "cell_type": "code",
   "execution_count": null,
   "metadata": {},
   "outputs": [],
   "source": [
    "from decimal import getcontext, Decimal\n",
    "getcontext().prec = 6\n",
    "Decimal(1)/Decimal(7)"
   ]
  },
  {
   "cell_type": "code",
   "execution_count": null,
   "metadata": {},
   "outputs": [],
   "source": [
    "getcontext().prec = 28\n",
    "Decimal(1)/Decimal(7)"
   ]
  },
  {
   "cell_type": "code",
   "execution_count": null,
   "metadata": {},
   "outputs": [],
   "source": [
    "getcontext().prec = 2\n",
    "Decimal(1)/Decimal(7)"
   ]
  },
  {
   "cell_type": "code",
   "execution_count": null,
   "metadata": {},
   "outputs": [],
   "source": [
    "from fractions import Fraction\n",
    "Fraction.from_float(0.25)"
   ]
  },
  {
   "cell_type": "code",
   "execution_count": null,
   "metadata": {},
   "outputs": [],
   "source": [
    "Fraction.from_float(0.33333)"
   ]
  },
  {
   "cell_type": "markdown",
   "metadata": {},
   "source": [
    "# More Python\n",
    "\n",
    "## Useful Built In Functions\n",
    "\n",
    "|               |             |              |              |                |\n",
    "|---------------|-------------|--------------|--------------|----------------|\n",
    "| abs()         | delattr()   | hash()       | memoryview() | set()          |\n",
    "| all()         | dict()      | help()       | min()        | setattr()      |\n",
    "| any()         | dir()       | hex()        | next()       | slice()        |\n",
    "| ascii()       | divmod()    | id()         | object()     | sorted()       |\n",
    "| bin()         | enumerate() | input()      | oct()        | staticmethod() |\n",
    "| bool()        | eval()      | int()        | open()       | str()          |\n",
    "| breakpoint()  | exec()      | isinstance() | ord()        | sum()          |\n",
    "| bytearray()   | filter()    | issubclass() | pow()        | super()        |\n",
    "| bytes()       | float()     | iter()       | print()      | tuple()        |\n",
    "| callable()    | format()    | len()        | property()   | type()         |\n",
    "| chr()         | frozenset() | list()       | range()      | vars()         |\n",
    "| classmethod() | getattr()   | locals()     | repr()       | zip()          |\n",
    "| compile()     | globals()   | map()        | reversed()   | \\__import__()   |\n",
    "| complex()     | hasattr()   | max()        | round()      |                |"
   ]
  },
  {
   "cell_type": "markdown",
   "metadata": {},
   "source": [
    "### `abs(x)` -> returns absolute value of x   \n"
   ]
  },
  {
   "cell_type": "code",
   "execution_count": null,
   "metadata": {},
   "outputs": [],
   "source": [
    "abs(10)"
   ]
  },
  {
   "cell_type": "code",
   "execution_count": null,
   "metadata": {},
   "outputs": [],
   "source": [
    "abs(-10)"
   ]
  },
  {
   "cell_type": "code",
   "execution_count": null,
   "metadata": {},
   "outputs": [],
   "source": [
    "abs(0)"
   ]
  },
  {
   "cell_type": "markdown",
   "metadata": {},
   "source": [
    "### `bool(x)` -> casts x as bool "
   ]
  },
  {
   "cell_type": "code",
   "execution_count": 30,
   "metadata": {},
   "outputs": [
    {
     "data": {
      "text/plain": [
       "(False, True, False)"
      ]
     },
     "execution_count": 30,
     "metadata": {},
     "output_type": "execute_result"
    }
   ],
   "source": [
    "bool(0), bool(\" \"), bool(None)"
   ]
  },
  {
   "cell_type": "code",
   "execution_count": null,
   "metadata": {},
   "outputs": [],
   "source": [
    "bool(1), bool(24)"
   ]
  },
  {
   "cell_type": "code",
   "execution_count": 31,
   "metadata": {},
   "outputs": [
    {
     "data": {
      "text/plain": [
       "(True, True, True)"
      ]
     },
     "execution_count": 31,
     "metadata": {},
     "output_type": "execute_result"
    }
   ],
   "source": [
    "bool(True), bool(4), bool(\"s\")"
   ]
  },
  {
   "cell_type": "markdown",
   "metadata": {},
   "source": [
    "### `callable(x)` -> returns True if x is a function  \n"
   ]
  },
  {
   "cell_type": "code",
   "execution_count": 32,
   "metadata": {},
   "outputs": [
    {
     "data": {
      "text/plain": [
       "True"
      ]
     },
     "execution_count": 32,
     "metadata": {},
     "output_type": "execute_result"
    }
   ],
   "source": [
    "callable(print)"
   ]
  },
  {
   "cell_type": "code",
   "execution_count": 33,
   "metadata": {},
   "outputs": [
    {
     "data": {
      "text/plain": [
       "True"
      ]
     },
     "execution_count": 33,
     "metadata": {},
     "output_type": "execute_result"
    }
   ],
   "source": [
    "callable(bool)"
   ]
  },
  {
   "cell_type": "code",
   "execution_count": 34,
   "metadata": {},
   "outputs": [
    {
     "data": {
      "text/plain": [
       "False"
      ]
     },
     "execution_count": 34,
     "metadata": {},
     "output_type": "execute_result"
    }
   ],
   "source": [
    "s = \"string\"\n",
    "callable(s)"
   ]
  },
  {
   "cell_type": "markdown",
   "metadata": {},
   "source": [
    "### `dict()` -> returns dict  "
   ]
  },
  {
   "cell_type": "code",
   "execution_count": 35,
   "metadata": {},
   "outputs": [
    {
     "data": {
      "text/plain": [
       "dict"
      ]
     },
     "execution_count": 35,
     "metadata": {},
     "output_type": "execute_result"
    }
   ],
   "source": [
    "d = dict()\n",
    "type(d)"
   ]
  },
  {
   "cell_type": "markdown",
   "metadata": {},
   "source": [
    "### `dir(x)` -> returns attributes and methods of object x  "
   ]
  },
  {
   "cell_type": "code",
   "execution_count": 36,
   "metadata": {},
   "outputs": [
    {
     "data": {
      "text/plain": [
       "['In',\n",
       " 'Out',\n",
       " '_',\n",
       " '_1',\n",
       " '_11',\n",
       " '_15',\n",
       " '_16',\n",
       " '_17',\n",
       " '_18',\n",
       " '_19',\n",
       " '_21',\n",
       " '_22',\n",
       " '_23',\n",
       " '_24',\n",
       " '_25',\n",
       " '_26',\n",
       " '_27',\n",
       " '_28',\n",
       " '_29',\n",
       " '_30',\n",
       " '_31',\n",
       " '_32',\n",
       " '_33',\n",
       " '_34',\n",
       " '_35',\n",
       " '_5',\n",
       " '_8',\n",
       " '__',\n",
       " '___',\n",
       " '__builtin__',\n",
       " '__builtins__',\n",
       " '__doc__',\n",
       " '__loader__',\n",
       " '__name__',\n",
       " '__package__',\n",
       " '__spec__',\n",
       " '_dh',\n",
       " '_i',\n",
       " '_i1',\n",
       " '_i10',\n",
       " '_i11',\n",
       " '_i12',\n",
       " '_i13',\n",
       " '_i14',\n",
       " '_i15',\n",
       " '_i16',\n",
       " '_i17',\n",
       " '_i18',\n",
       " '_i19',\n",
       " '_i2',\n",
       " '_i20',\n",
       " '_i21',\n",
       " '_i22',\n",
       " '_i23',\n",
       " '_i24',\n",
       " '_i25',\n",
       " '_i26',\n",
       " '_i27',\n",
       " '_i28',\n",
       " '_i29',\n",
       " '_i3',\n",
       " '_i30',\n",
       " '_i31',\n",
       " '_i32',\n",
       " '_i33',\n",
       " '_i34',\n",
       " '_i35',\n",
       " '_i36',\n",
       " '_i4',\n",
       " '_i5',\n",
       " '_i6',\n",
       " '_i7',\n",
       " '_i8',\n",
       " '_i9',\n",
       " '_ih',\n",
       " '_ii',\n",
       " '_iii',\n",
       " '_oh',\n",
       " 'cost_of_labor',\n",
       " 'cost_supplies',\n",
       " 'd',\n",
       " 'exit',\n",
       " 'get_ipython',\n",
       " 'math',\n",
       " 'p',\n",
       " 'q',\n",
       " 'quit',\n",
       " 's',\n",
       " 'w',\n",
       " 'x',\n",
       " 'y']"
      ]
     },
     "execution_count": 36,
     "metadata": {},
     "output_type": "execute_result"
    }
   ],
   "source": [
    "dir()"
   ]
  },
  {
   "cell_type": "code",
   "execution_count": null,
   "metadata": {},
   "outputs": [],
   "source": [
    "dir(help)"
   ]
  },
  {
   "cell_type": "markdown",
   "metadata": {},
   "source": [
    " ### `float(x)` -> casts x to a float  "
   ]
  },
  {
   "cell_type": "code",
   "execution_count": 37,
   "metadata": {},
   "outputs": [
    {
     "data": {
      "text/plain": [
       "1.0"
      ]
     },
     "execution_count": 37,
     "metadata": {},
     "output_type": "execute_result"
    }
   ],
   "source": [
    "float(1)"
   ]
  },
  {
   "cell_type": "code",
   "execution_count": 38,
   "metadata": {},
   "outputs": [
    {
     "data": {
      "text/plain": [
       "1.0"
      ]
     },
     "execution_count": 38,
     "metadata": {},
     "output_type": "execute_result"
    }
   ],
   "source": [
    "float(\"1\")"
   ]
  },
  {
   "cell_type": "code",
   "execution_count": 39,
   "metadata": {},
   "outputs": [
    {
     "ename": "ValueError",
     "evalue": "could not convert string to float: 's'",
     "output_type": "error",
     "traceback": [
      "\u001b[0;31m---------------------------------------------------------------------------\u001b[0m",
      "\u001b[0;31mValueError\u001b[0m                                Traceback (most recent call last)",
      "\u001b[0;32m<ipython-input-39-817e6ea32519>\u001b[0m in \u001b[0;36m<module>\u001b[0;34m\u001b[0m\n\u001b[0;32m----> 1\u001b[0;31m \u001b[0mfloat\u001b[0m\u001b[0;34m(\u001b[0m\u001b[0;34m\"s\"\u001b[0m\u001b[0;34m)\u001b[0m\u001b[0;34m\u001b[0m\u001b[0;34m\u001b[0m\u001b[0m\n\u001b[0m",
      "\u001b[0;31mValueError\u001b[0m: could not convert string to float: 's'"
     ]
    }
   ],
   "source": [
    "float(\"s\")"
   ]
  },
  {
   "cell_type": "markdown",
   "metadata": {},
   "source": [
    "\n",
    "### `hex(x)` -> casts int x as a hex   \n"
   ]
  },
  {
   "cell_type": "code",
   "execution_count": 40,
   "metadata": {},
   "outputs": [
    {
     "data": {
      "text/plain": [
       "'0x0'"
      ]
     },
     "execution_count": 40,
     "metadata": {},
     "output_type": "execute_result"
    }
   ],
   "source": [
    "hex(0)"
   ]
  },
  {
   "cell_type": "code",
   "execution_count": 41,
   "metadata": {},
   "outputs": [
    {
     "ename": "TypeError",
     "evalue": "'float' object cannot be interpreted as an integer",
     "output_type": "error",
     "traceback": [
      "\u001b[0;31m---------------------------------------------------------------------------\u001b[0m",
      "\u001b[0;31mTypeError\u001b[0m                                 Traceback (most recent call last)",
      "\u001b[0;32m<ipython-input-41-527c8167b553>\u001b[0m in \u001b[0;36m<module>\u001b[0;34m\u001b[0m\n\u001b[0;32m----> 1\u001b[0;31m \u001b[0mhex\u001b[0m\u001b[0;34m(\u001b[0m\u001b[0;36m0.0\u001b[0m\u001b[0;34m)\u001b[0m\u001b[0;34m\u001b[0m\u001b[0;34m\u001b[0m\u001b[0m\n\u001b[0m",
      "\u001b[0;31mTypeError\u001b[0m: 'float' object cannot be interpreted as an integer"
     ]
    }
   ],
   "source": [
    "hex(0.0)"
   ]
  },
  {
   "cell_type": "code",
   "execution_count": null,
   "metadata": {},
   "outputs": [],
   "source": [
    "hex(\"0\")"
   ]
  },
  {
   "cell_type": "markdown",
   "metadata": {},
   "source": [
    "### `id(x)` -> returns id for object x  \n"
   ]
  },
  {
   "cell_type": "code",
   "execution_count": 42,
   "metadata": {},
   "outputs": [
    {
     "name": "stdout",
     "output_type": "stream",
     "text": [
      "strin\n"
     ]
    },
    {
     "data": {
      "text/plain": [
       "(4439635440, 4439635440, 4545199088, 4545199088, 4527387120, 4527388272)"
      ]
     },
     "execution_count": 42,
     "metadata": {},
     "output_type": "execute_result"
    }
   ],
   "source": [
    "s = \"string\"\n",
    "d = \"string\"\n",
    "e = \"strin\"\n",
    "f = e[:]\n",
    "g = s[:-1]\n",
    "h = d[:-1]\n",
    "print(f)\n",
    "id(s), id(d), id(e), id(f), id(g), id(h)"
   ]
  },
  {
   "cell_type": "code",
   "execution_count": 43,
   "metadata": {},
   "outputs": [
    {
     "data": {
      "text/plain": [
       "True"
      ]
     },
     "execution_count": 43,
     "metadata": {},
     "output_type": "execute_result"
    }
   ],
   "source": [
    "s is d"
   ]
  },
  {
   "cell_type": "code",
   "execution_count": 44,
   "metadata": {},
   "outputs": [
    {
     "data": {
      "text/plain": [
       "True"
      ]
     },
     "execution_count": 44,
     "metadata": {},
     "output_type": "execute_result"
    }
   ],
   "source": [
    "s == d"
   ]
  },
  {
   "cell_type": "code",
   "execution_count": 45,
   "metadata": {},
   "outputs": [
    {
     "data": {
      "text/plain": [
       "True"
      ]
     },
     "execution_count": 45,
     "metadata": {},
     "output_type": "execute_result"
    }
   ],
   "source": [
    "e == g"
   ]
  },
  {
   "cell_type": "code",
   "execution_count": 46,
   "metadata": {},
   "outputs": [
    {
     "data": {
      "text/plain": [
       "False"
      ]
     },
     "execution_count": 46,
     "metadata": {},
     "output_type": "execute_result"
    }
   ],
   "source": [
    "e is g"
   ]
  },
  {
   "cell_type": "code",
   "execution_count": 47,
   "metadata": {},
   "outputs": [
    {
     "data": {
      "text/plain": [
       "(4545198464, 4545156352)"
      ]
     },
     "execution_count": 47,
     "metadata": {},
     "output_type": "execute_result"
    }
   ],
   "source": [
    "s = [4, 5]\n",
    "d = [4, 5]\n",
    "id(s), id(d)"
   ]
  },
  {
   "cell_type": "code",
   "execution_count": 48,
   "metadata": {},
   "outputs": [
    {
     "data": {
      "text/plain": [
       "False"
      ]
     },
     "execution_count": 48,
     "metadata": {},
     "output_type": "execute_result"
    }
   ],
   "source": [
    "s is d"
   ]
  },
  {
   "cell_type": "code",
   "execution_count": 49,
   "metadata": {},
   "outputs": [
    {
     "data": {
      "text/plain": [
       "True"
      ]
     },
     "execution_count": 49,
     "metadata": {},
     "output_type": "execute_result"
    }
   ],
   "source": [
    "s == d"
   ]
  },
  {
   "cell_type": "markdown",
   "metadata": {},
   "source": [
    "### `input()`  -> returns user input"
   ]
  },
  {
   "cell_type": "code",
   "execution_count": null,
   "metadata": {},
   "outputs": [],
   "source": [
    "input()"
   ]
  },
  {
   "cell_type": "code",
   "execution_count": null,
   "metadata": {},
   "outputs": [],
   "source": [
    "s = input()"
   ]
  },
  {
   "cell_type": "code",
   "execution_count": null,
   "metadata": {},
   "outputs": [],
   "source": [
    "s"
   ]
  },
  {
   "cell_type": "markdown",
   "metadata": {},
   "source": [
    "### `int(x)` -> casts x as int  "
   ]
  },
  {
   "cell_type": "code",
   "execution_count": 50,
   "metadata": {},
   "outputs": [
    {
     "data": {
      "text/plain": [
       "0"
      ]
     },
     "execution_count": 50,
     "metadata": {},
     "output_type": "execute_result"
    }
   ],
   "source": [
    "int(0)"
   ]
  },
  {
   "cell_type": "code",
   "execution_count": 51,
   "metadata": {},
   "outputs": [
    {
     "data": {
      "text/plain": [
       "1"
      ]
     },
     "execution_count": 51,
     "metadata": {},
     "output_type": "execute_result"
    }
   ],
   "source": [
    "int(\"1\")"
   ]
  },
  {
   "cell_type": "code",
   "execution_count": null,
   "metadata": {},
   "outputs": [],
   "source": [
    "int(True)"
   ]
  },
  {
   "cell_type": "markdown",
   "metadata": {},
   "source": [
    "### `len(x)` -> returns count of x  "
   ]
  },
  {
   "cell_type": "code",
   "execution_count": 52,
   "metadata": {},
   "outputs": [
    {
     "data": {
      "text/plain": [
       "6"
      ]
     },
     "execution_count": 52,
     "metadata": {},
     "output_type": "execute_result"
    }
   ],
   "source": [
    "len(\"string\")"
   ]
  },
  {
   "cell_type": "code",
   "execution_count": 53,
   "metadata": {},
   "outputs": [
    {
     "data": {
      "text/plain": [
       "4"
      ]
     },
     "execution_count": 53,
     "metadata": {},
     "output_type": "execute_result"
    }
   ],
   "source": [
    "len([1,2,3,4])"
   ]
  },
  {
   "cell_type": "code",
   "execution_count": 54,
   "metadata": {},
   "outputs": [
    {
     "data": {
      "text/plain": [
       "4"
      ]
     },
     "execution_count": 54,
     "metadata": {},
     "output_type": "execute_result"
    }
   ],
   "source": [
    "len((1,2,3,4))"
   ]
  },
  {
   "cell_type": "code",
   "execution_count": 55,
   "metadata": {},
   "outputs": [
    {
     "data": {
      "text/plain": [
       "2"
      ]
     },
     "execution_count": 55,
     "metadata": {},
     "output_type": "execute_result"
    }
   ],
   "source": [
    "len({'a':1, 'b':2})"
   ]
  },
  {
   "cell_type": "markdown",
   "metadata": {},
   "source": [
    "### `list()`  -> returns list"
   ]
  },
  {
   "cell_type": "code",
   "execution_count": 56,
   "metadata": {},
   "outputs": [],
   "source": [
    "l = list()"
   ]
  },
  {
   "cell_type": "code",
   "execution_count": 57,
   "metadata": {},
   "outputs": [],
   "source": [
    "l.append(4)"
   ]
  },
  {
   "cell_type": "code",
   "execution_count": 58,
   "metadata": {},
   "outputs": [
    {
     "data": {
      "text/plain": [
       "[4]"
      ]
     },
     "execution_count": 58,
     "metadata": {},
     "output_type": "execute_result"
    }
   ],
   "source": [
    "l"
   ]
  },
  {
   "cell_type": "markdown",
   "metadata": {},
   "source": [
    "### `pow(x, y)` -> returns x to the y power  "
   ]
  },
  {
   "cell_type": "code",
   "execution_count": 59,
   "metadata": {},
   "outputs": [
    {
     "data": {
      "text/plain": [
       "16"
      ]
     },
     "execution_count": 59,
     "metadata": {},
     "output_type": "execute_result"
    }
   ],
   "source": [
    "pow(2,4)"
   ]
  },
  {
   "cell_type": "code",
   "execution_count": 60,
   "metadata": {},
   "outputs": [
    {
     "data": {
      "text/plain": [
       "625"
      ]
     },
     "execution_count": 60,
     "metadata": {},
     "output_type": "execute_result"
    }
   ],
   "source": [
    "pow(25,2)"
   ]
  },
  {
   "cell_type": "markdown",
   "metadata": {},
   "source": [
    "### `print()`  -> prints argument"
   ]
  },
  {
   "cell_type": "code",
   "execution_count": 61,
   "metadata": {},
   "outputs": [
    {
     "name": "stdout",
     "output_type": "stream",
     "text": [
      "hello\n"
     ]
    }
   ],
   "source": [
    "print(\"hello\")"
   ]
  },
  {
   "cell_type": "code",
   "execution_count": 62,
   "metadata": {},
   "outputs": [
    {
     "name": "stdout",
     "output_type": "stream",
     "text": [
      "25\n"
     ]
    }
   ],
   "source": [
    "print(25)"
   ]
  },
  {
   "cell_type": "code",
   "execution_count": 63,
   "metadata": {},
   "outputs": [
    {
     "name": "stdout",
     "output_type": "stream",
     "text": [
      "True\n"
     ]
    }
   ],
   "source": [
    "print(True)"
   ]
  },
  {
   "cell_type": "markdown",
   "metadata": {},
   "source": [
    "### `range()`  returns iterable of sequential values"
   ]
  },
  {
   "cell_type": "code",
   "execution_count": 64,
   "metadata": {},
   "outputs": [
    {
     "data": {
      "text/plain": [
       "range(0, 100)"
      ]
     },
     "execution_count": 64,
     "metadata": {},
     "output_type": "execute_result"
    }
   ],
   "source": [
    "range(100)"
   ]
  },
  {
   "cell_type": "code",
   "execution_count": 65,
   "metadata": {},
   "outputs": [
    {
     "data": {
      "text/plain": [
       "range(5, 10)"
      ]
     },
     "execution_count": 65,
     "metadata": {},
     "output_type": "execute_result"
    }
   ],
   "source": [
    "range(5,10)"
   ]
  },
  {
   "cell_type": "code",
   "execution_count": 66,
   "metadata": {},
   "outputs": [
    {
     "data": {
      "text/plain": [
       "[0, 1, 2, 3, 4, 5, 6, 7, 8, 9]"
      ]
     },
     "execution_count": 66,
     "metadata": {},
     "output_type": "execute_result"
    }
   ],
   "source": [
    "[i for i in range(10)]"
   ]
  },
  {
   "cell_type": "markdown",
   "metadata": {},
   "source": [
    "### `round(x)` -> returns x rounded to nearest"
   ]
  },
  {
   "cell_type": "code",
   "execution_count": null,
   "metadata": {},
   "outputs": [],
   "source": [
    "round(132320.0324534521, 10)"
   ]
  },
  {
   "cell_type": "markdown",
   "metadata": {},
   "source": [
    "### `set()` "
   ]
  },
  {
   "cell_type": "code",
   "execution_count": 67,
   "metadata": {},
   "outputs": [],
   "source": [
    "s = set()"
   ]
  },
  {
   "cell_type": "code",
   "execution_count": 68,
   "metadata": {},
   "outputs": [],
   "source": [
    "s.add(4)"
   ]
  },
  {
   "cell_type": "code",
   "execution_count": 69,
   "metadata": {},
   "outputs": [
    {
     "data": {
      "text/plain": [
       "{4}"
      ]
     },
     "execution_count": 69,
     "metadata": {},
     "output_type": "execute_result"
    }
   ],
   "source": [
    "s"
   ]
  },
  {
   "cell_type": "markdown",
   "metadata": {},
   "source": [
    "### `str(x)`  -> casts x as string"
   ]
  },
  {
   "cell_type": "code",
   "execution_count": null,
   "metadata": {},
   "outputs": [],
   "source": [
    "str(718)"
   ]
  },
  {
   "cell_type": "code",
   "execution_count": null,
   "metadata": {},
   "outputs": [],
   "source": [
    "str(True)"
   ]
  },
  {
   "cell_type": "code",
   "execution_count": null,
   "metadata": {},
   "outputs": [],
   "source": [
    "str([2,3,4,5])"
   ]
  },
  {
   "cell_type": "code",
   "execution_count": null,
   "metadata": {},
   "outputs": [],
   "source": [
    "t"
   ]
  },
  {
   "cell_type": "markdown",
   "metadata": {},
   "source": [
    "### `type()`  "
   ]
  },
  {
   "cell_type": "code",
   "execution_count": null,
   "metadata": {},
   "outputs": [],
   "source": [
    "type(\"string\")"
   ]
  },
  {
   "cell_type": "markdown",
   "metadata": {},
   "source": [
    "### Dunder methods"
   ]
  },
  {
   "cell_type": "code",
   "execution_count": null,
   "metadata": {},
   "outputs": [],
   "source": [
    "s = str()\n",
    "[i for i in dir(s) if i.endswith('_')]"
   ]
  },
  {
   "cell_type": "code",
   "execution_count": null,
   "metadata": {},
   "outputs": [],
   "source": [
    "print(s.__doc__)"
   ]
  },
  {
   "cell_type": "code",
   "execution_count": null,
   "metadata": {},
   "outputs": [],
   "source": [
    "print(s.__str__)"
   ]
  },
  {
   "cell_type": "code",
   "execution_count": null,
   "metadata": {},
   "outputs": [],
   "source": [
    "print(s.__repr__)"
   ]
  },
  {
   "cell_type": "code",
   "execution_count": 70,
   "metadata": {},
   "outputs": [
    {
     "name": "stdout",
     "output_type": "stream",
     "text": [
      "<method-wrapper '__len__' of set object at 0x10dda59e0>\n"
     ]
    }
   ],
   "source": [
    "print(s.__len__)"
   ]
  },
  {
   "cell_type": "code",
   "execution_count": null,
   "metadata": {},
   "outputs": [],
   "source": [
    "print(s.__class__)"
   ]
  },
  {
   "cell_type": "code",
   "execution_count": null,
   "metadata": {},
   "outputs": [],
   "source": [
    "print(s.__dir__)"
   ]
  },
  {
   "cell_type": "code",
   "execution_count": null,
   "metadata": {},
   "outputs": [],
   "source": [
    "print(s.__init__)"
   ]
  },
  {
   "cell_type": "code",
   "execution_count": null,
   "metadata": {
    "scrolled": true
   },
   "outputs": [],
   "source": [
    "bool.__doc__"
   ]
  },
  {
   "cell_type": "markdown",
   "metadata": {},
   "source": [
    "# Built In Exceptions"
   ]
  },
  {
   "cell_type": "code",
   "execution_count": null,
   "metadata": {},
   "outputs": [],
   "source": [
    "\"123\"[9]"
   ]
  },
  {
   "cell_type": "code",
   "execution_count": null,
   "metadata": {},
   "outputs": [],
   "source": [
    "try:\n",
    "    \"123\"[9]\n",
    "except Exception as e:\n",
    "    print(e)"
   ]
  },
  {
   "cell_type": "code",
   "execution_count": null,
   "metadata": {},
   "outputs": [],
   "source": [
    "raise Exception"
   ]
  },
  {
   "cell_type": "code",
   "execution_count": null,
   "metadata": {},
   "outputs": [],
   "source": [
    "type(Exception)"
   ]
  },
  {
   "cell_type": "markdown",
   "metadata": {},
   "source": [
    "# Python Documentation"
   ]
  },
  {
   "cell_type": "code",
   "execution_count": 73,
   "metadata": {
    "scrolled": true
   },
   "outputs": [
    {
     "name": "stdout",
     "output_type": "stream",
     "text": [
      "No Python documentation found for 'strin'.\n",
      "Use help() to get the interactive help utility.\n",
      "Use help(str) for help on the str class.\n",
      "\n"
     ]
    }
   ],
   "source": [
    "help(f)"
   ]
  },
  {
   "cell_type": "markdown",
   "metadata": {},
   "source": [
    "<div style=\"background: #000;\n",
    "            color: #FFF;\n",
    "            margin: 0px;\n",
    "                padding: 10px 0px 20px 0px;\n",
    "            text-align: center; \n",
    "                \">\n",
    "    <h1>Extended Lab</h1>\n",
    "</div>\n"
   ]
  },
  {
   "cell_type": "markdown",
   "metadata": {},
   "source": [
    "### Question 1: \n",
    "\n",
    "Explain what data types are in your own words."
   ]
  },
  {
   "cell_type": "markdown",
   "metadata": {},
   "source": [
    "Data types are the way we classify items/data. Depending on the type of data type we use, we will be able to determine what value to assign to it and what operation will be performed to it. Specfic data types tells the compiler how it plans to use the data."
   ]
  },
  {
   "cell_type": "markdown",
   "metadata": {},
   "source": [
    "## Question 2:\n",
    "\n",
    "In your own words, explain what a float is and why sometimes it gives an incorrect value."
   ]
  },
  {
   "cell_type": "markdown",
   "metadata": {},
   "source": [
    "Floats are decimals numbers. For floats that are representing a fraction with an infinite number of decimals, python will cut off the decimals at some point by rounding. This not only means that the decimal numbers are not being represented accurately but also makes python produce rounding errors for certain decimal numbers. "
   ]
  },
  {
   "cell_type": "markdown",
   "metadata": {},
   "source": [
    "### Exercise 1:\n",
    "\n",
    "Store your first name, in lowercase, in a variable.\n",
    "Using that one variable, print your name in lowercase, Titlecase, and UPPERCASE.\n"
   ]
  },
  {
   "cell_type": "code",
   "execution_count": 74,
   "metadata": {},
   "outputs": [
    {
     "name": "stdout",
     "output_type": "stream",
     "text": [
      "claudia\n",
      "Claudia\n",
      "CLAUDIA\n"
     ]
    }
   ],
   "source": [
    "name = \"claudia\"\n",
    "print(name.lower())\n",
    "print(name.title())\n",
    "print(name.upper())"
   ]
  },
  {
   "cell_type": "markdown",
   "metadata": {},
   "source": [
    "### Exercise 2:\n",
    "\n",
    "Find a quote that you like. Store the quote in a variable, with an appropriate introduction such as \"Ken Thompson once said, 'One of my most productive days was throwing away 1000 lines of code'\". Print the quote 1000 times."
   ]
  },
  {
   "cell_type": "code",
   "execution_count": 75,
   "metadata": {},
   "outputs": [
    {
     "name": "stdout",
     "output_type": "stream",
     "text": [
      "Brene Brown once said, \"Vulnerability is not winning or losing; it is having the courage to show up and be seen when we have no control over the outcome\"\n",
      "Brene Brown once said, \"Vulnerability is not winning or losing; it is having the courage to show up and be seen when we have no control over the outcome\"\n",
      "Brene Brown once said, \"Vulnerability is not winning or losing; it is having the courage to show up and be seen when we have no control over the outcome\"\n",
      "Brene Brown once said, \"Vulnerability is not winning or losing; it is having the courage to show up and be seen when we have no control over the outcome\"\n",
      "Brene Brown once said, \"Vulnerability is not winning or losing; it is having the courage to show up and be seen when we have no control over the outcome\"\n",
      "Brene Brown once said, \"Vulnerability is not winning or losing; it is having the courage to show up and be seen when we have no control over the outcome\"\n",
      "Brene Brown once said, \"Vulnerability is not winning or losing; it is having the courage to show up and be seen when we have no control over the outcome\"\n",
      "Brene Brown once said, \"Vulnerability is not winning or losing; it is having the courage to show up and be seen when we have no control over the outcome\"\n",
      "Brene Brown once said, \"Vulnerability is not winning or losing; it is having the courage to show up and be seen when we have no control over the outcome\"\n",
      "Brene Brown once said, \"Vulnerability is not winning or losing; it is having the courage to show up and be seen when we have no control over the outcome\"\n",
      "Brene Brown once said, \"Vulnerability is not winning or losing; it is having the courage to show up and be seen when we have no control over the outcome\"\n",
      "Brene Brown once said, \"Vulnerability is not winning or losing; it is having the courage to show up and be seen when we have no control over the outcome\"\n",
      "Brene Brown once said, \"Vulnerability is not winning or losing; it is having the courage to show up and be seen when we have no control over the outcome\"\n",
      "Brene Brown once said, \"Vulnerability is not winning or losing; it is having the courage to show up and be seen when we have no control over the outcome\"\n",
      "Brene Brown once said, \"Vulnerability is not winning or losing; it is having the courage to show up and be seen when we have no control over the outcome\"\n",
      "Brene Brown once said, \"Vulnerability is not winning or losing; it is having the courage to show up and be seen when we have no control over the outcome\"\n",
      "Brene Brown once said, \"Vulnerability is not winning or losing; it is having the courage to show up and be seen when we have no control over the outcome\"\n",
      "Brene Brown once said, \"Vulnerability is not winning or losing; it is having the courage to show up and be seen when we have no control over the outcome\"\n",
      "Brene Brown once said, \"Vulnerability is not winning or losing; it is having the courage to show up and be seen when we have no control over the outcome\"\n",
      "Brene Brown once said, \"Vulnerability is not winning or losing; it is having the courage to show up and be seen when we have no control over the outcome\"\n",
      "Brene Brown once said, \"Vulnerability is not winning or losing; it is having the courage to show up and be seen when we have no control over the outcome\"\n",
      "Brene Brown once said, \"Vulnerability is not winning or losing; it is having the courage to show up and be seen when we have no control over the outcome\"\n",
      "Brene Brown once said, \"Vulnerability is not winning or losing; it is having the courage to show up and be seen when we have no control over the outcome\"\n",
      "Brene Brown once said, \"Vulnerability is not winning or losing; it is having the courage to show up and be seen when we have no control over the outcome\"\n",
      "Brene Brown once said, \"Vulnerability is not winning or losing; it is having the courage to show up and be seen when we have no control over the outcome\"\n",
      "Brene Brown once said, \"Vulnerability is not winning or losing; it is having the courage to show up and be seen when we have no control over the outcome\"\n",
      "Brene Brown once said, \"Vulnerability is not winning or losing; it is having the courage to show up and be seen when we have no control over the outcome\"\n",
      "Brene Brown once said, \"Vulnerability is not winning or losing; it is having the courage to show up and be seen when we have no control over the outcome\"\n",
      "Brene Brown once said, \"Vulnerability is not winning or losing; it is having the courage to show up and be seen when we have no control over the outcome\"\n",
      "Brene Brown once said, \"Vulnerability is not winning or losing; it is having the courage to show up and be seen when we have no control over the outcome\"\n",
      "Brene Brown once said, \"Vulnerability is not winning or losing; it is having the courage to show up and be seen when we have no control over the outcome\"\n",
      "Brene Brown once said, \"Vulnerability is not winning or losing; it is having the courage to show up and be seen when we have no control over the outcome\"\n",
      "Brene Brown once said, \"Vulnerability is not winning or losing; it is having the courage to show up and be seen when we have no control over the outcome\"\n",
      "Brene Brown once said, \"Vulnerability is not winning or losing; it is having the courage to show up and be seen when we have no control over the outcome\"\n",
      "Brene Brown once said, \"Vulnerability is not winning or losing; it is having the courage to show up and be seen when we have no control over the outcome\"\n",
      "Brene Brown once said, \"Vulnerability is not winning or losing; it is having the courage to show up and be seen when we have no control over the outcome\"\n",
      "Brene Brown once said, \"Vulnerability is not winning or losing; it is having the courage to show up and be seen when we have no control over the outcome\"\n",
      "Brene Brown once said, \"Vulnerability is not winning or losing; it is having the courage to show up and be seen when we have no control over the outcome\"\n",
      "Brene Brown once said, \"Vulnerability is not winning or losing; it is having the courage to show up and be seen when we have no control over the outcome\"\n",
      "Brene Brown once said, \"Vulnerability is not winning or losing; it is having the courage to show up and be seen when we have no control over the outcome\"\n",
      "Brene Brown once said, \"Vulnerability is not winning or losing; it is having the courage to show up and be seen when we have no control over the outcome\"\n",
      "Brene Brown once said, \"Vulnerability is not winning or losing; it is having the courage to show up and be seen when we have no control over the outcome\"\n",
      "Brene Brown once said, \"Vulnerability is not winning or losing; it is having the courage to show up and be seen when we have no control over the outcome\"\n",
      "Brene Brown once said, \"Vulnerability is not winning or losing; it is having the courage to show up and be seen when we have no control over the outcome\"\n",
      "Brene Brown once said, \"Vulnerability is not winning or losing; it is having the courage to show up and be seen when we have no control over the outcome\"\n",
      "Brene Brown once said, \"Vulnerability is not winning or losing; it is having the courage to show up and be seen when we have no control over the outcome\"\n",
      "Brene Brown once said, \"Vulnerability is not winning or losing; it is having the courage to show up and be seen when we have no control over the outcome\"\n",
      "Brene Brown once said, \"Vulnerability is not winning or losing; it is having the courage to show up and be seen when we have no control over the outcome\"\n",
      "Brene Brown once said, \"Vulnerability is not winning or losing; it is having the courage to show up and be seen when we have no control over the outcome\"\n",
      "Brene Brown once said, \"Vulnerability is not winning or losing; it is having the courage to show up and be seen when we have no control over the outcome\"\n",
      "Brene Brown once said, \"Vulnerability is not winning or losing; it is having the courage to show up and be seen when we have no control over the outcome\"\n",
      "Brene Brown once said, \"Vulnerability is not winning or losing; it is having the courage to show up and be seen when we have no control over the outcome\"\n",
      "Brene Brown once said, \"Vulnerability is not winning or losing; it is having the courage to show up and be seen when we have no control over the outcome\"\n",
      "Brene Brown once said, \"Vulnerability is not winning or losing; it is having the courage to show up and be seen when we have no control over the outcome\"\n",
      "Brene Brown once said, \"Vulnerability is not winning or losing; it is having the courage to show up and be seen when we have no control over the outcome\"\n",
      "Brene Brown once said, \"Vulnerability is not winning or losing; it is having the courage to show up and be seen when we have no control over the outcome\"\n",
      "Brene Brown once said, \"Vulnerability is not winning or losing; it is having the courage to show up and be seen when we have no control over the outcome\"\n",
      "Brene Brown once said, \"Vulnerability is not winning or losing; it is having the courage to show up and be seen when we have no control over the outcome\"\n",
      "Brene Brown once said, \"Vulnerability is not winning or losing; it is having the courage to show up and be seen when we have no control over the outcome\"\n",
      "Brene Brown once said, \"Vulnerability is not winning or losing; it is having the courage to show up and be seen when we have no control over the outcome\"\n",
      "Brene Brown once said, \"Vulnerability is not winning or losing; it is having the courage to show up and be seen when we have no control over the outcome\"\n",
      "Brene Brown once said, \"Vulnerability is not winning or losing; it is having the courage to show up and be seen when we have no control over the outcome\"\n",
      "Brene Brown once said, \"Vulnerability is not winning or losing; it is having the courage to show up and be seen when we have no control over the outcome\"\n",
      "Brene Brown once said, \"Vulnerability is not winning or losing; it is having the courage to show up and be seen when we have no control over the outcome\"\n",
      "Brene Brown once said, \"Vulnerability is not winning or losing; it is having the courage to show up and be seen when we have no control over the outcome\"\n",
      "Brene Brown once said, \"Vulnerability is not winning or losing; it is having the courage to show up and be seen when we have no control over the outcome\"\n",
      "Brene Brown once said, \"Vulnerability is not winning or losing; it is having the courage to show up and be seen when we have no control over the outcome\"\n",
      "Brene Brown once said, \"Vulnerability is not winning or losing; it is having the courage to show up and be seen when we have no control over the outcome\"\n",
      "Brene Brown once said, \"Vulnerability is not winning or losing; it is having the courage to show up and be seen when we have no control over the outcome\"\n",
      "Brene Brown once said, \"Vulnerability is not winning or losing; it is having the courage to show up and be seen when we have no control over the outcome\"\n",
      "Brene Brown once said, \"Vulnerability is not winning or losing; it is having the courage to show up and be seen when we have no control over the outcome\"\n",
      "Brene Brown once said, \"Vulnerability is not winning or losing; it is having the courage to show up and be seen when we have no control over the outcome\"\n",
      "Brene Brown once said, \"Vulnerability is not winning or losing; it is having the courage to show up and be seen when we have no control over the outcome\"\n",
      "Brene Brown once said, \"Vulnerability is not winning or losing; it is having the courage to show up and be seen when we have no control over the outcome\"\n",
      "Brene Brown once said, \"Vulnerability is not winning or losing; it is having the courage to show up and be seen when we have no control over the outcome\"\n",
      "Brene Brown once said, \"Vulnerability is not winning or losing; it is having the courage to show up and be seen when we have no control over the outcome\"\n",
      "Brene Brown once said, \"Vulnerability is not winning or losing; it is having the courage to show up and be seen when we have no control over the outcome\"\n",
      "Brene Brown once said, \"Vulnerability is not winning or losing; it is having the courage to show up and be seen when we have no control over the outcome\"\n",
      "Brene Brown once said, \"Vulnerability is not winning or losing; it is having the courage to show up and be seen when we have no control over the outcome\"\n",
      "Brene Brown once said, \"Vulnerability is not winning or losing; it is having the courage to show up and be seen when we have no control over the outcome\"\n",
      "Brene Brown once said, \"Vulnerability is not winning or losing; it is having the courage to show up and be seen when we have no control over the outcome\"\n",
      "Brene Brown once said, \"Vulnerability is not winning or losing; it is having the courage to show up and be seen when we have no control over the outcome\"\n",
      "Brene Brown once said, \"Vulnerability is not winning or losing; it is having the courage to show up and be seen when we have no control over the outcome\"\n",
      "Brene Brown once said, \"Vulnerability is not winning or losing; it is having the courage to show up and be seen when we have no control over the outcome\"\n",
      "Brene Brown once said, \"Vulnerability is not winning or losing; it is having the courage to show up and be seen when we have no control over the outcome\"\n",
      "Brene Brown once said, \"Vulnerability is not winning or losing; it is having the courage to show up and be seen when we have no control over the outcome\"\n",
      "Brene Brown once said, \"Vulnerability is not winning or losing; it is having the courage to show up and be seen when we have no control over the outcome\"\n",
      "Brene Brown once said, \"Vulnerability is not winning or losing; it is having the courage to show up and be seen when we have no control over the outcome\"\n",
      "Brene Brown once said, \"Vulnerability is not winning or losing; it is having the courage to show up and be seen when we have no control over the outcome\"\n",
      "Brene Brown once said, \"Vulnerability is not winning or losing; it is having the courage to show up and be seen when we have no control over the outcome\"\n",
      "Brene Brown once said, \"Vulnerability is not winning or losing; it is having the courage to show up and be seen when we have no control over the outcome\"\n",
      "Brene Brown once said, \"Vulnerability is not winning or losing; it is having the courage to show up and be seen when we have no control over the outcome\"\n",
      "Brene Brown once said, \"Vulnerability is not winning or losing; it is having the courage to show up and be seen when we have no control over the outcome\"\n",
      "Brene Brown once said, \"Vulnerability is not winning or losing; it is having the courage to show up and be seen when we have no control over the outcome\"\n",
      "Brene Brown once said, \"Vulnerability is not winning or losing; it is having the courage to show up and be seen when we have no control over the outcome\"\n",
      "Brene Brown once said, \"Vulnerability is not winning or losing; it is having the courage to show up and be seen when we have no control over the outcome\"\n",
      "Brene Brown once said, \"Vulnerability is not winning or losing; it is having the courage to show up and be seen when we have no control over the outcome\"\n",
      "Brene Brown once said, \"Vulnerability is not winning or losing; it is having the courage to show up and be seen when we have no control over the outcome\"\n",
      "Brene Brown once said, \"Vulnerability is not winning or losing; it is having the courage to show up and be seen when we have no control over the outcome\"\n",
      "Brene Brown once said, \"Vulnerability is not winning or losing; it is having the courage to show up and be seen when we have no control over the outcome\"\n",
      "Brene Brown once said, \"Vulnerability is not winning or losing; it is having the courage to show up and be seen when we have no control over the outcome\"\n",
      "Brene Brown once said, \"Vulnerability is not winning or losing; it is having the courage to show up and be seen when we have no control over the outcome\"\n",
      "Brene Brown once said, \"Vulnerability is not winning or losing; it is having the courage to show up and be seen when we have no control over the outcome\"\n",
      "Brene Brown once said, \"Vulnerability is not winning or losing; it is having the courage to show up and be seen when we have no control over the outcome\"\n",
      "Brene Brown once said, \"Vulnerability is not winning or losing; it is having the courage to show up and be seen when we have no control over the outcome\"\n",
      "Brene Brown once said, \"Vulnerability is not winning or losing; it is having the courage to show up and be seen when we have no control over the outcome\"\n",
      "Brene Brown once said, \"Vulnerability is not winning or losing; it is having the courage to show up and be seen when we have no control over the outcome\"\n",
      "Brene Brown once said, \"Vulnerability is not winning or losing; it is having the courage to show up and be seen when we have no control over the outcome\"\n",
      "Brene Brown once said, \"Vulnerability is not winning or losing; it is having the courage to show up and be seen when we have no control over the outcome\"\n",
      "Brene Brown once said, \"Vulnerability is not winning or losing; it is having the courage to show up and be seen when we have no control over the outcome\"\n",
      "Brene Brown once said, \"Vulnerability is not winning or losing; it is having the courage to show up and be seen when we have no control over the outcome\"\n",
      "Brene Brown once said, \"Vulnerability is not winning or losing; it is having the courage to show up and be seen when we have no control over the outcome\"\n",
      "Brene Brown once said, \"Vulnerability is not winning or losing; it is having the courage to show up and be seen when we have no control over the outcome\"\n",
      "Brene Brown once said, \"Vulnerability is not winning or losing; it is having the courage to show up and be seen when we have no control over the outcome\"\n",
      "Brene Brown once said, \"Vulnerability is not winning or losing; it is having the courage to show up and be seen when we have no control over the outcome\"\n",
      "Brene Brown once said, \"Vulnerability is not winning or losing; it is having the courage to show up and be seen when we have no control over the outcome\"\n",
      "Brene Brown once said, \"Vulnerability is not winning or losing; it is having the courage to show up and be seen when we have no control over the outcome\"\n",
      "Brene Brown once said, \"Vulnerability is not winning or losing; it is having the courage to show up and be seen when we have no control over the outcome\"\n",
      "Brene Brown once said, \"Vulnerability is not winning or losing; it is having the courage to show up and be seen when we have no control over the outcome\"\n",
      "Brene Brown once said, \"Vulnerability is not winning or losing; it is having the courage to show up and be seen when we have no control over the outcome\"\n",
      "Brene Brown once said, \"Vulnerability is not winning or losing; it is having the courage to show up and be seen when we have no control over the outcome\"\n",
      "Brene Brown once said, \"Vulnerability is not winning or losing; it is having the courage to show up and be seen when we have no control over the outcome\"\n",
      "Brene Brown once said, \"Vulnerability is not winning or losing; it is having the courage to show up and be seen when we have no control over the outcome\"\n",
      "Brene Brown once said, \"Vulnerability is not winning or losing; it is having the courage to show up and be seen when we have no control over the outcome\"\n",
      "Brene Brown once said, \"Vulnerability is not winning or losing; it is having the courage to show up and be seen when we have no control over the outcome\"\n",
      "Brene Brown once said, \"Vulnerability is not winning or losing; it is having the courage to show up and be seen when we have no control over the outcome\"\n",
      "Brene Brown once said, \"Vulnerability is not winning or losing; it is having the courage to show up and be seen when we have no control over the outcome\"\n",
      "Brene Brown once said, \"Vulnerability is not winning or losing; it is having the courage to show up and be seen when we have no control over the outcome\"\n",
      "Brene Brown once said, \"Vulnerability is not winning or losing; it is having the courage to show up and be seen when we have no control over the outcome\"\n",
      "Brene Brown once said, \"Vulnerability is not winning or losing; it is having the courage to show up and be seen when we have no control over the outcome\"\n",
      "Brene Brown once said, \"Vulnerability is not winning or losing; it is having the courage to show up and be seen when we have no control over the outcome\"\n",
      "Brene Brown once said, \"Vulnerability is not winning or losing; it is having the courage to show up and be seen when we have no control over the outcome\"\n",
      "Brene Brown once said, \"Vulnerability is not winning or losing; it is having the courage to show up and be seen when we have no control over the outcome\"\n",
      "Brene Brown once said, \"Vulnerability is not winning or losing; it is having the courage to show up and be seen when we have no control over the outcome\"\n",
      "Brene Brown once said, \"Vulnerability is not winning or losing; it is having the courage to show up and be seen when we have no control over the outcome\"\n",
      "Brene Brown once said, \"Vulnerability is not winning or losing; it is having the courage to show up and be seen when we have no control over the outcome\"\n",
      "Brene Brown once said, \"Vulnerability is not winning or losing; it is having the courage to show up and be seen when we have no control over the outcome\"\n",
      "Brene Brown once said, \"Vulnerability is not winning or losing; it is having the courage to show up and be seen when we have no control over the outcome\"\n",
      "Brene Brown once said, \"Vulnerability is not winning or losing; it is having the courage to show up and be seen when we have no control over the outcome\"\n",
      "Brene Brown once said, \"Vulnerability is not winning or losing; it is having the courage to show up and be seen when we have no control over the outcome\"\n",
      "Brene Brown once said, \"Vulnerability is not winning or losing; it is having the courage to show up and be seen when we have no control over the outcome\"\n",
      "Brene Brown once said, \"Vulnerability is not winning or losing; it is having the courage to show up and be seen when we have no control over the outcome\"\n",
      "Brene Brown once said, \"Vulnerability is not winning or losing; it is having the courage to show up and be seen when we have no control over the outcome\"\n",
      "Brene Brown once said, \"Vulnerability is not winning or losing; it is having the courage to show up and be seen when we have no control over the outcome\"\n",
      "Brene Brown once said, \"Vulnerability is not winning or losing; it is having the courage to show up and be seen when we have no control over the outcome\"\n",
      "Brene Brown once said, \"Vulnerability is not winning or losing; it is having the courage to show up and be seen when we have no control over the outcome\"\n",
      "Brene Brown once said, \"Vulnerability is not winning or losing; it is having the courage to show up and be seen when we have no control over the outcome\"\n",
      "Brene Brown once said, \"Vulnerability is not winning or losing; it is having the courage to show up and be seen when we have no control over the outcome\"\n",
      "Brene Brown once said, \"Vulnerability is not winning or losing; it is having the courage to show up and be seen when we have no control over the outcome\"\n",
      "Brene Brown once said, \"Vulnerability is not winning or losing; it is having the courage to show up and be seen when we have no control over the outcome\"\n",
      "Brene Brown once said, \"Vulnerability is not winning or losing; it is having the courage to show up and be seen when we have no control over the outcome\"\n",
      "Brene Brown once said, \"Vulnerability is not winning or losing; it is having the courage to show up and be seen when we have no control over the outcome\"\n",
      "Brene Brown once said, \"Vulnerability is not winning or losing; it is having the courage to show up and be seen when we have no control over the outcome\"\n",
      "Brene Brown once said, \"Vulnerability is not winning or losing; it is having the courage to show up and be seen when we have no control over the outcome\"\n",
      "Brene Brown once said, \"Vulnerability is not winning or losing; it is having the courage to show up and be seen when we have no control over the outcome\"\n",
      "Brene Brown once said, \"Vulnerability is not winning or losing; it is having the courage to show up and be seen when we have no control over the outcome\"\n",
      "Brene Brown once said, \"Vulnerability is not winning or losing; it is having the courage to show up and be seen when we have no control over the outcome\"\n",
      "Brene Brown once said, \"Vulnerability is not winning or losing; it is having the courage to show up and be seen when we have no control over the outcome\"\n",
      "Brene Brown once said, \"Vulnerability is not winning or losing; it is having the courage to show up and be seen when we have no control over the outcome\"\n",
      "Brene Brown once said, \"Vulnerability is not winning or losing; it is having the courage to show up and be seen when we have no control over the outcome\"\n",
      "Brene Brown once said, \"Vulnerability is not winning or losing; it is having the courage to show up and be seen when we have no control over the outcome\"\n",
      "Brene Brown once said, \"Vulnerability is not winning or losing; it is having the courage to show up and be seen when we have no control over the outcome\"\n",
      "Brene Brown once said, \"Vulnerability is not winning or losing; it is having the courage to show up and be seen when we have no control over the outcome\"\n",
      "Brene Brown once said, \"Vulnerability is not winning or losing; it is having the courage to show up and be seen when we have no control over the outcome\"\n",
      "Brene Brown once said, \"Vulnerability is not winning or losing; it is having the courage to show up and be seen when we have no control over the outcome\"\n",
      "Brene Brown once said, \"Vulnerability is not winning or losing; it is having the courage to show up and be seen when we have no control over the outcome\"\n",
      "Brene Brown once said, \"Vulnerability is not winning or losing; it is having the courage to show up and be seen when we have no control over the outcome\"\n",
      "Brene Brown once said, \"Vulnerability is not winning or losing; it is having the courage to show up and be seen when we have no control over the outcome\"\n",
      "Brene Brown once said, \"Vulnerability is not winning or losing; it is having the courage to show up and be seen when we have no control over the outcome\"\n",
      "Brene Brown once said, \"Vulnerability is not winning or losing; it is having the courage to show up and be seen when we have no control over the outcome\"\n",
      "Brene Brown once said, \"Vulnerability is not winning or losing; it is having the courage to show up and be seen when we have no control over the outcome\"\n",
      "Brene Brown once said, \"Vulnerability is not winning or losing; it is having the courage to show up and be seen when we have no control over the outcome\"\n",
      "Brene Brown once said, \"Vulnerability is not winning or losing; it is having the courage to show up and be seen when we have no control over the outcome\"\n",
      "Brene Brown once said, \"Vulnerability is not winning or losing; it is having the courage to show up and be seen when we have no control over the outcome\"\n",
      "Brene Brown once said, \"Vulnerability is not winning or losing; it is having the courage to show up and be seen when we have no control over the outcome\"\n",
      "Brene Brown once said, \"Vulnerability is not winning or losing; it is having the courage to show up and be seen when we have no control over the outcome\"\n",
      "Brene Brown once said, \"Vulnerability is not winning or losing; it is having the courage to show up and be seen when we have no control over the outcome\"\n",
      "Brene Brown once said, \"Vulnerability is not winning or losing; it is having the courage to show up and be seen when we have no control over the outcome\"\n",
      "Brene Brown once said, \"Vulnerability is not winning or losing; it is having the courage to show up and be seen when we have no control over the outcome\"\n",
      "Brene Brown once said, \"Vulnerability is not winning or losing; it is having the courage to show up and be seen when we have no control over the outcome\"\n",
      "Brene Brown once said, \"Vulnerability is not winning or losing; it is having the courage to show up and be seen when we have no control over the outcome\"\n",
      "Brene Brown once said, \"Vulnerability is not winning or losing; it is having the courage to show up and be seen when we have no control over the outcome\"\n",
      "Brene Brown once said, \"Vulnerability is not winning or losing; it is having the courage to show up and be seen when we have no control over the outcome\"\n",
      "Brene Brown once said, \"Vulnerability is not winning or losing; it is having the courage to show up and be seen when we have no control over the outcome\"\n",
      "Brene Brown once said, \"Vulnerability is not winning or losing; it is having the courage to show up and be seen when we have no control over the outcome\"\n",
      "Brene Brown once said, \"Vulnerability is not winning or losing; it is having the courage to show up and be seen when we have no control over the outcome\"\n",
      "Brene Brown once said, \"Vulnerability is not winning or losing; it is having the courage to show up and be seen when we have no control over the outcome\"\n",
      "Brene Brown once said, \"Vulnerability is not winning or losing; it is having the courage to show up and be seen when we have no control over the outcome\"\n",
      "Brene Brown once said, \"Vulnerability is not winning or losing; it is having the courage to show up and be seen when we have no control over the outcome\"\n",
      "Brene Brown once said, \"Vulnerability is not winning or losing; it is having the courage to show up and be seen when we have no control over the outcome\"\n",
      "Brene Brown once said, \"Vulnerability is not winning or losing; it is having the courage to show up and be seen when we have no control over the outcome\"\n",
      "Brene Brown once said, \"Vulnerability is not winning or losing; it is having the courage to show up and be seen when we have no control over the outcome\"\n",
      "Brene Brown once said, \"Vulnerability is not winning or losing; it is having the courage to show up and be seen when we have no control over the outcome\"\n",
      "Brene Brown once said, \"Vulnerability is not winning or losing; it is having the courage to show up and be seen when we have no control over the outcome\"\n",
      "Brene Brown once said, \"Vulnerability is not winning or losing; it is having the courage to show up and be seen when we have no control over the outcome\"\n",
      "Brene Brown once said, \"Vulnerability is not winning or losing; it is having the courage to show up and be seen when we have no control over the outcome\"\n",
      "Brene Brown once said, \"Vulnerability is not winning or losing; it is having the courage to show up and be seen when we have no control over the outcome\"\n",
      "Brene Brown once said, \"Vulnerability is not winning or losing; it is having the courage to show up and be seen when we have no control over the outcome\"\n",
      "Brene Brown once said, \"Vulnerability is not winning or losing; it is having the courage to show up and be seen when we have no control over the outcome\"\n",
      "Brene Brown once said, \"Vulnerability is not winning or losing; it is having the courage to show up and be seen when we have no control over the outcome\"\n",
      "Brene Brown once said, \"Vulnerability is not winning or losing; it is having the courage to show up and be seen when we have no control over the outcome\"\n",
      "Brene Brown once said, \"Vulnerability is not winning or losing; it is having the courage to show up and be seen when we have no control over the outcome\"\n",
      "Brene Brown once said, \"Vulnerability is not winning or losing; it is having the courage to show up and be seen when we have no control over the outcome\"\n",
      "Brene Brown once said, \"Vulnerability is not winning or losing; it is having the courage to show up and be seen when we have no control over the outcome\"\n",
      "Brene Brown once said, \"Vulnerability is not winning or losing; it is having the courage to show up and be seen when we have no control over the outcome\"\n",
      "Brene Brown once said, \"Vulnerability is not winning or losing; it is having the courage to show up and be seen when we have no control over the outcome\"\n",
      "Brene Brown once said, \"Vulnerability is not winning or losing; it is having the courage to show up and be seen when we have no control over the outcome\"\n",
      "Brene Brown once said, \"Vulnerability is not winning or losing; it is having the courage to show up and be seen when we have no control over the outcome\"\n",
      "Brene Brown once said, \"Vulnerability is not winning or losing; it is having the courage to show up and be seen when we have no control over the outcome\"\n",
      "Brene Brown once said, \"Vulnerability is not winning or losing; it is having the courage to show up and be seen when we have no control over the outcome\"\n",
      "Brene Brown once said, \"Vulnerability is not winning or losing; it is having the courage to show up and be seen when we have no control over the outcome\"\n",
      "Brene Brown once said, \"Vulnerability is not winning or losing; it is having the courage to show up and be seen when we have no control over the outcome\"\n",
      "Brene Brown once said, \"Vulnerability is not winning or losing; it is having the courage to show up and be seen when we have no control over the outcome\"\n",
      "Brene Brown once said, \"Vulnerability is not winning or losing; it is having the courage to show up and be seen when we have no control over the outcome\"\n",
      "Brene Brown once said, \"Vulnerability is not winning or losing; it is having the courage to show up and be seen when we have no control over the outcome\"\n",
      "Brene Brown once said, \"Vulnerability is not winning or losing; it is having the courage to show up and be seen when we have no control over the outcome\"\n",
      "Brene Brown once said, \"Vulnerability is not winning or losing; it is having the courage to show up and be seen when we have no control over the outcome\"\n",
      "Brene Brown once said, \"Vulnerability is not winning or losing; it is having the courage to show up and be seen when we have no control over the outcome\"\n",
      "Brene Brown once said, \"Vulnerability is not winning or losing; it is having the courage to show up and be seen when we have no control over the outcome\"\n",
      "Brene Brown once said, \"Vulnerability is not winning or losing; it is having the courage to show up and be seen when we have no control over the outcome\"\n",
      "Brene Brown once said, \"Vulnerability is not winning or losing; it is having the courage to show up and be seen when we have no control over the outcome\"\n",
      "Brene Brown once said, \"Vulnerability is not winning or losing; it is having the courage to show up and be seen when we have no control over the outcome\"\n",
      "Brene Brown once said, \"Vulnerability is not winning or losing; it is having the courage to show up and be seen when we have no control over the outcome\"\n",
      "Brene Brown once said, \"Vulnerability is not winning or losing; it is having the courage to show up and be seen when we have no control over the outcome\"\n",
      "Brene Brown once said, \"Vulnerability is not winning or losing; it is having the courage to show up and be seen when we have no control over the outcome\"\n",
      "Brene Brown once said, \"Vulnerability is not winning or losing; it is having the courage to show up and be seen when we have no control over the outcome\"\n",
      "Brene Brown once said, \"Vulnerability is not winning or losing; it is having the courage to show up and be seen when we have no control over the outcome\"\n",
      "Brene Brown once said, \"Vulnerability is not winning or losing; it is having the courage to show up and be seen when we have no control over the outcome\"\n",
      "Brene Brown once said, \"Vulnerability is not winning or losing; it is having the courage to show up and be seen when we have no control over the outcome\"\n",
      "Brene Brown once said, \"Vulnerability is not winning or losing; it is having the courage to show up and be seen when we have no control over the outcome\"\n",
      "Brene Brown once said, \"Vulnerability is not winning or losing; it is having the courage to show up and be seen when we have no control over the outcome\"\n",
      "Brene Brown once said, \"Vulnerability is not winning or losing; it is having the courage to show up and be seen when we have no control over the outcome\"\n",
      "Brene Brown once said, \"Vulnerability is not winning or losing; it is having the courage to show up and be seen when we have no control over the outcome\"\n",
      "Brene Brown once said, \"Vulnerability is not winning or losing; it is having the courage to show up and be seen when we have no control over the outcome\"\n",
      "Brene Brown once said, \"Vulnerability is not winning or losing; it is having the courage to show up and be seen when we have no control over the outcome\"\n",
      "Brene Brown once said, \"Vulnerability is not winning or losing; it is having the courage to show up and be seen when we have no control over the outcome\"\n",
      "Brene Brown once said, \"Vulnerability is not winning or losing; it is having the courage to show up and be seen when we have no control over the outcome\"\n",
      "Brene Brown once said, \"Vulnerability is not winning or losing; it is having the courage to show up and be seen when we have no control over the outcome\"\n",
      "Brene Brown once said, \"Vulnerability is not winning or losing; it is having the courage to show up and be seen when we have no control over the outcome\"\n",
      "Brene Brown once said, \"Vulnerability is not winning or losing; it is having the courage to show up and be seen when we have no control over the outcome\"\n",
      "Brene Brown once said, \"Vulnerability is not winning or losing; it is having the courage to show up and be seen when we have no control over the outcome\"\n",
      "Brene Brown once said, \"Vulnerability is not winning or losing; it is having the courage to show up and be seen when we have no control over the outcome\"\n",
      "Brene Brown once said, \"Vulnerability is not winning or losing; it is having the courage to show up and be seen when we have no control over the outcome\"\n",
      "Brene Brown once said, \"Vulnerability is not winning or losing; it is having the courage to show up and be seen when we have no control over the outcome\"\n",
      "Brene Brown once said, \"Vulnerability is not winning or losing; it is having the courage to show up and be seen when we have no control over the outcome\"\n",
      "Brene Brown once said, \"Vulnerability is not winning or losing; it is having the courage to show up and be seen when we have no control over the outcome\"\n",
      "Brene Brown once said, \"Vulnerability is not winning or losing; it is having the courage to show up and be seen when we have no control over the outcome\"\n",
      "Brene Brown once said, \"Vulnerability is not winning or losing; it is having the courage to show up and be seen when we have no control over the outcome\"\n",
      "Brene Brown once said, \"Vulnerability is not winning or losing; it is having the courage to show up and be seen when we have no control over the outcome\"\n",
      "Brene Brown once said, \"Vulnerability is not winning or losing; it is having the courage to show up and be seen when we have no control over the outcome\"\n",
      "Brene Brown once said, \"Vulnerability is not winning or losing; it is having the courage to show up and be seen when we have no control over the outcome\"\n",
      "Brene Brown once said, \"Vulnerability is not winning or losing; it is having the courage to show up and be seen when we have no control over the outcome\"\n",
      "Brene Brown once said, \"Vulnerability is not winning or losing; it is having the courage to show up and be seen when we have no control over the outcome\"\n",
      "Brene Brown once said, \"Vulnerability is not winning or losing; it is having the courage to show up and be seen when we have no control over the outcome\"\n",
      "Brene Brown once said, \"Vulnerability is not winning or losing; it is having the courage to show up and be seen when we have no control over the outcome\"\n",
      "Brene Brown once said, \"Vulnerability is not winning or losing; it is having the courage to show up and be seen when we have no control over the outcome\"\n",
      "Brene Brown once said, \"Vulnerability is not winning or losing; it is having the courage to show up and be seen when we have no control over the outcome\"\n",
      "Brene Brown once said, \"Vulnerability is not winning or losing; it is having the courage to show up and be seen when we have no control over the outcome\"\n",
      "Brene Brown once said, \"Vulnerability is not winning or losing; it is having the courage to show up and be seen when we have no control over the outcome\"\n",
      "Brene Brown once said, \"Vulnerability is not winning or losing; it is having the courage to show up and be seen when we have no control over the outcome\"\n",
      "Brene Brown once said, \"Vulnerability is not winning or losing; it is having the courage to show up and be seen when we have no control over the outcome\"\n",
      "Brene Brown once said, \"Vulnerability is not winning or losing; it is having the courage to show up and be seen when we have no control over the outcome\"\n",
      "Brene Brown once said, \"Vulnerability is not winning or losing; it is having the courage to show up and be seen when we have no control over the outcome\"\n",
      "Brene Brown once said, \"Vulnerability is not winning or losing; it is having the courage to show up and be seen when we have no control over the outcome\"\n",
      "Brene Brown once said, \"Vulnerability is not winning or losing; it is having the courage to show up and be seen when we have no control over the outcome\"\n",
      "Brene Brown once said, \"Vulnerability is not winning or losing; it is having the courage to show up and be seen when we have no control over the outcome\"\n",
      "Brene Brown once said, \"Vulnerability is not winning or losing; it is having the courage to show up and be seen when we have no control over the outcome\"\n",
      "Brene Brown once said, \"Vulnerability is not winning or losing; it is having the courage to show up and be seen when we have no control over the outcome\"\n",
      "Brene Brown once said, \"Vulnerability is not winning or losing; it is having the courage to show up and be seen when we have no control over the outcome\"\n",
      "Brene Brown once said, \"Vulnerability is not winning or losing; it is having the courage to show up and be seen when we have no control over the outcome\"\n",
      "Brene Brown once said, \"Vulnerability is not winning or losing; it is having the courage to show up and be seen when we have no control over the outcome\"\n",
      "Brene Brown once said, \"Vulnerability is not winning or losing; it is having the courage to show up and be seen when we have no control over the outcome\"\n",
      "Brene Brown once said, \"Vulnerability is not winning or losing; it is having the courage to show up and be seen when we have no control over the outcome\"\n",
      "Brene Brown once said, \"Vulnerability is not winning or losing; it is having the courage to show up and be seen when we have no control over the outcome\"\n",
      "Brene Brown once said, \"Vulnerability is not winning or losing; it is having the courage to show up and be seen when we have no control over the outcome\"\n",
      "Brene Brown once said, \"Vulnerability is not winning or losing; it is having the courage to show up and be seen when we have no control over the outcome\"\n",
      "Brene Brown once said, \"Vulnerability is not winning or losing; it is having the courage to show up and be seen when we have no control over the outcome\"\n",
      "Brene Brown once said, \"Vulnerability is not winning or losing; it is having the courage to show up and be seen when we have no control over the outcome\"\n",
      "Brene Brown once said, \"Vulnerability is not winning or losing; it is having the courage to show up and be seen when we have no control over the outcome\"\n",
      "Brene Brown once said, \"Vulnerability is not winning or losing; it is having the courage to show up and be seen when we have no control over the outcome\"\n",
      "Brene Brown once said, \"Vulnerability is not winning or losing; it is having the courage to show up and be seen when we have no control over the outcome\"\n",
      "Brene Brown once said, \"Vulnerability is not winning or losing; it is having the courage to show up and be seen when we have no control over the outcome\"\n",
      "Brene Brown once said, \"Vulnerability is not winning or losing; it is having the courage to show up and be seen when we have no control over the outcome\"\n",
      "Brene Brown once said, \"Vulnerability is not winning or losing; it is having the courage to show up and be seen when we have no control over the outcome\"\n",
      "Brene Brown once said, \"Vulnerability is not winning or losing; it is having the courage to show up and be seen when we have no control over the outcome\"\n",
      "Brene Brown once said, \"Vulnerability is not winning or losing; it is having the courage to show up and be seen when we have no control over the outcome\"\n",
      "Brene Brown once said, \"Vulnerability is not winning or losing; it is having the courage to show up and be seen when we have no control over the outcome\"\n",
      "Brene Brown once said, \"Vulnerability is not winning or losing; it is having the courage to show up and be seen when we have no control over the outcome\"\n",
      "Brene Brown once said, \"Vulnerability is not winning or losing; it is having the courage to show up and be seen when we have no control over the outcome\"\n",
      "Brene Brown once said, \"Vulnerability is not winning or losing; it is having the courage to show up and be seen when we have no control over the outcome\"\n",
      "Brene Brown once said, \"Vulnerability is not winning or losing; it is having the courage to show up and be seen when we have no control over the outcome\"\n",
      "Brene Brown once said, \"Vulnerability is not winning or losing; it is having the courage to show up and be seen when we have no control over the outcome\"\n",
      "Brene Brown once said, \"Vulnerability is not winning or losing; it is having the courage to show up and be seen when we have no control over the outcome\"\n",
      "Brene Brown once said, \"Vulnerability is not winning or losing; it is having the courage to show up and be seen when we have no control over the outcome\"\n",
      "Brene Brown once said, \"Vulnerability is not winning or losing; it is having the courage to show up and be seen when we have no control over the outcome\"\n",
      "Brene Brown once said, \"Vulnerability is not winning or losing; it is having the courage to show up and be seen when we have no control over the outcome\"\n",
      "Brene Brown once said, \"Vulnerability is not winning or losing; it is having the courage to show up and be seen when we have no control over the outcome\"\n",
      "Brene Brown once said, \"Vulnerability is not winning or losing; it is having the courage to show up and be seen when we have no control over the outcome\"\n",
      "Brene Brown once said, \"Vulnerability is not winning or losing; it is having the courage to show up and be seen when we have no control over the outcome\"\n",
      "Brene Brown once said, \"Vulnerability is not winning or losing; it is having the courage to show up and be seen when we have no control over the outcome\"\n",
      "Brene Brown once said, \"Vulnerability is not winning or losing; it is having the courage to show up and be seen when we have no control over the outcome\"\n",
      "Brene Brown once said, \"Vulnerability is not winning or losing; it is having the courage to show up and be seen when we have no control over the outcome\"\n",
      "Brene Brown once said, \"Vulnerability is not winning or losing; it is having the courage to show up and be seen when we have no control over the outcome\"\n",
      "Brene Brown once said, \"Vulnerability is not winning or losing; it is having the courage to show up and be seen when we have no control over the outcome\"\n",
      "Brene Brown once said, \"Vulnerability is not winning or losing; it is having the courage to show up and be seen when we have no control over the outcome\"\n",
      "Brene Brown once said, \"Vulnerability is not winning or losing; it is having the courage to show up and be seen when we have no control over the outcome\"\n",
      "Brene Brown once said, \"Vulnerability is not winning or losing; it is having the courage to show up and be seen when we have no control over the outcome\"\n",
      "Brene Brown once said, \"Vulnerability is not winning or losing; it is having the courage to show up and be seen when we have no control over the outcome\"\n",
      "Brene Brown once said, \"Vulnerability is not winning or losing; it is having the courage to show up and be seen when we have no control over the outcome\"\n",
      "Brene Brown once said, \"Vulnerability is not winning or losing; it is having the courage to show up and be seen when we have no control over the outcome\"\n",
      "Brene Brown once said, \"Vulnerability is not winning or losing; it is having the courage to show up and be seen when we have no control over the outcome\"\n",
      "Brene Brown once said, \"Vulnerability is not winning or losing; it is having the courage to show up and be seen when we have no control over the outcome\"\n",
      "Brene Brown once said, \"Vulnerability is not winning or losing; it is having the courage to show up and be seen when we have no control over the outcome\"\n",
      "Brene Brown once said, \"Vulnerability is not winning or losing; it is having the courage to show up and be seen when we have no control over the outcome\"\n",
      "Brene Brown once said, \"Vulnerability is not winning or losing; it is having the courage to show up and be seen when we have no control over the outcome\"\n",
      "Brene Brown once said, \"Vulnerability is not winning or losing; it is having the courage to show up and be seen when we have no control over the outcome\"\n",
      "Brene Brown once said, \"Vulnerability is not winning or losing; it is having the courage to show up and be seen when we have no control over the outcome\"\n",
      "Brene Brown once said, \"Vulnerability is not winning or losing; it is having the courage to show up and be seen when we have no control over the outcome\"\n",
      "Brene Brown once said, \"Vulnerability is not winning or losing; it is having the courage to show up and be seen when we have no control over the outcome\"\n",
      "Brene Brown once said, \"Vulnerability is not winning or losing; it is having the courage to show up and be seen when we have no control over the outcome\"\n",
      "Brene Brown once said, \"Vulnerability is not winning or losing; it is having the courage to show up and be seen when we have no control over the outcome\"\n",
      "Brene Brown once said, \"Vulnerability is not winning or losing; it is having the courage to show up and be seen when we have no control over the outcome\"\n",
      "Brene Brown once said, \"Vulnerability is not winning or losing; it is having the courage to show up and be seen when we have no control over the outcome\"\n",
      "Brene Brown once said, \"Vulnerability is not winning or losing; it is having the courage to show up and be seen when we have no control over the outcome\"\n",
      "Brene Brown once said, \"Vulnerability is not winning or losing; it is having the courage to show up and be seen when we have no control over the outcome\"\n",
      "Brene Brown once said, \"Vulnerability is not winning or losing; it is having the courage to show up and be seen when we have no control over the outcome\"\n",
      "Brene Brown once said, \"Vulnerability is not winning or losing; it is having the courage to show up and be seen when we have no control over the outcome\"\n",
      "Brene Brown once said, \"Vulnerability is not winning or losing; it is having the courage to show up and be seen when we have no control over the outcome\"\n",
      "Brene Brown once said, \"Vulnerability is not winning or losing; it is having the courage to show up and be seen when we have no control over the outcome\"\n",
      "Brene Brown once said, \"Vulnerability is not winning or losing; it is having the courage to show up and be seen when we have no control over the outcome\"\n",
      "Brene Brown once said, \"Vulnerability is not winning or losing; it is having the courage to show up and be seen when we have no control over the outcome\"\n",
      "Brene Brown once said, \"Vulnerability is not winning or losing; it is having the courage to show up and be seen when we have no control over the outcome\"\n",
      "Brene Brown once said, \"Vulnerability is not winning or losing; it is having the courage to show up and be seen when we have no control over the outcome\"\n",
      "Brene Brown once said, \"Vulnerability is not winning or losing; it is having the courage to show up and be seen when we have no control over the outcome\"\n",
      "Brene Brown once said, \"Vulnerability is not winning or losing; it is having the courage to show up and be seen when we have no control over the outcome\"\n",
      "Brene Brown once said, \"Vulnerability is not winning or losing; it is having the courage to show up and be seen when we have no control over the outcome\"\n",
      "Brene Brown once said, \"Vulnerability is not winning or losing; it is having the courage to show up and be seen when we have no control over the outcome\"\n",
      "Brene Brown once said, \"Vulnerability is not winning or losing; it is having the courage to show up and be seen when we have no control over the outcome\"\n",
      "Brene Brown once said, \"Vulnerability is not winning or losing; it is having the courage to show up and be seen when we have no control over the outcome\"\n",
      "Brene Brown once said, \"Vulnerability is not winning or losing; it is having the courage to show up and be seen when we have no control over the outcome\"\n",
      "Brene Brown once said, \"Vulnerability is not winning or losing; it is having the courage to show up and be seen when we have no control over the outcome\"\n",
      "Brene Brown once said, \"Vulnerability is not winning or losing; it is having the courage to show up and be seen when we have no control over the outcome\"\n",
      "Brene Brown once said, \"Vulnerability is not winning or losing; it is having the courage to show up and be seen when we have no control over the outcome\"\n",
      "Brene Brown once said, \"Vulnerability is not winning or losing; it is having the courage to show up and be seen when we have no control over the outcome\"\n",
      "Brene Brown once said, \"Vulnerability is not winning or losing; it is having the courage to show up and be seen when we have no control over the outcome\"\n",
      "Brene Brown once said, \"Vulnerability is not winning or losing; it is having the courage to show up and be seen when we have no control over the outcome\"\n",
      "Brene Brown once said, \"Vulnerability is not winning or losing; it is having the courage to show up and be seen when we have no control over the outcome\"\n",
      "Brene Brown once said, \"Vulnerability is not winning or losing; it is having the courage to show up and be seen when we have no control over the outcome\"\n",
      "Brene Brown once said, \"Vulnerability is not winning or losing; it is having the courage to show up and be seen when we have no control over the outcome\"\n",
      "Brene Brown once said, \"Vulnerability is not winning or losing; it is having the courage to show up and be seen when we have no control over the outcome\"\n",
      "Brene Brown once said, \"Vulnerability is not winning or losing; it is having the courage to show up and be seen when we have no control over the outcome\"\n",
      "Brene Brown once said, \"Vulnerability is not winning or losing; it is having the courage to show up and be seen when we have no control over the outcome\"\n",
      "Brene Brown once said, \"Vulnerability is not winning or losing; it is having the courage to show up and be seen when we have no control over the outcome\"\n",
      "Brene Brown once said, \"Vulnerability is not winning or losing; it is having the courage to show up and be seen when we have no control over the outcome\"\n",
      "Brene Brown once said, \"Vulnerability is not winning or losing; it is having the courage to show up and be seen when we have no control over the outcome\"\n",
      "Brene Brown once said, \"Vulnerability is not winning or losing; it is having the courage to show up and be seen when we have no control over the outcome\"\n",
      "Brene Brown once said, \"Vulnerability is not winning or losing; it is having the courage to show up and be seen when we have no control over the outcome\"\n",
      "Brene Brown once said, \"Vulnerability is not winning or losing; it is having the courage to show up and be seen when we have no control over the outcome\"\n",
      "Brene Brown once said, \"Vulnerability is not winning or losing; it is having the courage to show up and be seen when we have no control over the outcome\"\n",
      "Brene Brown once said, \"Vulnerability is not winning or losing; it is having the courage to show up and be seen when we have no control over the outcome\"\n",
      "Brene Brown once said, \"Vulnerability is not winning or losing; it is having the courage to show up and be seen when we have no control over the outcome\"\n",
      "Brene Brown once said, \"Vulnerability is not winning or losing; it is having the courage to show up and be seen when we have no control over the outcome\"\n",
      "Brene Brown once said, \"Vulnerability is not winning or losing; it is having the courage to show up and be seen when we have no control over the outcome\"\n",
      "Brene Brown once said, \"Vulnerability is not winning or losing; it is having the courage to show up and be seen when we have no control over the outcome\"\n",
      "Brene Brown once said, \"Vulnerability is not winning or losing; it is having the courage to show up and be seen when we have no control over the outcome\"\n",
      "Brene Brown once said, \"Vulnerability is not winning or losing; it is having the courage to show up and be seen when we have no control over the outcome\"\n",
      "Brene Brown once said, \"Vulnerability is not winning or losing; it is having the courage to show up and be seen when we have no control over the outcome\"\n",
      "Brene Brown once said, \"Vulnerability is not winning or losing; it is having the courage to show up and be seen when we have no control over the outcome\"\n",
      "Brene Brown once said, \"Vulnerability is not winning or losing; it is having the courage to show up and be seen when we have no control over the outcome\"\n",
      "Brene Brown once said, \"Vulnerability is not winning or losing; it is having the courage to show up and be seen when we have no control over the outcome\"\n",
      "Brene Brown once said, \"Vulnerability is not winning or losing; it is having the courage to show up and be seen when we have no control over the outcome\"\n",
      "Brene Brown once said, \"Vulnerability is not winning or losing; it is having the courage to show up and be seen when we have no control over the outcome\"\n",
      "Brene Brown once said, \"Vulnerability is not winning or losing; it is having the courage to show up and be seen when we have no control over the outcome\"\n",
      "Brene Brown once said, \"Vulnerability is not winning or losing; it is having the courage to show up and be seen when we have no control over the outcome\"\n",
      "Brene Brown once said, \"Vulnerability is not winning or losing; it is having the courage to show up and be seen when we have no control over the outcome\"\n",
      "Brene Brown once said, \"Vulnerability is not winning or losing; it is having the courage to show up and be seen when we have no control over the outcome\"\n",
      "Brene Brown once said, \"Vulnerability is not winning or losing; it is having the courage to show up and be seen when we have no control over the outcome\"\n",
      "Brene Brown once said, \"Vulnerability is not winning or losing; it is having the courage to show up and be seen when we have no control over the outcome\"\n",
      "Brene Brown once said, \"Vulnerability is not winning or losing; it is having the courage to show up and be seen when we have no control over the outcome\"\n",
      "Brene Brown once said, \"Vulnerability is not winning or losing; it is having the courage to show up and be seen when we have no control over the outcome\"\n",
      "Brene Brown once said, \"Vulnerability is not winning or losing; it is having the courage to show up and be seen when we have no control over the outcome\"\n",
      "Brene Brown once said, \"Vulnerability is not winning or losing; it is having the courage to show up and be seen when we have no control over the outcome\"\n",
      "Brene Brown once said, \"Vulnerability is not winning or losing; it is having the courage to show up and be seen when we have no control over the outcome\"\n",
      "Brene Brown once said, \"Vulnerability is not winning or losing; it is having the courage to show up and be seen when we have no control over the outcome\"\n",
      "Brene Brown once said, \"Vulnerability is not winning or losing; it is having the courage to show up and be seen when we have no control over the outcome\"\n",
      "Brene Brown once said, \"Vulnerability is not winning or losing; it is having the courage to show up and be seen when we have no control over the outcome\"\n",
      "Brene Brown once said, \"Vulnerability is not winning or losing; it is having the courage to show up and be seen when we have no control over the outcome\"\n",
      "Brene Brown once said, \"Vulnerability is not winning or losing; it is having the courage to show up and be seen when we have no control over the outcome\"\n",
      "Brene Brown once said, \"Vulnerability is not winning or losing; it is having the courage to show up and be seen when we have no control over the outcome\"\n",
      "Brene Brown once said, \"Vulnerability is not winning or losing; it is having the courage to show up and be seen when we have no control over the outcome\"\n",
      "Brene Brown once said, \"Vulnerability is not winning or losing; it is having the courage to show up and be seen when we have no control over the outcome\"\n",
      "Brene Brown once said, \"Vulnerability is not winning or losing; it is having the courage to show up and be seen when we have no control over the outcome\"\n",
      "Brene Brown once said, \"Vulnerability is not winning or losing; it is having the courage to show up and be seen when we have no control over the outcome\"\n",
      "Brene Brown once said, \"Vulnerability is not winning or losing; it is having the courage to show up and be seen when we have no control over the outcome\"\n",
      "Brene Brown once said, \"Vulnerability is not winning or losing; it is having the courage to show up and be seen when we have no control over the outcome\"\n",
      "Brene Brown once said, \"Vulnerability is not winning or losing; it is having the courage to show up and be seen when we have no control over the outcome\"\n",
      "Brene Brown once said, \"Vulnerability is not winning or losing; it is having the courage to show up and be seen when we have no control over the outcome\"\n",
      "Brene Brown once said, \"Vulnerability is not winning or losing; it is having the courage to show up and be seen when we have no control over the outcome\"\n",
      "Brene Brown once said, \"Vulnerability is not winning or losing; it is having the courage to show up and be seen when we have no control over the outcome\"\n",
      "Brene Brown once said, \"Vulnerability is not winning or losing; it is having the courage to show up and be seen when we have no control over the outcome\"\n",
      "Brene Brown once said, \"Vulnerability is not winning or losing; it is having the courage to show up and be seen when we have no control over the outcome\"\n",
      "Brene Brown once said, \"Vulnerability is not winning or losing; it is having the courage to show up and be seen when we have no control over the outcome\"\n",
      "Brene Brown once said, \"Vulnerability is not winning or losing; it is having the courage to show up and be seen when we have no control over the outcome\"\n",
      "Brene Brown once said, \"Vulnerability is not winning or losing; it is having the courage to show up and be seen when we have no control over the outcome\"\n",
      "Brene Brown once said, \"Vulnerability is not winning or losing; it is having the courage to show up and be seen when we have no control over the outcome\"\n",
      "Brene Brown once said, \"Vulnerability is not winning or losing; it is having the courage to show up and be seen when we have no control over the outcome\"\n",
      "Brene Brown once said, \"Vulnerability is not winning or losing; it is having the courage to show up and be seen when we have no control over the outcome\"\n",
      "Brene Brown once said, \"Vulnerability is not winning or losing; it is having the courage to show up and be seen when we have no control over the outcome\"\n",
      "Brene Brown once said, \"Vulnerability is not winning or losing; it is having the courage to show up and be seen when we have no control over the outcome\"\n",
      "Brene Brown once said, \"Vulnerability is not winning or losing; it is having the courage to show up and be seen when we have no control over the outcome\"\n",
      "Brene Brown once said, \"Vulnerability is not winning or losing; it is having the courage to show up and be seen when we have no control over the outcome\"\n",
      "Brene Brown once said, \"Vulnerability is not winning or losing; it is having the courage to show up and be seen when we have no control over the outcome\"\n",
      "Brene Brown once said, \"Vulnerability is not winning or losing; it is having the courage to show up and be seen when we have no control over the outcome\"\n",
      "Brene Brown once said, \"Vulnerability is not winning or losing; it is having the courage to show up and be seen when we have no control over the outcome\"\n",
      "Brene Brown once said, \"Vulnerability is not winning or losing; it is having the courage to show up and be seen when we have no control over the outcome\"\n",
      "Brene Brown once said, \"Vulnerability is not winning or losing; it is having the courage to show up and be seen when we have no control over the outcome\"\n",
      "Brene Brown once said, \"Vulnerability is not winning or losing; it is having the courage to show up and be seen when we have no control over the outcome\"\n",
      "Brene Brown once said, \"Vulnerability is not winning or losing; it is having the courage to show up and be seen when we have no control over the outcome\"\n",
      "Brene Brown once said, \"Vulnerability is not winning or losing; it is having the courage to show up and be seen when we have no control over the outcome\"\n",
      "Brene Brown once said, \"Vulnerability is not winning or losing; it is having the courage to show up and be seen when we have no control over the outcome\"\n",
      "Brene Brown once said, \"Vulnerability is not winning or losing; it is having the courage to show up and be seen when we have no control over the outcome\"\n",
      "Brene Brown once said, \"Vulnerability is not winning or losing; it is having the courage to show up and be seen when we have no control over the outcome\"\n",
      "Brene Brown once said, \"Vulnerability is not winning or losing; it is having the courage to show up and be seen when we have no control over the outcome\"\n",
      "Brene Brown once said, \"Vulnerability is not winning or losing; it is having the courage to show up and be seen when we have no control over the outcome\"\n",
      "Brene Brown once said, \"Vulnerability is not winning or losing; it is having the courage to show up and be seen when we have no control over the outcome\"\n",
      "Brene Brown once said, \"Vulnerability is not winning or losing; it is having the courage to show up and be seen when we have no control over the outcome\"\n",
      "Brene Brown once said, \"Vulnerability is not winning or losing; it is having the courage to show up and be seen when we have no control over the outcome\"\n",
      "Brene Brown once said, \"Vulnerability is not winning or losing; it is having the courage to show up and be seen when we have no control over the outcome\"\n",
      "Brene Brown once said, \"Vulnerability is not winning or losing; it is having the courage to show up and be seen when we have no control over the outcome\"\n",
      "Brene Brown once said, \"Vulnerability is not winning or losing; it is having the courage to show up and be seen when we have no control over the outcome\"\n",
      "Brene Brown once said, \"Vulnerability is not winning or losing; it is having the courage to show up and be seen when we have no control over the outcome\"\n",
      "Brene Brown once said, \"Vulnerability is not winning or losing; it is having the courage to show up and be seen when we have no control over the outcome\"\n",
      "Brene Brown once said, \"Vulnerability is not winning or losing; it is having the courage to show up and be seen when we have no control over the outcome\"\n",
      "Brene Brown once said, \"Vulnerability is not winning or losing; it is having the courage to show up and be seen when we have no control over the outcome\"\n",
      "Brene Brown once said, \"Vulnerability is not winning or losing; it is having the courage to show up and be seen when we have no control over the outcome\"\n",
      "Brene Brown once said, \"Vulnerability is not winning or losing; it is having the courage to show up and be seen when we have no control over the outcome\"\n",
      "Brene Brown once said, \"Vulnerability is not winning or losing; it is having the courage to show up and be seen when we have no control over the outcome\"\n",
      "Brene Brown once said, \"Vulnerability is not winning or losing; it is having the courage to show up and be seen when we have no control over the outcome\"\n",
      "Brene Brown once said, \"Vulnerability is not winning or losing; it is having the courage to show up and be seen when we have no control over the outcome\"\n",
      "Brene Brown once said, \"Vulnerability is not winning or losing; it is having the courage to show up and be seen when we have no control over the outcome\"\n",
      "Brene Brown once said, \"Vulnerability is not winning or losing; it is having the courage to show up and be seen when we have no control over the outcome\"\n",
      "Brene Brown once said, \"Vulnerability is not winning or losing; it is having the courage to show up and be seen when we have no control over the outcome\"\n",
      "Brene Brown once said, \"Vulnerability is not winning or losing; it is having the courage to show up and be seen when we have no control over the outcome\"\n",
      "Brene Brown once said, \"Vulnerability is not winning or losing; it is having the courage to show up and be seen when we have no control over the outcome\"\n",
      "Brene Brown once said, \"Vulnerability is not winning or losing; it is having the courage to show up and be seen when we have no control over the outcome\"\n",
      "Brene Brown once said, \"Vulnerability is not winning or losing; it is having the courage to show up and be seen when we have no control over the outcome\"\n",
      "Brene Brown once said, \"Vulnerability is not winning or losing; it is having the courage to show up and be seen when we have no control over the outcome\"\n",
      "Brene Brown once said, \"Vulnerability is not winning or losing; it is having the courage to show up and be seen when we have no control over the outcome\"\n",
      "Brene Brown once said, \"Vulnerability is not winning or losing; it is having the courage to show up and be seen when we have no control over the outcome\"\n",
      "Brene Brown once said, \"Vulnerability is not winning or losing; it is having the courage to show up and be seen when we have no control over the outcome\"\n",
      "Brene Brown once said, \"Vulnerability is not winning or losing; it is having the courage to show up and be seen when we have no control over the outcome\"\n",
      "Brene Brown once said, \"Vulnerability is not winning or losing; it is having the courage to show up and be seen when we have no control over the outcome\"\n",
      "Brene Brown once said, \"Vulnerability is not winning or losing; it is having the courage to show up and be seen when we have no control over the outcome\"\n",
      "Brene Brown once said, \"Vulnerability is not winning or losing; it is having the courage to show up and be seen when we have no control over the outcome\"\n",
      "Brene Brown once said, \"Vulnerability is not winning or losing; it is having the courage to show up and be seen when we have no control over the outcome\"\n",
      "Brene Brown once said, \"Vulnerability is not winning or losing; it is having the courage to show up and be seen when we have no control over the outcome\"\n",
      "Brene Brown once said, \"Vulnerability is not winning or losing; it is having the courage to show up and be seen when we have no control over the outcome\"\n",
      "Brene Brown once said, \"Vulnerability is not winning or losing; it is having the courage to show up and be seen when we have no control over the outcome\"\n",
      "Brene Brown once said, \"Vulnerability is not winning or losing; it is having the courage to show up and be seen when we have no control over the outcome\"\n",
      "Brene Brown once said, \"Vulnerability is not winning or losing; it is having the courage to show up and be seen when we have no control over the outcome\"\n",
      "Brene Brown once said, \"Vulnerability is not winning or losing; it is having the courage to show up and be seen when we have no control over the outcome\"\n",
      "Brene Brown once said, \"Vulnerability is not winning or losing; it is having the courage to show up and be seen when we have no control over the outcome\"\n",
      "Brene Brown once said, \"Vulnerability is not winning or losing; it is having the courage to show up and be seen when we have no control over the outcome\"\n",
      "Brene Brown once said, \"Vulnerability is not winning or losing; it is having the courage to show up and be seen when we have no control over the outcome\"\n",
      "Brene Brown once said, \"Vulnerability is not winning or losing; it is having the courage to show up and be seen when we have no control over the outcome\"\n",
      "Brene Brown once said, \"Vulnerability is not winning or losing; it is having the courage to show up and be seen when we have no control over the outcome\"\n",
      "Brene Brown once said, \"Vulnerability is not winning or losing; it is having the courage to show up and be seen when we have no control over the outcome\"\n",
      "Brene Brown once said, \"Vulnerability is not winning or losing; it is having the courage to show up and be seen when we have no control over the outcome\"\n",
      "Brene Brown once said, \"Vulnerability is not winning or losing; it is having the courage to show up and be seen when we have no control over the outcome\"\n",
      "Brene Brown once said, \"Vulnerability is not winning or losing; it is having the courage to show up and be seen when we have no control over the outcome\"\n",
      "Brene Brown once said, \"Vulnerability is not winning or losing; it is having the courage to show up and be seen when we have no control over the outcome\"\n",
      "Brene Brown once said, \"Vulnerability is not winning or losing; it is having the courage to show up and be seen when we have no control over the outcome\"\n",
      "Brene Brown once said, \"Vulnerability is not winning or losing; it is having the courage to show up and be seen when we have no control over the outcome\"\n",
      "Brene Brown once said, \"Vulnerability is not winning or losing; it is having the courage to show up and be seen when we have no control over the outcome\"\n",
      "Brene Brown once said, \"Vulnerability is not winning or losing; it is having the courage to show up and be seen when we have no control over the outcome\"\n",
      "Brene Brown once said, \"Vulnerability is not winning or losing; it is having the courage to show up and be seen when we have no control over the outcome\"\n",
      "Brene Brown once said, \"Vulnerability is not winning or losing; it is having the courage to show up and be seen when we have no control over the outcome\"\n",
      "Brene Brown once said, \"Vulnerability is not winning or losing; it is having the courage to show up and be seen when we have no control over the outcome\"\n",
      "Brene Brown once said, \"Vulnerability is not winning or losing; it is having the courage to show up and be seen when we have no control over the outcome\"\n",
      "Brene Brown once said, \"Vulnerability is not winning or losing; it is having the courage to show up and be seen when we have no control over the outcome\"\n",
      "Brene Brown once said, \"Vulnerability is not winning or losing; it is having the courage to show up and be seen when we have no control over the outcome\"\n",
      "Brene Brown once said, \"Vulnerability is not winning or losing; it is having the courage to show up and be seen when we have no control over the outcome\"\n",
      "Brene Brown once said, \"Vulnerability is not winning or losing; it is having the courage to show up and be seen when we have no control over the outcome\"\n",
      "Brene Brown once said, \"Vulnerability is not winning or losing; it is having the courage to show up and be seen when we have no control over the outcome\"\n",
      "Brene Brown once said, \"Vulnerability is not winning or losing; it is having the courage to show up and be seen when we have no control over the outcome\"\n",
      "Brene Brown once said, \"Vulnerability is not winning or losing; it is having the courage to show up and be seen when we have no control over the outcome\"\n",
      "Brene Brown once said, \"Vulnerability is not winning or losing; it is having the courage to show up and be seen when we have no control over the outcome\"\n",
      "Brene Brown once said, \"Vulnerability is not winning or losing; it is having the courage to show up and be seen when we have no control over the outcome\"\n",
      "Brene Brown once said, \"Vulnerability is not winning or losing; it is having the courage to show up and be seen when we have no control over the outcome\"\n",
      "Brene Brown once said, \"Vulnerability is not winning or losing; it is having the courage to show up and be seen when we have no control over the outcome\"\n",
      "Brene Brown once said, \"Vulnerability is not winning or losing; it is having the courage to show up and be seen when we have no control over the outcome\"\n",
      "Brene Brown once said, \"Vulnerability is not winning or losing; it is having the courage to show up and be seen when we have no control over the outcome\"\n",
      "Brene Brown once said, \"Vulnerability is not winning or losing; it is having the courage to show up and be seen when we have no control over the outcome\"\n",
      "Brene Brown once said, \"Vulnerability is not winning or losing; it is having the courage to show up and be seen when we have no control over the outcome\"\n",
      "Brene Brown once said, \"Vulnerability is not winning or losing; it is having the courage to show up and be seen when we have no control over the outcome\"\n",
      "Brene Brown once said, \"Vulnerability is not winning or losing; it is having the courage to show up and be seen when we have no control over the outcome\"\n",
      "Brene Brown once said, \"Vulnerability is not winning or losing; it is having the courage to show up and be seen when we have no control over the outcome\"\n",
      "Brene Brown once said, \"Vulnerability is not winning or losing; it is having the courage to show up and be seen when we have no control over the outcome\"\n",
      "Brene Brown once said, \"Vulnerability is not winning or losing; it is having the courage to show up and be seen when we have no control over the outcome\"\n",
      "Brene Brown once said, \"Vulnerability is not winning or losing; it is having the courage to show up and be seen when we have no control over the outcome\"\n",
      "Brene Brown once said, \"Vulnerability is not winning or losing; it is having the courage to show up and be seen when we have no control over the outcome\"\n",
      "Brene Brown once said, \"Vulnerability is not winning or losing; it is having the courage to show up and be seen when we have no control over the outcome\"\n",
      "Brene Brown once said, \"Vulnerability is not winning or losing; it is having the courage to show up and be seen when we have no control over the outcome\"\n",
      "Brene Brown once said, \"Vulnerability is not winning or losing; it is having the courage to show up and be seen when we have no control over the outcome\"\n",
      "Brene Brown once said, \"Vulnerability is not winning or losing; it is having the courage to show up and be seen when we have no control over the outcome\"\n",
      "Brene Brown once said, \"Vulnerability is not winning or losing; it is having the courage to show up and be seen when we have no control over the outcome\"\n",
      "Brene Brown once said, \"Vulnerability is not winning or losing; it is having the courage to show up and be seen when we have no control over the outcome\"\n",
      "Brene Brown once said, \"Vulnerability is not winning or losing; it is having the courage to show up and be seen when we have no control over the outcome\"\n",
      "Brene Brown once said, \"Vulnerability is not winning or losing; it is having the courage to show up and be seen when we have no control over the outcome\"\n",
      "Brene Brown once said, \"Vulnerability is not winning or losing; it is having the courage to show up and be seen when we have no control over the outcome\"\n",
      "Brene Brown once said, \"Vulnerability is not winning or losing; it is having the courage to show up and be seen when we have no control over the outcome\"\n",
      "Brene Brown once said, \"Vulnerability is not winning or losing; it is having the courage to show up and be seen when we have no control over the outcome\"\n",
      "Brene Brown once said, \"Vulnerability is not winning or losing; it is having the courage to show up and be seen when we have no control over the outcome\"\n",
      "Brene Brown once said, \"Vulnerability is not winning or losing; it is having the courage to show up and be seen when we have no control over the outcome\"\n",
      "Brene Brown once said, \"Vulnerability is not winning or losing; it is having the courage to show up and be seen when we have no control over the outcome\"\n",
      "Brene Brown once said, \"Vulnerability is not winning or losing; it is having the courage to show up and be seen when we have no control over the outcome\"\n",
      "Brene Brown once said, \"Vulnerability is not winning or losing; it is having the courage to show up and be seen when we have no control over the outcome\"\n",
      "Brene Brown once said, \"Vulnerability is not winning or losing; it is having the courage to show up and be seen when we have no control over the outcome\"\n",
      "Brene Brown once said, \"Vulnerability is not winning or losing; it is having the courage to show up and be seen when we have no control over the outcome\"\n",
      "Brene Brown once said, \"Vulnerability is not winning or losing; it is having the courage to show up and be seen when we have no control over the outcome\"\n",
      "Brene Brown once said, \"Vulnerability is not winning or losing; it is having the courage to show up and be seen when we have no control over the outcome\"\n",
      "Brene Brown once said, \"Vulnerability is not winning or losing; it is having the courage to show up and be seen when we have no control over the outcome\"\n",
      "Brene Brown once said, \"Vulnerability is not winning or losing; it is having the courage to show up and be seen when we have no control over the outcome\"\n",
      "Brene Brown once said, \"Vulnerability is not winning or losing; it is having the courage to show up and be seen when we have no control over the outcome\"\n",
      "Brene Brown once said, \"Vulnerability is not winning or losing; it is having the courage to show up and be seen when we have no control over the outcome\"\n",
      "Brene Brown once said, \"Vulnerability is not winning or losing; it is having the courage to show up and be seen when we have no control over the outcome\"\n",
      "Brene Brown once said, \"Vulnerability is not winning or losing; it is having the courage to show up and be seen when we have no control over the outcome\"\n",
      "Brene Brown once said, \"Vulnerability is not winning or losing; it is having the courage to show up and be seen when we have no control over the outcome\"\n",
      "Brene Brown once said, \"Vulnerability is not winning or losing; it is having the courage to show up and be seen when we have no control over the outcome\"\n",
      "Brene Brown once said, \"Vulnerability is not winning or losing; it is having the courage to show up and be seen when we have no control over the outcome\"\n",
      "Brene Brown once said, \"Vulnerability is not winning or losing; it is having the courage to show up and be seen when we have no control over the outcome\"\n",
      "Brene Brown once said, \"Vulnerability is not winning or losing; it is having the courage to show up and be seen when we have no control over the outcome\"\n",
      "Brene Brown once said, \"Vulnerability is not winning or losing; it is having the courage to show up and be seen when we have no control over the outcome\"\n",
      "Brene Brown once said, \"Vulnerability is not winning or losing; it is having the courage to show up and be seen when we have no control over the outcome\"\n",
      "Brene Brown once said, \"Vulnerability is not winning or losing; it is having the courage to show up and be seen when we have no control over the outcome\"\n",
      "Brene Brown once said, \"Vulnerability is not winning or losing; it is having the courage to show up and be seen when we have no control over the outcome\"\n",
      "Brene Brown once said, \"Vulnerability is not winning or losing; it is having the courage to show up and be seen when we have no control over the outcome\"\n",
      "Brene Brown once said, \"Vulnerability is not winning or losing; it is having the courage to show up and be seen when we have no control over the outcome\"\n",
      "Brene Brown once said, \"Vulnerability is not winning or losing; it is having the courage to show up and be seen when we have no control over the outcome\"\n",
      "Brene Brown once said, \"Vulnerability is not winning or losing; it is having the courage to show up and be seen when we have no control over the outcome\"\n",
      "Brene Brown once said, \"Vulnerability is not winning or losing; it is having the courage to show up and be seen when we have no control over the outcome\"\n",
      "Brene Brown once said, \"Vulnerability is not winning or losing; it is having the courage to show up and be seen when we have no control over the outcome\"\n",
      "Brene Brown once said, \"Vulnerability is not winning or losing; it is having the courage to show up and be seen when we have no control over the outcome\"\n",
      "Brene Brown once said, \"Vulnerability is not winning or losing; it is having the courage to show up and be seen when we have no control over the outcome\"\n",
      "Brene Brown once said, \"Vulnerability is not winning or losing; it is having the courage to show up and be seen when we have no control over the outcome\"\n",
      "Brene Brown once said, \"Vulnerability is not winning or losing; it is having the courage to show up and be seen when we have no control over the outcome\"\n",
      "Brene Brown once said, \"Vulnerability is not winning or losing; it is having the courage to show up and be seen when we have no control over the outcome\"\n",
      "Brene Brown once said, \"Vulnerability is not winning or losing; it is having the courage to show up and be seen when we have no control over the outcome\"\n",
      "Brene Brown once said, \"Vulnerability is not winning or losing; it is having the courage to show up and be seen when we have no control over the outcome\"\n",
      "Brene Brown once said, \"Vulnerability is not winning or losing; it is having the courage to show up and be seen when we have no control over the outcome\"\n",
      "Brene Brown once said, \"Vulnerability is not winning or losing; it is having the courage to show up and be seen when we have no control over the outcome\"\n",
      "Brene Brown once said, \"Vulnerability is not winning or losing; it is having the courage to show up and be seen when we have no control over the outcome\"\n",
      "Brene Brown once said, \"Vulnerability is not winning or losing; it is having the courage to show up and be seen when we have no control over the outcome\"\n",
      "Brene Brown once said, \"Vulnerability is not winning or losing; it is having the courage to show up and be seen when we have no control over the outcome\"\n",
      "Brene Brown once said, \"Vulnerability is not winning or losing; it is having the courage to show up and be seen when we have no control over the outcome\"\n",
      "Brene Brown once said, \"Vulnerability is not winning or losing; it is having the courage to show up and be seen when we have no control over the outcome\"\n",
      "Brene Brown once said, \"Vulnerability is not winning or losing; it is having the courage to show up and be seen when we have no control over the outcome\"\n",
      "Brene Brown once said, \"Vulnerability is not winning or losing; it is having the courage to show up and be seen when we have no control over the outcome\"\n",
      "Brene Brown once said, \"Vulnerability is not winning or losing; it is having the courage to show up and be seen when we have no control over the outcome\"\n",
      "Brene Brown once said, \"Vulnerability is not winning or losing; it is having the courage to show up and be seen when we have no control over the outcome\"\n",
      "Brene Brown once said, \"Vulnerability is not winning or losing; it is having the courage to show up and be seen when we have no control over the outcome\"\n",
      "Brene Brown once said, \"Vulnerability is not winning or losing; it is having the courage to show up and be seen when we have no control over the outcome\"\n",
      "Brene Brown once said, \"Vulnerability is not winning or losing; it is having the courage to show up and be seen when we have no control over the outcome\"\n",
      "Brene Brown once said, \"Vulnerability is not winning or losing; it is having the courage to show up and be seen when we have no control over the outcome\"\n",
      "Brene Brown once said, \"Vulnerability is not winning or losing; it is having the courage to show up and be seen when we have no control over the outcome\"\n",
      "Brene Brown once said, \"Vulnerability is not winning or losing; it is having the courage to show up and be seen when we have no control over the outcome\"\n",
      "Brene Brown once said, \"Vulnerability is not winning or losing; it is having the courage to show up and be seen when we have no control over the outcome\"\n",
      "Brene Brown once said, \"Vulnerability is not winning or losing; it is having the courage to show up and be seen when we have no control over the outcome\"\n",
      "Brene Brown once said, \"Vulnerability is not winning or losing; it is having the courage to show up and be seen when we have no control over the outcome\"\n",
      "Brene Brown once said, \"Vulnerability is not winning or losing; it is having the courage to show up and be seen when we have no control over the outcome\"\n",
      "Brene Brown once said, \"Vulnerability is not winning or losing; it is having the courage to show up and be seen when we have no control over the outcome\"\n",
      "Brene Brown once said, \"Vulnerability is not winning or losing; it is having the courage to show up and be seen when we have no control over the outcome\"\n",
      "Brene Brown once said, \"Vulnerability is not winning or losing; it is having the courage to show up and be seen when we have no control over the outcome\"\n",
      "Brene Brown once said, \"Vulnerability is not winning or losing; it is having the courage to show up and be seen when we have no control over the outcome\"\n",
      "Brene Brown once said, \"Vulnerability is not winning or losing; it is having the courage to show up and be seen when we have no control over the outcome\"\n",
      "Brene Brown once said, \"Vulnerability is not winning or losing; it is having the courage to show up and be seen when we have no control over the outcome\"\n",
      "Brene Brown once said, \"Vulnerability is not winning or losing; it is having the courage to show up and be seen when we have no control over the outcome\"\n",
      "Brene Brown once said, \"Vulnerability is not winning or losing; it is having the courage to show up and be seen when we have no control over the outcome\"\n",
      "Brene Brown once said, \"Vulnerability is not winning or losing; it is having the courage to show up and be seen when we have no control over the outcome\"\n",
      "Brene Brown once said, \"Vulnerability is not winning or losing; it is having the courage to show up and be seen when we have no control over the outcome\"\n",
      "Brene Brown once said, \"Vulnerability is not winning or losing; it is having the courage to show up and be seen when we have no control over the outcome\"\n",
      "Brene Brown once said, \"Vulnerability is not winning or losing; it is having the courage to show up and be seen when we have no control over the outcome\"\n",
      "Brene Brown once said, \"Vulnerability is not winning or losing; it is having the courage to show up and be seen when we have no control over the outcome\"\n",
      "Brene Brown once said, \"Vulnerability is not winning or losing; it is having the courage to show up and be seen when we have no control over the outcome\"\n",
      "Brene Brown once said, \"Vulnerability is not winning or losing; it is having the courage to show up and be seen when we have no control over the outcome\"\n",
      "Brene Brown once said, \"Vulnerability is not winning or losing; it is having the courage to show up and be seen when we have no control over the outcome\"\n",
      "Brene Brown once said, \"Vulnerability is not winning or losing; it is having the courage to show up and be seen when we have no control over the outcome\"\n",
      "Brene Brown once said, \"Vulnerability is not winning or losing; it is having the courage to show up and be seen when we have no control over the outcome\"\n",
      "Brene Brown once said, \"Vulnerability is not winning or losing; it is having the courage to show up and be seen when we have no control over the outcome\"\n",
      "Brene Brown once said, \"Vulnerability is not winning or losing; it is having the courage to show up and be seen when we have no control over the outcome\"\n",
      "Brene Brown once said, \"Vulnerability is not winning or losing; it is having the courage to show up and be seen when we have no control over the outcome\"\n",
      "Brene Brown once said, \"Vulnerability is not winning or losing; it is having the courage to show up and be seen when we have no control over the outcome\"\n",
      "Brene Brown once said, \"Vulnerability is not winning or losing; it is having the courage to show up and be seen when we have no control over the outcome\"\n",
      "Brene Brown once said, \"Vulnerability is not winning or losing; it is having the courage to show up and be seen when we have no control over the outcome\"\n",
      "Brene Brown once said, \"Vulnerability is not winning or losing; it is having the courage to show up and be seen when we have no control over the outcome\"\n",
      "Brene Brown once said, \"Vulnerability is not winning or losing; it is having the courage to show up and be seen when we have no control over the outcome\"\n",
      "Brene Brown once said, \"Vulnerability is not winning or losing; it is having the courage to show up and be seen when we have no control over the outcome\"\n",
      "Brene Brown once said, \"Vulnerability is not winning or losing; it is having the courage to show up and be seen when we have no control over the outcome\"\n",
      "Brene Brown once said, \"Vulnerability is not winning or losing; it is having the courage to show up and be seen when we have no control over the outcome\"\n",
      "Brene Brown once said, \"Vulnerability is not winning or losing; it is having the courage to show up and be seen when we have no control over the outcome\"\n",
      "Brene Brown once said, \"Vulnerability is not winning or losing; it is having the courage to show up and be seen when we have no control over the outcome\"\n",
      "Brene Brown once said, \"Vulnerability is not winning or losing; it is having the courage to show up and be seen when we have no control over the outcome\"\n",
      "Brene Brown once said, \"Vulnerability is not winning or losing; it is having the courage to show up and be seen when we have no control over the outcome\"\n",
      "Brene Brown once said, \"Vulnerability is not winning or losing; it is having the courage to show up and be seen when we have no control over the outcome\"\n",
      "Brene Brown once said, \"Vulnerability is not winning or losing; it is having the courage to show up and be seen when we have no control over the outcome\"\n",
      "Brene Brown once said, \"Vulnerability is not winning or losing; it is having the courage to show up and be seen when we have no control over the outcome\"\n",
      "Brene Brown once said, \"Vulnerability is not winning or losing; it is having the courage to show up and be seen when we have no control over the outcome\"\n",
      "Brene Brown once said, \"Vulnerability is not winning or losing; it is having the courage to show up and be seen when we have no control over the outcome\"\n",
      "Brene Brown once said, \"Vulnerability is not winning or losing; it is having the courage to show up and be seen when we have no control over the outcome\"\n",
      "Brene Brown once said, \"Vulnerability is not winning or losing; it is having the courage to show up and be seen when we have no control over the outcome\"\n",
      "Brene Brown once said, \"Vulnerability is not winning or losing; it is having the courage to show up and be seen when we have no control over the outcome\"\n",
      "Brene Brown once said, \"Vulnerability is not winning or losing; it is having the courage to show up and be seen when we have no control over the outcome\"\n",
      "Brene Brown once said, \"Vulnerability is not winning or losing; it is having the courage to show up and be seen when we have no control over the outcome\"\n",
      "Brene Brown once said, \"Vulnerability is not winning or losing; it is having the courage to show up and be seen when we have no control over the outcome\"\n",
      "Brene Brown once said, \"Vulnerability is not winning or losing; it is having the courage to show up and be seen when we have no control over the outcome\"\n",
      "Brene Brown once said, \"Vulnerability is not winning or losing; it is having the courage to show up and be seen when we have no control over the outcome\"\n",
      "Brene Brown once said, \"Vulnerability is not winning or losing; it is having the courage to show up and be seen when we have no control over the outcome\"\n",
      "Brene Brown once said, \"Vulnerability is not winning or losing; it is having the courage to show up and be seen when we have no control over the outcome\"\n",
      "Brene Brown once said, \"Vulnerability is not winning or losing; it is having the courage to show up and be seen when we have no control over the outcome\"\n",
      "Brene Brown once said, \"Vulnerability is not winning or losing; it is having the courage to show up and be seen when we have no control over the outcome\"\n",
      "Brene Brown once said, \"Vulnerability is not winning or losing; it is having the courage to show up and be seen when we have no control over the outcome\"\n",
      "Brene Brown once said, \"Vulnerability is not winning or losing; it is having the courage to show up and be seen when we have no control over the outcome\"\n",
      "Brene Brown once said, \"Vulnerability is not winning or losing; it is having the courage to show up and be seen when we have no control over the outcome\"\n",
      "Brene Brown once said, \"Vulnerability is not winning or losing; it is having the courage to show up and be seen when we have no control over the outcome\"\n",
      "Brene Brown once said, \"Vulnerability is not winning or losing; it is having the courage to show up and be seen when we have no control over the outcome\"\n",
      "Brene Brown once said, \"Vulnerability is not winning or losing; it is having the courage to show up and be seen when we have no control over the outcome\"\n",
      "Brene Brown once said, \"Vulnerability is not winning or losing; it is having the courage to show up and be seen when we have no control over the outcome\"\n",
      "Brene Brown once said, \"Vulnerability is not winning or losing; it is having the courage to show up and be seen when we have no control over the outcome\"\n",
      "Brene Brown once said, \"Vulnerability is not winning or losing; it is having the courage to show up and be seen when we have no control over the outcome\"\n",
      "Brene Brown once said, \"Vulnerability is not winning or losing; it is having the courage to show up and be seen when we have no control over the outcome\"\n",
      "Brene Brown once said, \"Vulnerability is not winning or losing; it is having the courage to show up and be seen when we have no control over the outcome\"\n",
      "Brene Brown once said, \"Vulnerability is not winning or losing; it is having the courage to show up and be seen when we have no control over the outcome\"\n",
      "Brene Brown once said, \"Vulnerability is not winning or losing; it is having the courage to show up and be seen when we have no control over the outcome\"\n",
      "Brene Brown once said, \"Vulnerability is not winning or losing; it is having the courage to show up and be seen when we have no control over the outcome\"\n",
      "Brene Brown once said, \"Vulnerability is not winning or losing; it is having the courage to show up and be seen when we have no control over the outcome\"\n",
      "Brene Brown once said, \"Vulnerability is not winning or losing; it is having the courage to show up and be seen when we have no control over the outcome\"\n",
      "Brene Brown once said, \"Vulnerability is not winning or losing; it is having the courage to show up and be seen when we have no control over the outcome\"\n",
      "Brene Brown once said, \"Vulnerability is not winning or losing; it is having the courage to show up and be seen when we have no control over the outcome\"\n",
      "Brene Brown once said, \"Vulnerability is not winning or losing; it is having the courage to show up and be seen when we have no control over the outcome\"\n",
      "Brene Brown once said, \"Vulnerability is not winning or losing; it is having the courage to show up and be seen when we have no control over the outcome\"\n",
      "Brene Brown once said, \"Vulnerability is not winning or losing; it is having the courage to show up and be seen when we have no control over the outcome\"\n",
      "Brene Brown once said, \"Vulnerability is not winning or losing; it is having the courage to show up and be seen when we have no control over the outcome\"\n",
      "Brene Brown once said, \"Vulnerability is not winning or losing; it is having the courage to show up and be seen when we have no control over the outcome\"\n",
      "Brene Brown once said, \"Vulnerability is not winning or losing; it is having the courage to show up and be seen when we have no control over the outcome\"\n",
      "Brene Brown once said, \"Vulnerability is not winning or losing; it is having the courage to show up and be seen when we have no control over the outcome\"\n",
      "Brene Brown once said, \"Vulnerability is not winning or losing; it is having the courage to show up and be seen when we have no control over the outcome\"\n",
      "Brene Brown once said, \"Vulnerability is not winning or losing; it is having the courage to show up and be seen when we have no control over the outcome\"\n",
      "Brene Brown once said, \"Vulnerability is not winning or losing; it is having the courage to show up and be seen when we have no control over the outcome\"\n",
      "Brene Brown once said, \"Vulnerability is not winning or losing; it is having the courage to show up and be seen when we have no control over the outcome\"\n",
      "Brene Brown once said, \"Vulnerability is not winning or losing; it is having the courage to show up and be seen when we have no control over the outcome\"\n",
      "Brene Brown once said, \"Vulnerability is not winning or losing; it is having the courage to show up and be seen when we have no control over the outcome\"\n",
      "Brene Brown once said, \"Vulnerability is not winning or losing; it is having the courage to show up and be seen when we have no control over the outcome\"\n",
      "Brene Brown once said, \"Vulnerability is not winning or losing; it is having the courage to show up and be seen when we have no control over the outcome\"\n",
      "Brene Brown once said, \"Vulnerability is not winning or losing; it is having the courage to show up and be seen when we have no control over the outcome\"\n",
      "Brene Brown once said, \"Vulnerability is not winning or losing; it is having the courage to show up and be seen when we have no control over the outcome\"\n",
      "Brene Brown once said, \"Vulnerability is not winning or losing; it is having the courage to show up and be seen when we have no control over the outcome\"\n",
      "Brene Brown once said, \"Vulnerability is not winning or losing; it is having the courage to show up and be seen when we have no control over the outcome\"\n",
      "Brene Brown once said, \"Vulnerability is not winning or losing; it is having the courage to show up and be seen when we have no control over the outcome\"\n",
      "Brene Brown once said, \"Vulnerability is not winning or losing; it is having the courage to show up and be seen when we have no control over the outcome\"\n",
      "Brene Brown once said, \"Vulnerability is not winning or losing; it is having the courage to show up and be seen when we have no control over the outcome\"\n",
      "Brene Brown once said, \"Vulnerability is not winning or losing; it is having the courage to show up and be seen when we have no control over the outcome\"\n",
      "Brene Brown once said, \"Vulnerability is not winning or losing; it is having the courage to show up and be seen when we have no control over the outcome\"\n",
      "Brene Brown once said, \"Vulnerability is not winning or losing; it is having the courage to show up and be seen when we have no control over the outcome\"\n",
      "Brene Brown once said, \"Vulnerability is not winning or losing; it is having the courage to show up and be seen when we have no control over the outcome\"\n",
      "Brene Brown once said, \"Vulnerability is not winning or losing; it is having the courage to show up and be seen when we have no control over the outcome\"\n",
      "Brene Brown once said, \"Vulnerability is not winning or losing; it is having the courage to show up and be seen when we have no control over the outcome\"\n",
      "Brene Brown once said, \"Vulnerability is not winning or losing; it is having the courage to show up and be seen when we have no control over the outcome\"\n",
      "Brene Brown once said, \"Vulnerability is not winning or losing; it is having the courage to show up and be seen when we have no control over the outcome\"\n",
      "Brene Brown once said, \"Vulnerability is not winning or losing; it is having the courage to show up and be seen when we have no control over the outcome\"\n",
      "Brene Brown once said, \"Vulnerability is not winning or losing; it is having the courage to show up and be seen when we have no control over the outcome\"\n",
      "Brene Brown once said, \"Vulnerability is not winning or losing; it is having the courage to show up and be seen when we have no control over the outcome\"\n",
      "Brene Brown once said, \"Vulnerability is not winning or losing; it is having the courage to show up and be seen when we have no control over the outcome\"\n",
      "Brene Brown once said, \"Vulnerability is not winning or losing; it is having the courage to show up and be seen when we have no control over the outcome\"\n",
      "Brene Brown once said, \"Vulnerability is not winning or losing; it is having the courage to show up and be seen when we have no control over the outcome\"\n",
      "Brene Brown once said, \"Vulnerability is not winning or losing; it is having the courage to show up and be seen when we have no control over the outcome\"\n",
      "Brene Brown once said, \"Vulnerability is not winning or losing; it is having the courage to show up and be seen when we have no control over the outcome\"\n",
      "Brene Brown once said, \"Vulnerability is not winning or losing; it is having the courage to show up and be seen when we have no control over the outcome\"\n",
      "Brene Brown once said, \"Vulnerability is not winning or losing; it is having the courage to show up and be seen when we have no control over the outcome\"\n",
      "Brene Brown once said, \"Vulnerability is not winning or losing; it is having the courage to show up and be seen when we have no control over the outcome\"\n",
      "Brene Brown once said, \"Vulnerability is not winning or losing; it is having the courage to show up and be seen when we have no control over the outcome\"\n",
      "Brene Brown once said, \"Vulnerability is not winning or losing; it is having the courage to show up and be seen when we have no control over the outcome\"\n",
      "Brene Brown once said, \"Vulnerability is not winning or losing; it is having the courage to show up and be seen when we have no control over the outcome\"\n",
      "Brene Brown once said, \"Vulnerability is not winning or losing; it is having the courage to show up and be seen when we have no control over the outcome\"\n",
      "Brene Brown once said, \"Vulnerability is not winning or losing; it is having the courage to show up and be seen when we have no control over the outcome\"\n",
      "Brene Brown once said, \"Vulnerability is not winning or losing; it is having the courage to show up and be seen when we have no control over the outcome\"\n",
      "Brene Brown once said, \"Vulnerability is not winning or losing; it is having the courage to show up and be seen when we have no control over the outcome\"\n",
      "Brene Brown once said, \"Vulnerability is not winning or losing; it is having the courage to show up and be seen when we have no control over the outcome\"\n",
      "Brene Brown once said, \"Vulnerability is not winning or losing; it is having the courage to show up and be seen when we have no control over the outcome\"\n",
      "Brene Brown once said, \"Vulnerability is not winning or losing; it is having the courage to show up and be seen when we have no control over the outcome\"\n",
      "Brene Brown once said, \"Vulnerability is not winning or losing; it is having the courage to show up and be seen when we have no control over the outcome\"\n",
      "Brene Brown once said, \"Vulnerability is not winning or losing; it is having the courage to show up and be seen when we have no control over the outcome\"\n",
      "Brene Brown once said, \"Vulnerability is not winning or losing; it is having the courage to show up and be seen when we have no control over the outcome\"\n",
      "Brene Brown once said, \"Vulnerability is not winning or losing; it is having the courage to show up and be seen when we have no control over the outcome\"\n",
      "Brene Brown once said, \"Vulnerability is not winning or losing; it is having the courage to show up and be seen when we have no control over the outcome\"\n",
      "Brene Brown once said, \"Vulnerability is not winning or losing; it is having the courage to show up and be seen when we have no control over the outcome\"\n",
      "Brene Brown once said, \"Vulnerability is not winning or losing; it is having the courage to show up and be seen when we have no control over the outcome\"\n",
      "Brene Brown once said, \"Vulnerability is not winning or losing; it is having the courage to show up and be seen when we have no control over the outcome\"\n",
      "Brene Brown once said, \"Vulnerability is not winning or losing; it is having the courage to show up and be seen when we have no control over the outcome\"\n",
      "Brene Brown once said, \"Vulnerability is not winning or losing; it is having the courage to show up and be seen when we have no control over the outcome\"\n",
      "Brene Brown once said, \"Vulnerability is not winning or losing; it is having the courage to show up and be seen when we have no control over the outcome\"\n",
      "Brene Brown once said, \"Vulnerability is not winning or losing; it is having the courage to show up and be seen when we have no control over the outcome\"\n",
      "Brene Brown once said, \"Vulnerability is not winning or losing; it is having the courage to show up and be seen when we have no control over the outcome\"\n",
      "Brene Brown once said, \"Vulnerability is not winning or losing; it is having the courage to show up and be seen when we have no control over the outcome\"\n",
      "Brene Brown once said, \"Vulnerability is not winning or losing; it is having the courage to show up and be seen when we have no control over the outcome\"\n",
      "Brene Brown once said, \"Vulnerability is not winning or losing; it is having the courage to show up and be seen when we have no control over the outcome\"\n",
      "Brene Brown once said, \"Vulnerability is not winning or losing; it is having the courage to show up and be seen when we have no control over the outcome\"\n",
      "Brene Brown once said, \"Vulnerability is not winning or losing; it is having the courage to show up and be seen when we have no control over the outcome\"\n",
      "Brene Brown once said, \"Vulnerability is not winning or losing; it is having the courage to show up and be seen when we have no control over the outcome\"\n",
      "Brene Brown once said, \"Vulnerability is not winning or losing; it is having the courage to show up and be seen when we have no control over the outcome\"\n",
      "Brene Brown once said, \"Vulnerability is not winning or losing; it is having the courage to show up and be seen when we have no control over the outcome\"\n",
      "Brene Brown once said, \"Vulnerability is not winning or losing; it is having the courage to show up and be seen when we have no control over the outcome\"\n",
      "Brene Brown once said, \"Vulnerability is not winning or losing; it is having the courage to show up and be seen when we have no control over the outcome\"\n",
      "Brene Brown once said, \"Vulnerability is not winning or losing; it is having the courage to show up and be seen when we have no control over the outcome\"\n",
      "Brene Brown once said, \"Vulnerability is not winning or losing; it is having the courage to show up and be seen when we have no control over the outcome\"\n",
      "Brene Brown once said, \"Vulnerability is not winning or losing; it is having the courage to show up and be seen when we have no control over the outcome\"\n",
      "Brene Brown once said, \"Vulnerability is not winning or losing; it is having the courage to show up and be seen when we have no control over the outcome\"\n",
      "Brene Brown once said, \"Vulnerability is not winning or losing; it is having the courage to show up and be seen when we have no control over the outcome\"\n",
      "Brene Brown once said, \"Vulnerability is not winning or losing; it is having the courage to show up and be seen when we have no control over the outcome\"\n",
      "Brene Brown once said, \"Vulnerability is not winning or losing; it is having the courage to show up and be seen when we have no control over the outcome\"\n",
      "Brene Brown once said, \"Vulnerability is not winning or losing; it is having the courage to show up and be seen when we have no control over the outcome\"\n",
      "Brene Brown once said, \"Vulnerability is not winning or losing; it is having the courage to show up and be seen when we have no control over the outcome\"\n",
      "Brene Brown once said, \"Vulnerability is not winning or losing; it is having the courage to show up and be seen when we have no control over the outcome\"\n",
      "Brene Brown once said, \"Vulnerability is not winning or losing; it is having the courage to show up and be seen when we have no control over the outcome\"\n",
      "Brene Brown once said, \"Vulnerability is not winning or losing; it is having the courage to show up and be seen when we have no control over the outcome\"\n",
      "Brene Brown once said, \"Vulnerability is not winning or losing; it is having the courage to show up and be seen when we have no control over the outcome\"\n",
      "Brene Brown once said, \"Vulnerability is not winning or losing; it is having the courage to show up and be seen when we have no control over the outcome\"\n",
      "Brene Brown once said, \"Vulnerability is not winning or losing; it is having the courage to show up and be seen when we have no control over the outcome\"\n",
      "Brene Brown once said, \"Vulnerability is not winning or losing; it is having the courage to show up and be seen when we have no control over the outcome\"\n",
      "Brene Brown once said, \"Vulnerability is not winning or losing; it is having the courage to show up and be seen when we have no control over the outcome\"\n",
      "Brene Brown once said, \"Vulnerability is not winning or losing; it is having the courage to show up and be seen when we have no control over the outcome\"\n",
      "Brene Brown once said, \"Vulnerability is not winning or losing; it is having the courage to show up and be seen when we have no control over the outcome\"\n",
      "Brene Brown once said, \"Vulnerability is not winning or losing; it is having the courage to show up and be seen when we have no control over the outcome\"\n",
      "Brene Brown once said, \"Vulnerability is not winning or losing; it is having the courage to show up and be seen when we have no control over the outcome\"\n",
      "Brene Brown once said, \"Vulnerability is not winning or losing; it is having the courage to show up and be seen when we have no control over the outcome\"\n",
      "Brene Brown once said, \"Vulnerability is not winning or losing; it is having the courage to show up and be seen when we have no control over the outcome\"\n",
      "Brene Brown once said, \"Vulnerability is not winning or losing; it is having the courage to show up and be seen when we have no control over the outcome\"\n",
      "Brene Brown once said, \"Vulnerability is not winning or losing; it is having the courage to show up and be seen when we have no control over the outcome\"\n",
      "Brene Brown once said, \"Vulnerability is not winning or losing; it is having the courage to show up and be seen when we have no control over the outcome\"\n",
      "Brene Brown once said, \"Vulnerability is not winning or losing; it is having the courage to show up and be seen when we have no control over the outcome\"\n",
      "Brene Brown once said, \"Vulnerability is not winning or losing; it is having the courage to show up and be seen when we have no control over the outcome\"\n",
      "Brene Brown once said, \"Vulnerability is not winning or losing; it is having the courage to show up and be seen when we have no control over the outcome\"\n",
      "Brene Brown once said, \"Vulnerability is not winning or losing; it is having the courage to show up and be seen when we have no control over the outcome\"\n",
      "Brene Brown once said, \"Vulnerability is not winning or losing; it is having the courage to show up and be seen when we have no control over the outcome\"\n",
      "Brene Brown once said, \"Vulnerability is not winning or losing; it is having the courage to show up and be seen when we have no control over the outcome\"\n",
      "Brene Brown once said, \"Vulnerability is not winning or losing; it is having the courage to show up and be seen when we have no control over the outcome\"\n",
      "Brene Brown once said, \"Vulnerability is not winning or losing; it is having the courage to show up and be seen when we have no control over the outcome\"\n",
      "Brene Brown once said, \"Vulnerability is not winning or losing; it is having the courage to show up and be seen when we have no control over the outcome\"\n",
      "Brene Brown once said, \"Vulnerability is not winning or losing; it is having the courage to show up and be seen when we have no control over the outcome\"\n",
      "Brene Brown once said, \"Vulnerability is not winning or losing; it is having the courage to show up and be seen when we have no control over the outcome\"\n",
      "Brene Brown once said, \"Vulnerability is not winning or losing; it is having the courage to show up and be seen when we have no control over the outcome\"\n",
      "Brene Brown once said, \"Vulnerability is not winning or losing; it is having the courage to show up and be seen when we have no control over the outcome\"\n",
      "Brene Brown once said, \"Vulnerability is not winning or losing; it is having the courage to show up and be seen when we have no control over the outcome\"\n",
      "Brene Brown once said, \"Vulnerability is not winning or losing; it is having the courage to show up and be seen when we have no control over the outcome\"\n",
      "Brene Brown once said, \"Vulnerability is not winning or losing; it is having the courage to show up and be seen when we have no control over the outcome\"\n",
      "Brene Brown once said, \"Vulnerability is not winning or losing; it is having the courage to show up and be seen when we have no control over the outcome\"\n",
      "Brene Brown once said, \"Vulnerability is not winning or losing; it is having the courage to show up and be seen when we have no control over the outcome\"\n",
      "Brene Brown once said, \"Vulnerability is not winning or losing; it is having the courage to show up and be seen when we have no control over the outcome\"\n",
      "Brene Brown once said, \"Vulnerability is not winning or losing; it is having the courage to show up and be seen when we have no control over the outcome\"\n",
      "Brene Brown once said, \"Vulnerability is not winning or losing; it is having the courage to show up and be seen when we have no control over the outcome\"\n",
      "Brene Brown once said, \"Vulnerability is not winning or losing; it is having the courage to show up and be seen when we have no control over the outcome\"\n",
      "Brene Brown once said, \"Vulnerability is not winning or losing; it is having the courage to show up and be seen when we have no control over the outcome\"\n",
      "Brene Brown once said, \"Vulnerability is not winning or losing; it is having the courage to show up and be seen when we have no control over the outcome\"\n",
      "Brene Brown once said, \"Vulnerability is not winning or losing; it is having the courage to show up and be seen when we have no control over the outcome\"\n",
      "Brene Brown once said, \"Vulnerability is not winning or losing; it is having the courage to show up and be seen when we have no control over the outcome\"\n",
      "Brene Brown once said, \"Vulnerability is not winning or losing; it is having the courage to show up and be seen when we have no control over the outcome\"\n",
      "Brene Brown once said, \"Vulnerability is not winning or losing; it is having the courage to show up and be seen when we have no control over the outcome\"\n",
      "Brene Brown once said, \"Vulnerability is not winning or losing; it is having the courage to show up and be seen when we have no control over the outcome\"\n",
      "Brene Brown once said, \"Vulnerability is not winning or losing; it is having the courage to show up and be seen when we have no control over the outcome\"\n",
      "Brene Brown once said, \"Vulnerability is not winning or losing; it is having the courage to show up and be seen when we have no control over the outcome\"\n",
      "Brene Brown once said, \"Vulnerability is not winning or losing; it is having the courage to show up and be seen when we have no control over the outcome\"\n",
      "Brene Brown once said, \"Vulnerability is not winning or losing; it is having the courage to show up and be seen when we have no control over the outcome\"\n",
      "Brene Brown once said, \"Vulnerability is not winning or losing; it is having the courage to show up and be seen when we have no control over the outcome\"\n",
      "Brene Brown once said, \"Vulnerability is not winning or losing; it is having the courage to show up and be seen when we have no control over the outcome\"\n",
      "Brene Brown once said, \"Vulnerability is not winning or losing; it is having the courage to show up and be seen when we have no control over the outcome\"\n",
      "Brene Brown once said, \"Vulnerability is not winning or losing; it is having the courage to show up and be seen when we have no control over the outcome\"\n",
      "Brene Brown once said, \"Vulnerability is not winning or losing; it is having the courage to show up and be seen when we have no control over the outcome\"\n",
      "Brene Brown once said, \"Vulnerability is not winning or losing; it is having the courage to show up and be seen when we have no control over the outcome\"\n",
      "Brene Brown once said, \"Vulnerability is not winning or losing; it is having the courage to show up and be seen when we have no control over the outcome\"\n",
      "Brene Brown once said, \"Vulnerability is not winning or losing; it is having the courage to show up and be seen when we have no control over the outcome\"\n",
      "Brene Brown once said, \"Vulnerability is not winning or losing; it is having the courage to show up and be seen when we have no control over the outcome\"\n",
      "Brene Brown once said, \"Vulnerability is not winning or losing; it is having the courage to show up and be seen when we have no control over the outcome\"\n",
      "Brene Brown once said, \"Vulnerability is not winning or losing; it is having the courage to show up and be seen when we have no control over the outcome\"\n",
      "Brene Brown once said, \"Vulnerability is not winning or losing; it is having the courage to show up and be seen when we have no control over the outcome\"\n",
      "Brene Brown once said, \"Vulnerability is not winning or losing; it is having the courage to show up and be seen when we have no control over the outcome\"\n",
      "Brene Brown once said, \"Vulnerability is not winning or losing; it is having the courage to show up and be seen when we have no control over the outcome\"\n",
      "Brene Brown once said, \"Vulnerability is not winning or losing; it is having the courage to show up and be seen when we have no control over the outcome\"\n",
      "Brene Brown once said, \"Vulnerability is not winning or losing; it is having the courage to show up and be seen when we have no control over the outcome\"\n",
      "Brene Brown once said, \"Vulnerability is not winning or losing; it is having the courage to show up and be seen when we have no control over the outcome\"\n",
      "Brene Brown once said, \"Vulnerability is not winning or losing; it is having the courage to show up and be seen when we have no control over the outcome\"\n",
      "Brene Brown once said, \"Vulnerability is not winning or losing; it is having the courage to show up and be seen when we have no control over the outcome\"\n",
      "Brene Brown once said, \"Vulnerability is not winning or losing; it is having the courage to show up and be seen when we have no control over the outcome\"\n",
      "Brene Brown once said, \"Vulnerability is not winning or losing; it is having the courage to show up and be seen when we have no control over the outcome\"\n",
      "Brene Brown once said, \"Vulnerability is not winning or losing; it is having the courage to show up and be seen when we have no control over the outcome\"\n",
      "Brene Brown once said, \"Vulnerability is not winning or losing; it is having the courage to show up and be seen when we have no control over the outcome\"\n",
      "Brene Brown once said, \"Vulnerability is not winning or losing; it is having the courage to show up and be seen when we have no control over the outcome\"\n",
      "Brene Brown once said, \"Vulnerability is not winning or losing; it is having the courage to show up and be seen when we have no control over the outcome\"\n",
      "Brene Brown once said, \"Vulnerability is not winning or losing; it is having the courage to show up and be seen when we have no control over the outcome\"\n",
      "Brene Brown once said, \"Vulnerability is not winning or losing; it is having the courage to show up and be seen when we have no control over the outcome\"\n",
      "Brene Brown once said, \"Vulnerability is not winning or losing; it is having the courage to show up and be seen when we have no control over the outcome\"\n",
      "Brene Brown once said, \"Vulnerability is not winning or losing; it is having the courage to show up and be seen when we have no control over the outcome\"\n",
      "Brene Brown once said, \"Vulnerability is not winning or losing; it is having the courage to show up and be seen when we have no control over the outcome\"\n",
      "Brene Brown once said, \"Vulnerability is not winning or losing; it is having the courage to show up and be seen when we have no control over the outcome\"\n",
      "Brene Brown once said, \"Vulnerability is not winning or losing; it is having the courage to show up and be seen when we have no control over the outcome\"\n",
      "Brene Brown once said, \"Vulnerability is not winning or losing; it is having the courage to show up and be seen when we have no control over the outcome\"\n",
      "Brene Brown once said, \"Vulnerability is not winning or losing; it is having the courage to show up and be seen when we have no control over the outcome\"\n",
      "Brene Brown once said, \"Vulnerability is not winning or losing; it is having the courage to show up and be seen when we have no control over the outcome\"\n",
      "Brene Brown once said, \"Vulnerability is not winning or losing; it is having the courage to show up and be seen when we have no control over the outcome\"\n",
      "Brene Brown once said, \"Vulnerability is not winning or losing; it is having the courage to show up and be seen when we have no control over the outcome\"\n",
      "Brene Brown once said, \"Vulnerability is not winning or losing; it is having the courage to show up and be seen when we have no control over the outcome\"\n",
      "Brene Brown once said, \"Vulnerability is not winning or losing; it is having the courage to show up and be seen when we have no control over the outcome\"\n",
      "Brene Brown once said, \"Vulnerability is not winning or losing; it is having the courage to show up and be seen when we have no control over the outcome\"\n",
      "Brene Brown once said, \"Vulnerability is not winning or losing; it is having the courage to show up and be seen when we have no control over the outcome\"\n",
      "Brene Brown once said, \"Vulnerability is not winning or losing; it is having the courage to show up and be seen when we have no control over the outcome\"\n",
      "Brene Brown once said, \"Vulnerability is not winning or losing; it is having the courage to show up and be seen when we have no control over the outcome\"\n",
      "Brene Brown once said, \"Vulnerability is not winning or losing; it is having the courage to show up and be seen when we have no control over the outcome\"\n",
      "Brene Brown once said, \"Vulnerability is not winning or losing; it is having the courage to show up and be seen when we have no control over the outcome\"\n",
      "Brene Brown once said, \"Vulnerability is not winning or losing; it is having the courage to show up and be seen when we have no control over the outcome\"\n",
      "Brene Brown once said, \"Vulnerability is not winning or losing; it is having the courage to show up and be seen when we have no control over the outcome\"\n",
      "Brene Brown once said, \"Vulnerability is not winning or losing; it is having the courage to show up and be seen when we have no control over the outcome\"\n",
      "Brene Brown once said, \"Vulnerability is not winning or losing; it is having the courage to show up and be seen when we have no control over the outcome\"\n",
      "Brene Brown once said, \"Vulnerability is not winning or losing; it is having the courage to show up and be seen when we have no control over the outcome\"\n",
      "Brene Brown once said, \"Vulnerability is not winning or losing; it is having the courage to show up and be seen when we have no control over the outcome\"\n",
      "Brene Brown once said, \"Vulnerability is not winning or losing; it is having the courage to show up and be seen when we have no control over the outcome\"\n",
      "Brene Brown once said, \"Vulnerability is not winning or losing; it is having the courage to show up and be seen when we have no control over the outcome\"\n",
      "Brene Brown once said, \"Vulnerability is not winning or losing; it is having the courage to show up and be seen when we have no control over the outcome\"\n",
      "Brene Brown once said, \"Vulnerability is not winning or losing; it is having the courage to show up and be seen when we have no control over the outcome\"\n",
      "Brene Brown once said, \"Vulnerability is not winning or losing; it is having the courage to show up and be seen when we have no control over the outcome\"\n",
      "Brene Brown once said, \"Vulnerability is not winning or losing; it is having the courage to show up and be seen when we have no control over the outcome\"\n",
      "Brene Brown once said, \"Vulnerability is not winning or losing; it is having the courage to show up and be seen when we have no control over the outcome\"\n",
      "Brene Brown once said, \"Vulnerability is not winning or losing; it is having the courage to show up and be seen when we have no control over the outcome\"\n",
      "Brene Brown once said, \"Vulnerability is not winning or losing; it is having the courage to show up and be seen when we have no control over the outcome\"\n",
      "Brene Brown once said, \"Vulnerability is not winning or losing; it is having the courage to show up and be seen when we have no control over the outcome\"\n",
      "Brene Brown once said, \"Vulnerability is not winning or losing; it is having the courage to show up and be seen when we have no control over the outcome\"\n",
      "Brene Brown once said, \"Vulnerability is not winning or losing; it is having the courage to show up and be seen when we have no control over the outcome\"\n",
      "Brene Brown once said, \"Vulnerability is not winning or losing; it is having the courage to show up and be seen when we have no control over the outcome\"\n",
      "Brene Brown once said, \"Vulnerability is not winning or losing; it is having the courage to show up and be seen when we have no control over the outcome\"\n",
      "Brene Brown once said, \"Vulnerability is not winning or losing; it is having the courage to show up and be seen when we have no control over the outcome\"\n",
      "Brene Brown once said, \"Vulnerability is not winning or losing; it is having the courage to show up and be seen when we have no control over the outcome\"\n",
      "Brene Brown once said, \"Vulnerability is not winning or losing; it is having the courage to show up and be seen when we have no control over the outcome\"\n",
      "Brene Brown once said, \"Vulnerability is not winning or losing; it is having the courage to show up and be seen when we have no control over the outcome\"\n",
      "Brene Brown once said, \"Vulnerability is not winning or losing; it is having the courage to show up and be seen when we have no control over the outcome\"\n",
      "Brene Brown once said, \"Vulnerability is not winning or losing; it is having the courage to show up and be seen when we have no control over the outcome\"\n",
      "Brene Brown once said, \"Vulnerability is not winning or losing; it is having the courage to show up and be seen when we have no control over the outcome\"\n",
      "Brene Brown once said, \"Vulnerability is not winning or losing; it is having the courage to show up and be seen when we have no control over the outcome\"\n",
      "Brene Brown once said, \"Vulnerability is not winning or losing; it is having the courage to show up and be seen when we have no control over the outcome\"\n",
      "Brene Brown once said, \"Vulnerability is not winning or losing; it is having the courage to show up and be seen when we have no control over the outcome\"\n",
      "Brene Brown once said, \"Vulnerability is not winning or losing; it is having the courage to show up and be seen when we have no control over the outcome\"\n",
      "Brene Brown once said, \"Vulnerability is not winning or losing; it is having the courage to show up and be seen when we have no control over the outcome\"\n",
      "Brene Brown once said, \"Vulnerability is not winning or losing; it is having the courage to show up and be seen when we have no control over the outcome\"\n",
      "Brene Brown once said, \"Vulnerability is not winning or losing; it is having the courage to show up and be seen when we have no control over the outcome\"\n",
      "Brene Brown once said, \"Vulnerability is not winning or losing; it is having the courage to show up and be seen when we have no control over the outcome\"\n",
      "Brene Brown once said, \"Vulnerability is not winning or losing; it is having the courage to show up and be seen when we have no control over the outcome\"\n",
      "Brene Brown once said, \"Vulnerability is not winning or losing; it is having the courage to show up and be seen when we have no control over the outcome\"\n",
      "Brene Brown once said, \"Vulnerability is not winning or losing; it is having the courage to show up and be seen when we have no control over the outcome\"\n",
      "Brene Brown once said, \"Vulnerability is not winning or losing; it is having the courage to show up and be seen when we have no control over the outcome\"\n",
      "Brene Brown once said, \"Vulnerability is not winning or losing; it is having the courage to show up and be seen when we have no control over the outcome\"\n",
      "Brene Brown once said, \"Vulnerability is not winning or losing; it is having the courage to show up and be seen when we have no control over the outcome\"\n",
      "Brene Brown once said, \"Vulnerability is not winning or losing; it is having the courage to show up and be seen when we have no control over the outcome\"\n",
      "Brene Brown once said, \"Vulnerability is not winning or losing; it is having the courage to show up and be seen when we have no control over the outcome\"\n",
      "Brene Brown once said, \"Vulnerability is not winning or losing; it is having the courage to show up and be seen when we have no control over the outcome\"\n",
      "Brene Brown once said, \"Vulnerability is not winning or losing; it is having the courage to show up and be seen when we have no control over the outcome\"\n",
      "Brene Brown once said, \"Vulnerability is not winning or losing; it is having the courage to show up and be seen when we have no control over the outcome\"\n",
      "Brene Brown once said, \"Vulnerability is not winning or losing; it is having the courage to show up and be seen when we have no control over the outcome\"\n",
      "Brene Brown once said, \"Vulnerability is not winning or losing; it is having the courage to show up and be seen when we have no control over the outcome\"\n",
      "Brene Brown once said, \"Vulnerability is not winning or losing; it is having the courage to show up and be seen when we have no control over the outcome\"\n",
      "Brene Brown once said, \"Vulnerability is not winning or losing; it is having the courage to show up and be seen when we have no control over the outcome\"\n",
      "Brene Brown once said, \"Vulnerability is not winning or losing; it is having the courage to show up and be seen when we have no control over the outcome\"\n",
      "Brene Brown once said, \"Vulnerability is not winning or losing; it is having the courage to show up and be seen when we have no control over the outcome\"\n",
      "Brene Brown once said, \"Vulnerability is not winning or losing; it is having the courage to show up and be seen when we have no control over the outcome\"\n",
      "Brene Brown once said, \"Vulnerability is not winning or losing; it is having the courage to show up and be seen when we have no control over the outcome\"\n",
      "Brene Brown once said, \"Vulnerability is not winning or losing; it is having the courage to show up and be seen when we have no control over the outcome\"\n",
      "Brene Brown once said, \"Vulnerability is not winning or losing; it is having the courage to show up and be seen when we have no control over the outcome\"\n",
      "Brene Brown once said, \"Vulnerability is not winning or losing; it is having the courage to show up and be seen when we have no control over the outcome\"\n",
      "Brene Brown once said, \"Vulnerability is not winning or losing; it is having the courage to show up and be seen when we have no control over the outcome\"\n",
      "Brene Brown once said, \"Vulnerability is not winning or losing; it is having the courage to show up and be seen when we have no control over the outcome\"\n",
      "Brene Brown once said, \"Vulnerability is not winning or losing; it is having the courage to show up and be seen when we have no control over the outcome\"\n",
      "Brene Brown once said, \"Vulnerability is not winning or losing; it is having the courage to show up and be seen when we have no control over the outcome\"\n",
      "Brene Brown once said, \"Vulnerability is not winning or losing; it is having the courage to show up and be seen when we have no control over the outcome\"\n",
      "Brene Brown once said, \"Vulnerability is not winning or losing; it is having the courage to show up and be seen when we have no control over the outcome\"\n",
      "Brene Brown once said, \"Vulnerability is not winning or losing; it is having the courage to show up and be seen when we have no control over the outcome\"\n",
      "Brene Brown once said, \"Vulnerability is not winning or losing; it is having the courage to show up and be seen when we have no control over the outcome\"\n",
      "Brene Brown once said, \"Vulnerability is not winning or losing; it is having the courage to show up and be seen when we have no control over the outcome\"\n",
      "Brene Brown once said, \"Vulnerability is not winning or losing; it is having the courage to show up and be seen when we have no control over the outcome\"\n",
      "Brene Brown once said, \"Vulnerability is not winning or losing; it is having the courage to show up and be seen when we have no control over the outcome\"\n",
      "Brene Brown once said, \"Vulnerability is not winning or losing; it is having the courage to show up and be seen when we have no control over the outcome\"\n",
      "Brene Brown once said, \"Vulnerability is not winning or losing; it is having the courage to show up and be seen when we have no control over the outcome\"\n",
      "Brene Brown once said, \"Vulnerability is not winning or losing; it is having the courage to show up and be seen when we have no control over the outcome\"\n",
      "Brene Brown once said, \"Vulnerability is not winning or losing; it is having the courage to show up and be seen when we have no control over the outcome\"\n",
      "Brene Brown once said, \"Vulnerability is not winning or losing; it is having the courage to show up and be seen when we have no control over the outcome\"\n",
      "Brene Brown once said, \"Vulnerability is not winning or losing; it is having the courage to show up and be seen when we have no control over the outcome\"\n",
      "Brene Brown once said, \"Vulnerability is not winning or losing; it is having the courage to show up and be seen when we have no control over the outcome\"\n",
      "Brene Brown once said, \"Vulnerability is not winning or losing; it is having the courage to show up and be seen when we have no control over the outcome\"\n",
      "Brene Brown once said, \"Vulnerability is not winning or losing; it is having the courage to show up and be seen when we have no control over the outcome\"\n",
      "Brene Brown once said, \"Vulnerability is not winning or losing; it is having the courage to show up and be seen when we have no control over the outcome\"\n",
      "Brene Brown once said, \"Vulnerability is not winning or losing; it is having the courage to show up and be seen when we have no control over the outcome\"\n",
      "Brene Brown once said, \"Vulnerability is not winning or losing; it is having the courage to show up and be seen when we have no control over the outcome\"\n",
      "Brene Brown once said, \"Vulnerability is not winning or losing; it is having the courage to show up and be seen when we have no control over the outcome\"\n",
      "Brene Brown once said, \"Vulnerability is not winning or losing; it is having the courage to show up and be seen when we have no control over the outcome\"\n",
      "Brene Brown once said, \"Vulnerability is not winning or losing; it is having the courage to show up and be seen when we have no control over the outcome\"\n",
      "Brene Brown once said, \"Vulnerability is not winning or losing; it is having the courage to show up and be seen when we have no control over the outcome\"\n",
      "Brene Brown once said, \"Vulnerability is not winning or losing; it is having the courage to show up and be seen when we have no control over the outcome\"\n",
      "Brene Brown once said, \"Vulnerability is not winning or losing; it is having the courage to show up and be seen when we have no control over the outcome\"\n",
      "Brene Brown once said, \"Vulnerability is not winning or losing; it is having the courage to show up and be seen when we have no control over the outcome\"\n",
      "Brene Brown once said, \"Vulnerability is not winning or losing; it is having the courage to show up and be seen when we have no control over the outcome\"\n",
      "Brene Brown once said, \"Vulnerability is not winning or losing; it is having the courage to show up and be seen when we have no control over the outcome\"\n",
      "Brene Brown once said, \"Vulnerability is not winning or losing; it is having the courage to show up and be seen when we have no control over the outcome\"\n",
      "Brene Brown once said, \"Vulnerability is not winning or losing; it is having the courage to show up and be seen when we have no control over the outcome\"\n",
      "Brene Brown once said, \"Vulnerability is not winning or losing; it is having the courage to show up and be seen when we have no control over the outcome\"\n",
      "Brene Brown once said, \"Vulnerability is not winning or losing; it is having the courage to show up and be seen when we have no control over the outcome\"\n",
      "Brene Brown once said, \"Vulnerability is not winning or losing; it is having the courage to show up and be seen when we have no control over the outcome\"\n",
      "Brene Brown once said, \"Vulnerability is not winning or losing; it is having the courage to show up and be seen when we have no control over the outcome\"\n",
      "Brene Brown once said, \"Vulnerability is not winning or losing; it is having the courage to show up and be seen when we have no control over the outcome\"\n",
      "Brene Brown once said, \"Vulnerability is not winning or losing; it is having the courage to show up and be seen when we have no control over the outcome\"\n",
      "Brene Brown once said, \"Vulnerability is not winning or losing; it is having the courage to show up and be seen when we have no control over the outcome\"\n",
      "Brene Brown once said, \"Vulnerability is not winning or losing; it is having the courage to show up and be seen when we have no control over the outcome\"\n",
      "Brene Brown once said, \"Vulnerability is not winning or losing; it is having the courage to show up and be seen when we have no control over the outcome\"\n",
      "Brene Brown once said, \"Vulnerability is not winning or losing; it is having the courage to show up and be seen when we have no control over the outcome\"\n",
      "Brene Brown once said, \"Vulnerability is not winning or losing; it is having the courage to show up and be seen when we have no control over the outcome\"\n",
      "Brene Brown once said, \"Vulnerability is not winning or losing; it is having the courage to show up and be seen when we have no control over the outcome\"\n",
      "Brene Brown once said, \"Vulnerability is not winning or losing; it is having the courage to show up and be seen when we have no control over the outcome\"\n",
      "Brene Brown once said, \"Vulnerability is not winning or losing; it is having the courage to show up and be seen when we have no control over the outcome\"\n",
      "Brene Brown once said, \"Vulnerability is not winning or losing; it is having the courage to show up and be seen when we have no control over the outcome\"\n",
      "Brene Brown once said, \"Vulnerability is not winning or losing; it is having the courage to show up and be seen when we have no control over the outcome\"\n",
      "Brene Brown once said, \"Vulnerability is not winning or losing; it is having the courage to show up and be seen when we have no control over the outcome\"\n",
      "Brene Brown once said, \"Vulnerability is not winning or losing; it is having the courage to show up and be seen when we have no control over the outcome\"\n",
      "Brene Brown once said, \"Vulnerability is not winning or losing; it is having the courage to show up and be seen when we have no control over the outcome\"\n",
      "Brene Brown once said, \"Vulnerability is not winning or losing; it is having the courage to show up and be seen when we have no control over the outcome\"\n",
      "Brene Brown once said, \"Vulnerability is not winning or losing; it is having the courage to show up and be seen when we have no control over the outcome\"\n",
      "Brene Brown once said, \"Vulnerability is not winning or losing; it is having the courage to show up and be seen when we have no control over the outcome\"\n",
      "Brene Brown once said, \"Vulnerability is not winning or losing; it is having the courage to show up and be seen when we have no control over the outcome\"\n",
      "Brene Brown once said, \"Vulnerability is not winning or losing; it is having the courage to show up and be seen when we have no control over the outcome\"\n",
      "Brene Brown once said, \"Vulnerability is not winning or losing; it is having the courage to show up and be seen when we have no control over the outcome\"\n",
      "Brene Brown once said, \"Vulnerability is not winning or losing; it is having the courage to show up and be seen when we have no control over the outcome\"\n",
      "Brene Brown once said, \"Vulnerability is not winning or losing; it is having the courage to show up and be seen when we have no control over the outcome\"\n",
      "Brene Brown once said, \"Vulnerability is not winning or losing; it is having the courage to show up and be seen when we have no control over the outcome\"\n",
      "Brene Brown once said, \"Vulnerability is not winning or losing; it is having the courage to show up and be seen when we have no control over the outcome\"\n",
      "Brene Brown once said, \"Vulnerability is not winning or losing; it is having the courage to show up and be seen when we have no control over the outcome\"\n",
      "Brene Brown once said, \"Vulnerability is not winning or losing; it is having the courage to show up and be seen when we have no control over the outcome\"\n",
      "Brene Brown once said, \"Vulnerability is not winning or losing; it is having the courage to show up and be seen when we have no control over the outcome\"\n",
      "Brene Brown once said, \"Vulnerability is not winning or losing; it is having the courage to show up and be seen when we have no control over the outcome\"\n",
      "Brene Brown once said, \"Vulnerability is not winning or losing; it is having the courage to show up and be seen when we have no control over the outcome\"\n",
      "Brene Brown once said, \"Vulnerability is not winning or losing; it is having the courage to show up and be seen when we have no control over the outcome\"\n",
      "Brene Brown once said, \"Vulnerability is not winning or losing; it is having the courage to show up and be seen when we have no control over the outcome\"\n",
      "Brene Brown once said, \"Vulnerability is not winning or losing; it is having the courage to show up and be seen when we have no control over the outcome\"\n",
      "Brene Brown once said, \"Vulnerability is not winning or losing; it is having the courage to show up and be seen when we have no control over the outcome\"\n",
      "Brene Brown once said, \"Vulnerability is not winning or losing; it is having the courage to show up and be seen when we have no control over the outcome\"\n",
      "Brene Brown once said, \"Vulnerability is not winning or losing; it is having the courage to show up and be seen when we have no control over the outcome\"\n",
      "Brene Brown once said, \"Vulnerability is not winning or losing; it is having the courage to show up and be seen when we have no control over the outcome\"\n",
      "Brene Brown once said, \"Vulnerability is not winning or losing; it is having the courage to show up and be seen when we have no control over the outcome\"\n",
      "Brene Brown once said, \"Vulnerability is not winning or losing; it is having the courage to show up and be seen when we have no control over the outcome\"\n",
      "Brene Brown once said, \"Vulnerability is not winning or losing; it is having the courage to show up and be seen when we have no control over the outcome\"\n",
      "Brene Brown once said, \"Vulnerability is not winning or losing; it is having the courage to show up and be seen when we have no control over the outcome\"\n",
      "Brene Brown once said, \"Vulnerability is not winning or losing; it is having the courage to show up and be seen when we have no control over the outcome\"\n",
      "Brene Brown once said, \"Vulnerability is not winning or losing; it is having the courage to show up and be seen when we have no control over the outcome\"\n",
      "Brene Brown once said, \"Vulnerability is not winning or losing; it is having the courage to show up and be seen when we have no control over the outcome\"\n",
      "Brene Brown once said, \"Vulnerability is not winning or losing; it is having the courage to show up and be seen when we have no control over the outcome\"\n",
      "Brene Brown once said, \"Vulnerability is not winning or losing; it is having the courage to show up and be seen when we have no control over the outcome\"\n",
      "Brene Brown once said, \"Vulnerability is not winning or losing; it is having the courage to show up and be seen when we have no control over the outcome\"\n",
      "Brene Brown once said, \"Vulnerability is not winning or losing; it is having the courage to show up and be seen when we have no control over the outcome\"\n",
      "Brene Brown once said, \"Vulnerability is not winning or losing; it is having the courage to show up and be seen when we have no control over the outcome\"\n",
      "Brene Brown once said, \"Vulnerability is not winning or losing; it is having the courage to show up and be seen when we have no control over the outcome\"\n",
      "Brene Brown once said, \"Vulnerability is not winning or losing; it is having the courage to show up and be seen when we have no control over the outcome\"\n",
      "Brene Brown once said, \"Vulnerability is not winning or losing; it is having the courage to show up and be seen when we have no control over the outcome\"\n",
      "Brene Brown once said, \"Vulnerability is not winning or losing; it is having the courage to show up and be seen when we have no control over the outcome\"\n",
      "Brene Brown once said, \"Vulnerability is not winning or losing; it is having the courage to show up and be seen when we have no control over the outcome\"\n",
      "Brene Brown once said, \"Vulnerability is not winning or losing; it is having the courage to show up and be seen when we have no control over the outcome\"\n",
      "Brene Brown once said, \"Vulnerability is not winning or losing; it is having the courage to show up and be seen when we have no control over the outcome\"\n",
      "Brene Brown once said, \"Vulnerability is not winning or losing; it is having the courage to show up and be seen when we have no control over the outcome\"\n",
      "Brene Brown once said, \"Vulnerability is not winning or losing; it is having the courage to show up and be seen when we have no control over the outcome\"\n",
      "Brene Brown once said, \"Vulnerability is not winning or losing; it is having the courage to show up and be seen when we have no control over the outcome\"\n",
      "Brene Brown once said, \"Vulnerability is not winning or losing; it is having the courage to show up and be seen when we have no control over the outcome\"\n",
      "Brene Brown once said, \"Vulnerability is not winning or losing; it is having the courage to show up and be seen when we have no control over the outcome\"\n",
      "Brene Brown once said, \"Vulnerability is not winning or losing; it is having the courage to show up and be seen when we have no control over the outcome\"\n",
      "Brene Brown once said, \"Vulnerability is not winning or losing; it is having the courage to show up and be seen when we have no control over the outcome\"\n",
      "Brene Brown once said, \"Vulnerability is not winning or losing; it is having the courage to show up and be seen when we have no control over the outcome\"\n",
      "Brene Brown once said, \"Vulnerability is not winning or losing; it is having the courage to show up and be seen when we have no control over the outcome\"\n",
      "Brene Brown once said, \"Vulnerability is not winning or losing; it is having the courage to show up and be seen when we have no control over the outcome\"\n",
      "Brene Brown once said, \"Vulnerability is not winning or losing; it is having the courage to show up and be seen when we have no control over the outcome\"\n",
      "Brene Brown once said, \"Vulnerability is not winning or losing; it is having the courage to show up and be seen when we have no control over the outcome\"\n",
      "Brene Brown once said, \"Vulnerability is not winning or losing; it is having the courage to show up and be seen when we have no control over the outcome\"\n",
      "Brene Brown once said, \"Vulnerability is not winning or losing; it is having the courage to show up and be seen when we have no control over the outcome\"\n",
      "Brene Brown once said, \"Vulnerability is not winning or losing; it is having the courage to show up and be seen when we have no control over the outcome\"\n",
      "Brene Brown once said, \"Vulnerability is not winning or losing; it is having the courage to show up and be seen when we have no control over the outcome\"\n",
      "Brene Brown once said, \"Vulnerability is not winning or losing; it is having the courage to show up and be seen when we have no control over the outcome\"\n",
      "Brene Brown once said, \"Vulnerability is not winning or losing; it is having the courage to show up and be seen when we have no control over the outcome\"\n",
      "Brene Brown once said, \"Vulnerability is not winning or losing; it is having the courage to show up and be seen when we have no control over the outcome\"\n",
      "Brene Brown once said, \"Vulnerability is not winning or losing; it is having the courage to show up and be seen when we have no control over the outcome\"\n",
      "Brene Brown once said, \"Vulnerability is not winning or losing; it is having the courage to show up and be seen when we have no control over the outcome\"\n",
      "Brene Brown once said, \"Vulnerability is not winning or losing; it is having the courage to show up and be seen when we have no control over the outcome\"\n",
      "Brene Brown once said, \"Vulnerability is not winning or losing; it is having the courage to show up and be seen when we have no control over the outcome\"\n",
      "Brene Brown once said, \"Vulnerability is not winning or losing; it is having the courage to show up and be seen when we have no control over the outcome\"\n",
      "Brene Brown once said, \"Vulnerability is not winning or losing; it is having the courage to show up and be seen when we have no control over the outcome\"\n",
      "Brene Brown once said, \"Vulnerability is not winning or losing; it is having the courage to show up and be seen when we have no control over the outcome\"\n",
      "Brene Brown once said, \"Vulnerability is not winning or losing; it is having the courage to show up and be seen when we have no control over the outcome\"\n",
      "Brene Brown once said, \"Vulnerability is not winning or losing; it is having the courage to show up and be seen when we have no control over the outcome\"\n",
      "Brene Brown once said, \"Vulnerability is not winning or losing; it is having the courage to show up and be seen when we have no control over the outcome\"\n",
      "Brene Brown once said, \"Vulnerability is not winning or losing; it is having the courage to show up and be seen when we have no control over the outcome\"\n",
      "Brene Brown once said, \"Vulnerability is not winning or losing; it is having the courage to show up and be seen when we have no control over the outcome\"\n",
      "Brene Brown once said, \"Vulnerability is not winning or losing; it is having the courage to show up and be seen when we have no control over the outcome\"\n",
      "Brene Brown once said, \"Vulnerability is not winning or losing; it is having the courage to show up and be seen when we have no control over the outcome\"\n"
     ]
    }
   ],
   "source": [
    "quote = 'Brene Brown once said, \"Vulnerability is not winning or losing; it is having the courage to show up and be seen when we have no control over the outcome\"'\n",
    "for i in range(1000):\n",
    "    print(quote)\n"
   ]
  },
  {
   "cell_type": "markdown",
   "metadata": {},
   "source": [
    "### Exercise 3:\n",
    "\n",
    "Use python string operations and methods to use the following variables to print this:\n",
    "\n",
    "    \"hello world\""
   ]
  },
  {
   "cell_type": "code",
   "execution_count": 81,
   "metadata": {},
   "outputs": [
    {
     "name": "stdout",
     "output_type": "stream",
     "text": [
      "hello world\n"
     ]
    }
   ],
   "source": [
    "message_1 = \"hELlo\"\n",
    "message_2 = \"                              wor\"\n",
    "message_3 = \"wbdaloqteldndyrcggzf\"\n",
    "\n",
    "print(message_1.lower() + \" \" + message_2.strip() + message_3[9:11])"
   ]
  },
  {
   "cell_type": "markdown",
   "metadata": {},
   "source": [
    "### Exercise 4\n",
    "\n",
    "Fix the following code so it prints properly"
   ]
  },
  {
   "cell_type": "code",
   "execution_count": 76,
   "metadata": {},
   "outputs": [
    {
     "name": "stdout",
     "output_type": "stream",
     "text": [
      "The price is $3.44.\n"
     ]
    }
   ],
   "source": [
    "# Dollar amounts should only have two digits after the decimal\n",
    "print(\"The price is $%.2f.\" % (3.44444))"
   ]
  },
  {
   "cell_type": "code",
   "execution_count": 80,
   "metadata": {},
   "outputs": [
    {
     "name": "stdout",
     "output_type": "stream",
     "text": [
      "enter your name: Claudia\n",
      "enter the language you are learning: python\n",
      "Claudia is learning python\n"
     ]
    }
   ],
   "source": [
    "# Complete the code so it prints your name and what you're learning\n",
    "name = input(\"enter your name: \")\n",
    "language = input(\"enter the language you are learning: \")\n",
    "print(\"{} is learning {}\".format(name, language) )"
   ]
  },
  {
   "cell_type": "code",
   "execution_count": 85,
   "metadata": {},
   "outputs": [
    {
     "name": "stdout",
     "output_type": "stream",
     "text": [
      "enter a verbfly\n",
      "enter an adjectivedark\n",
      "enter an adjectiveslimy\n",
      "enter a plural nouncows\n",
      "enter a plural nounshorts\n",
      "enter a nountwilight book\n",
      "enter a verbrave\n",
      "enter a verbjump\n",
      "enter an adjectivehairy\n",
      "enter a foodcabbage\n",
      "enter an adjetivesparkly\n",
      "enter a foodmushrooms\n",
      "Halloween is the best time to fly. The weather is dark and slimy and you go door to door, saying Trick or Treat and people give you cows and shorts to eat. This year, I wil dress up as a twilight book. If someone says Trick instead of give you a treat, you might have to rave or jump to try and scare them into giving you a hairycabbage or a sparkly mushrooms as a treat.\n"
     ]
    }
   ],
   "source": [
    "### Exercise 5\n",
    "\n",
    "#Create your own mad-lib with at least 5 inputs.\n",
    "\n",
    "\n",
    "first_verb = input(\"enter a verb\")\n",
    "first_adjective = input(\"enter an adjective\")\n",
    "second_adjective = input(\"enter an adjective\")\n",
    "first_plural_noun = input(\"enter a plural noun\") \n",
    "second_plural_noun = input(\"enter a plural noun\")\n",
    "first_noun = input(\"enter a noun\")\n",
    "second_verb = input(\"enter a verb\")\n",
    "third_verb = input(\"enter a verb\")\n",
    "fourth_adjective = input(\"enter an adjective\")\n",
    "first_food = input(\"enter a food\")\n",
    "fifth_adjetive = input(\"enter an adjetive\") \n",
    "second_food = input(\"enter a food\")\n",
    "\n",
    "my_madlib = f\"Halloween is the best time to {first_verb}. The weather is {first_adjective} and {second_adjective} and you go door to door, saying Trick or Treat and people give you {first_plural_noun} and {second_plural_noun} to eat. This year, I wil dress up as a {first_noun}. If someone says Trick instead of giving you a treat, you might have to {second_verb} or {third_verb} to try and scare them into giving you a {fourth_adjective} {first_food} or a {fifth_adjetive} {second_food} as a treat.\"\n",
    "\n",
    "print(my_madlib)"
   ]
  },
  {
   "cell_type": "code",
   "execution_count": null,
   "metadata": {},
   "outputs": [],
   "source": []
  }
 ],
 "metadata": {
  "kernelspec": {
   "display_name": "Python 3",
   "language": "python",
   "name": "python3"
  },
  "language_info": {
   "codemirror_mode": {
    "name": "ipython",
    "version": 3
   },
   "file_extension": ".py",
   "mimetype": "text/x-python",
   "name": "python",
   "nbconvert_exporter": "python",
   "pygments_lexer": "ipython3",
   "version": "3.8.3"
  }
 },
 "nbformat": 4,
 "nbformat_minor": 4
}
