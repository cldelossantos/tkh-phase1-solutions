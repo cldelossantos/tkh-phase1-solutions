{
 "cells": [
  {
   "cell_type": "markdown",
   "metadata": {},
   "source": [
    "<div style=\"background: #000;\n",
    "            color: #FFF;\n",
    "            margin: 0px;\n",
    "                padding: 10px 0px 20px 0px;\n",
    "            text-align: center; \n",
    "                \">\n",
    "    <h1>Week 5 - Class 1 - Lab</h1>\n",
    "</div>"
   ]
  },
  {
   "cell_type": "markdown",
   "metadata": {},
   "source": [
    "# Question 1:\n",
    "\n",
    "What are signs you should use a recursive function? What happens when you do a recursive function call in a return statement?\n",
    "\n",
    "Recursion functions should be used if you want to break down a complex problem into smaller less complipicated problems. A sign that we should use recursion is if we have a problem that we predict will have many branches of code with very complex iterative code. By using recursion we can avoid using complex codes that can have many different conditions and simply include code that makes the original function call itself.  \n",
    "\n",
    "Walk us through how recursive functions work in your answer.\n",
    "\n",
    "A recursive function first sets the base case of function. After this, the following conditions need to include recursive calls, where the functions calls itself. \n"
   ]
  },
  {
   "cell_type": "markdown",
   "metadata": {},
   "source": [
    "# Exercise 1:\n",
    "\n",
    "Create a function that executes in constant time. Then create a function that executes in linear time. Curry the two functions to produce an output."
   ]
  },
  {
   "cell_type": "code",
   "execution_count": 2,
   "metadata": {},
   "outputs": [
    {
     "data": {
      "text/plain": [
       "[1.4142135623730951,\n",
       " 2.0,\n",
       " 2.23606797749979,\n",
       " 2.6457513110645907,\n",
       " 2.8284271247461903]"
      ]
     },
     "execution_count": 2,
     "metadata": {},
     "output_type": "execute_result"
    }
   ],
   "source": [
    "def squareroot_function(num):\n",
    "    return num ** 0.5\n",
    "\n",
    "lst = [2,4,5,7,8]\n",
    "def list_sqrt(a):\n",
    "    new_list = []\n",
    "    for num in a:\n",
    "        new_list.append(squareroot_function(num))\n",
    "    return new_list\n",
    "\n",
    "list_sqrt(lst)"
   ]
  },
  {
   "cell_type": "code",
   "execution_count": null,
   "metadata": {},
   "outputs": [],
   "source": []
  },
  {
   "cell_type": "markdown",
   "metadata": {},
   "source": [
    "# Exercise 2:\n",
    "\n",
    "Create a function using the following function that will take your choice of the following and input:\n",
    "\n",
    "\"R\" (rock), \"P\" (paper), or \"S\" (scissors) \n",
    "\n",
    "and return whether or not you beat the computer.\n"
   ]
  },
  {
   "cell_type": "code",
   "execution_count": 2,
   "metadata": {},
   "outputs": [
    {
     "name": "stdout",
     "output_type": "stream",
     "text": [
      "Rock, paper, scissors???R\n"
     ]
    },
    {
     "data": {
      "text/plain": [
       "'Computer Wins'"
      ]
     },
     "execution_count": 2,
     "metadata": {},
     "output_type": "execute_result"
    }
   ],
   "source": [
    "import random\n",
    "def computers_turn():\n",
    "    choices = {\n",
    "        0: 'rock',\n",
    "        1: 'paper',\n",
    "        2: 'scissors',\n",
    "    }\n",
    "    turn = random.randint(0,2)\n",
    "    return choices[turn]\n",
    "\n",
    "\n",
    "def my_turn():\n",
    "    choice = input(\"Rock, paper, scissors???\")\n",
    "    choices = {\n",
    "        \"R\": 'rock',\n",
    "        \"P\": 'paper',\n",
    "        \"S\": 'scissors',\n",
    "    }\n",
    "    return choices[choice]\n",
    "\n",
    "def winner():\n",
    "    comp = computers_turn()\n",
    "    player = my_turn()\n",
    "    if comp == player:\n",
    "        return winner()\n",
    "    elif comp == 'rock' and player == 'scissors':\n",
    "        return \"Computer Wins\"\n",
    "    elif comp == 'scissors' and player == 'paper':\n",
    "        return \"Computer Wins\"\n",
    "    elif comp == 'paper'and player == 'rock':\n",
    "        return \"Computer Wins\"\n",
    "    elif comp == 'scissors'and player == 'rock':\n",
    "        return \"Player Wins\"\n",
    "    elif comp == 'rock'and player == 'paper':\n",
    "        return \"Player Wins\"\n",
    "    elif comp == 'paper' and player == 'scissors':\n",
    "        return \"Player Wins\"\n",
    "    \n",
    "winner()\n",
    "    "
   ]
  },
  {
   "cell_type": "code",
   "execution_count": null,
   "metadata": {},
   "outputs": [],
   "source": []
  },
  {
   "cell_type": "markdown",
   "metadata": {},
   "source": [
    "# Exercise 3:\n",
    "\n",
    "Create a function that takes a string, converts it to upper, sorts it and then take the `ord()` of each element of the string and adds it to a list. Output the final list.\n",
    "\n",
    "Once your function runs, optimize it to make it more efficient. "
   ]
  },
  {
   "cell_type": "code",
   "execution_count": 31,
   "metadata": {},
   "outputs": [
    {
     "data": {
      "text/plain": [
       "[65, 65, 67, 68, 73, 76, 85]"
      ]
     },
     "execution_count": 31,
     "metadata": {},
     "output_type": "execute_result"
    }
   ],
   "source": [
    "def string_converter(string):\n",
    "    new_string = \"\"\n",
    "    for i in string:\n",
    "        if i.isalpha():\n",
    "            new_string += i.upper()\n",
    "    capitalized_string = sorted(new_string)\n",
    "    new_list = []\n",
    "    for i in capitalized_string:\n",
    "        new_list.append(ord(i))\n",
    "    return new_list\n",
    "\n",
    "string_converter(\"Claudia\")"
   ]
  },
  {
   "cell_type": "code",
   "execution_count": 35,
   "metadata": {},
   "outputs": [
    {
     "data": {
      "text/plain": [
       "[65, 65, 67, 68, 73, 76, 85]"
      ]
     },
     "execution_count": 35,
     "metadata": {},
     "output_type": "execute_result"
    }
   ],
   "source": [
    "def string_converter(string):\n",
    "    capitalized_string = sorted(string.upper())\n",
    "    new_list = []\n",
    "    for i in capitalized_string:\n",
    "        new_list.append(ord(i))\n",
    "    return new_list\n",
    "\n",
    "string_converter(\"Claudia\")"
   ]
  },
  {
   "cell_type": "markdown",
   "metadata": {},
   "source": [
    "# Exercise 4:\n",
    "\n",
    "Create a recursive function that computers the powers of a number using the following equation:\n",
    "\n",
    "   $$ x^{n} = x * x^{n-1} $$ "
   ]
  },
  {
   "cell_type": "code",
   "execution_count": 49,
   "metadata": {},
   "outputs": [
    {
     "data": {
      "text/plain": [
       "4"
      ]
     },
     "execution_count": 49,
     "metadata": {},
     "output_type": "execute_result"
    }
   ],
   "source": [
    "def powers_func(base,exponent):\n",
    "    if exponent == 1:\n",
    "        return base\n",
    "    else:\n",
    "        return base * powers_func(base, exponent -1)\n",
    "\n",
    "powers_func(2,2)\n",
    "    "
   ]
  },
  {
   "cell_type": "markdown",
   "metadata": {},
   "source": [
    "# Bonus: \n",
    "\n",
    "Find a lab exercise solution that you previously submitted that you can optimize, make a function out of the solution and make it more efficient."
   ]
  },
  {
   "cell_type": "code",
   "execution_count": null,
   "metadata": {},
   "outputs": [],
   "source": []
  }
 ],
 "metadata": {
  "kernelspec": {
   "display_name": "Python 3",
   "language": "python",
   "name": "python3"
  },
  "language_info": {
   "codemirror_mode": {
    "name": "ipython",
    "version": 3
   },
   "file_extension": ".py",
   "mimetype": "text/x-python",
   "name": "python",
   "nbconvert_exporter": "python",
   "pygments_lexer": "ipython3",
   "version": "3.8.3"
  }
 },
 "nbformat": 4,
 "nbformat_minor": 4
}
