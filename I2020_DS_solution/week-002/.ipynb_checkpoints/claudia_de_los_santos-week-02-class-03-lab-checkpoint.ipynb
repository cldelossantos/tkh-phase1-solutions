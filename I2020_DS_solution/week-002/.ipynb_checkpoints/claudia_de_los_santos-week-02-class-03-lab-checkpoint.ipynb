{
 "cells": [
  {
   "cell_type": "markdown",
   "metadata": {},
   "source": [
    "<div style=\"background: #000;\n",
    "            color: #FFF;\n",
    "            margin: 0px;\n",
    "                padding: 10px 0px 20px 0px;\n",
    "            text-align: center; \n",
    "                \">\n",
    "    <h1>Week 2 Class 3 Lab</h1>\n",
    "</div>"
   ]
  },
  {
   "cell_type": "markdown",
   "metadata": {},
   "source": [
    "# Question 1\n",
    "\n",
    "When might you use a dictionary? Why? Explain in your own words\n",
    "\n",
    "A dictionary should be used when you need to associate a value to a key. This can make data easier to look up."
   ]
  },
  {
   "cell_type": "markdown",
   "metadata": {},
   "source": [
    "# Question 2\n",
    "\n",
    "When might you use a set? Why? Explain in your own words.\n",
    "\n",
    "A set should be used when you want and unordered collection of items and don't need to store duplicates."
   ]
  },
  {
   "cell_type": "markdown",
   "metadata": {},
   "source": [
    "# Exercise 1 \n",
    "\n",
    "Create a dictionary and populate it with keys from 0 to 9 and a default value of \"None\". Then set the values of all keys divisible by 2 to be the value times itself. "
   ]
  },
  {
   "cell_type": "code",
   "execution_count": 5,
   "metadata": {},
   "outputs": [
    {
     "data": {
      "text/plain": [
       "{0: None,\n",
       " 1: None,\n",
       " 3: None,\n",
       " 4: 8,\n",
       " 5: None,\n",
       " 6: 12,\n",
       " 7: None,\n",
       " 8: 16,\n",
       " 9: None,\n",
       " 2: 4}"
      ]
     },
     "execution_count": 5,
     "metadata": {},
     "output_type": "execute_result"
    }
   ],
   "source": [
    "dictionary = {0: None, 1: None, 3: None, 4: None, 5: None, 6: None, 7: None, 8: None, 9: None}\n",
    "\n",
    "dictionary[2] = 4\n",
    "dictionary[4] = 8\n",
    "dictionary[6] = 12\n",
    "dictionary[8] = 16\n",
    "\n",
    "dictionary"
   ]
  },
  {
   "cell_type": "markdown",
   "metadata": {},
   "source": [
    "# Exercise 2\n",
    "\n",
    "Given a list of words and utilizing set methods print the words that can be typed using letters of alphabet on only one row's of the (American) keyboard. You may use one character in the keyboard more than once. \n",
    "\n",
    " "
   ]
  },
  {
   "cell_type": "code",
   "execution_count": null,
   "metadata": {},
   "outputs": [],
   "source": [
    "words = ['type', 'router', 'pine', 'dash', 'top', 'rower', 'freedom']"
   ]
  },
  {
   "cell_type": "code",
   "execution_count": 6,
   "metadata": {},
   "outputs": [
    {
     "data": {
      "text/plain": [
       "['type', 'router', 'dash', 'top', 'rower']"
      ]
     },
     "execution_count": 6,
     "metadata": {},
     "output_type": "execute_result"
    }
   ],
   "source": [
    "top = {'q', 'w', 'e', 'r', 't', 'y', 'u', 'i', 'o', 'p'}\n",
    "middle = {'a', 's', 'd', 'f', 'g', 'h', 'j', 'k', 'l'}\n",
    "bottom = {'z','x','c','v','b','n','m'}\n",
    "\n",
    "words = ['type', 'router', 'pine', 'dash', 'top', 'rower', 'freedom']\n",
    "\n",
    "words_to_print = []\n",
    "\n",
    "for word in words:\n",
    "   word_set = set(word)\n",
    "   if word_set.issubset(top):\n",
    "       words_to_print += [word]\n",
    "   elif word_set.issubset(middle):\n",
    "       words_to_print += [word]\n",
    "   elif word_set.issubset(bottom):\n",
    "       word_to_print += [word]\n",
    "\n",
    "words_to_print"
   ]
  },
  {
   "cell_type": "markdown",
   "metadata": {},
   "source": [
    "# Exercise 3\n",
    "\n",
    "Given a list of students, find the students who favorite colors are the same utitlizng set methods. Print the name of the students who share similar tastes in colors. "
   ]
  },
  {
   "cell_type": "code",
   "execution_count": 8,
   "metadata": {},
   "outputs": [
    {
     "name": "stdout",
     "output_type": "stream",
     "text": [
      "[{'name': 'Rob', 'student_id': 115, 'favorite_colors': {'red', 'green'}}, {'name': 'Clara', 'student_id': 15, 'favorite_colors': {'red', 'blue', 'green'}}, {'name': 'Sally', 'student_id': 21, 'favorite_colors': {'black'}}, {'name': 'Jim', 'student_id': 33, 'favorite_colors': {'green', 'blue'}}]\n"
     ]
    }
   ],
   "source": [
    "students = [{\"name\":\"Rob\",\"student_id\": 115, \"favorite_colors\":{\"red\",\"green\"}},\n",
    "            {\"name\":\"Clara\",\"student_id\": 15, \"favorite_colors\":{\"blue\",\"red\",\"green\"}}, \n",
    "            {\"name\":\"Sally\",\"student_id\": 21, \"favorite_colors\":{\"black\"}}, \n",
    "            {\"name\":\"Jim\",\"student_id\": 33, \"favorite_colors\":{\"blue\",\"green\"}}]\n",
    "\n",
    "print(students)"
   ]
  },
  {
   "cell_type": "code",
   "execution_count": 10,
   "metadata": {},
   "outputs": [
    {
     "name": "stdout",
     "output_type": "stream",
     "text": [
      "Red Team:  {'Clara', 'Rob'}\n",
      "Blue Team:  {'Clara', 'Jim'}\n",
      "Green Team:  {'Clara', 'Rob', 'Jim'}\n"
     ]
    }
   ],
   "source": [
    "red_set = set()\n",
    "blue_set = set()\n",
    "green_set = set()\n",
    "\n",
    "for student in students:\n",
    "   if 'red' in student['favorite_colors']:\n",
    "       red_set.add(student['name'])\n",
    "       \n",
    "   if 'blue' in student['favorite_colors']:\n",
    "       blue_set.add(student['name'])\n",
    "       \n",
    "   if 'green' in student['favorite_colors']:\n",
    "       green_set.add(student['name'])\n",
    "\n",
    "\n",
    "print(\"Red Team: \", red_set)\n",
    "print(\"Blue Team: \", blue_set)\n",
    "print(\"Green Team: \", green_set)"
   ]
  },
  {
   "cell_type": "code",
   "execution_count": null,
   "metadata": {},
   "outputs": [],
   "source": []
  }
 ],
 "metadata": {
  "kernelspec": {
   "display_name": "Python 3",
   "language": "python",
   "name": "python3"
  },
  "language_info": {
   "codemirror_mode": {
    "name": "ipython",
    "version": 3
   },
   "file_extension": ".py",
   "mimetype": "text/x-python",
   "name": "python",
   "nbconvert_exporter": "python",
   "pygments_lexer": "ipython3",
   "version": "3.8.3"
  }
 },
 "nbformat": 4,
 "nbformat_minor": 4
}
