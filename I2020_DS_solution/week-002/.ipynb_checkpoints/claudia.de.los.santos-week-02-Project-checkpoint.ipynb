{
 "cells": [
  {
   "cell_type": "markdown",
   "metadata": {},
   "source": [
    "# Week 2 Project"
   ]
  },
  {
   "cell_type": "markdown",
   "metadata": {},
   "source": [
    "Our company \"Zeta\" has an algorithmic trading bot that purchases shares of stocks. We've been buying shares of TSLA and MSFT for a while now. Our bot buys 1 share at a time and the prices of each purchase is listed below."
   ]
  },
  {
   "cell_type": "code",
   "execution_count": 17,
   "metadata": {},
   "outputs": [
    {
     "name": "stdout",
     "output_type": "stream",
     "text": [
      "tsla prices are correct\n"
     ]
    }
   ],
   "source": [
    "tsla = [132.56, 105.2, 137.54, 124.31, 124.54, 108.52, 139.35, 121.49, 117.89, 100.79, 116.63, 108.02, 103.25, 105.72, 114.12, 128.8, 102.37, 114.9, 132.4, 135.3, 151.3, 134.8, 111.1, 132.1, 156.31, 114.58, 140.42, 127.02, 126.36, 132.64, 152.15, 126.19, 156.41, 148.95, 164.27, 129.99, 145.17, 151.98, 148.75, 144.75, 133.51, 146.97, 144.09, 129.79, 152.15, 161.55, 158.24, 157.89, 163.06, 180.86, 185.57, 198.29, 184.2, 183.68, 193.8, 201.32]\n",
    "\n",
    "# to verify your numbers are correct and have not been altered, uncomment and run the following:\n",
    "import hashlib; print(\"tsla prices are correct\" if hashlib.md5(str(tsla).encode()).hexdigest() == '2157a3cc6c68b3ae3e26ae3101cf2c44' else \"tsla prices are incorrect\")"
   ]
  },
  {
   "cell_type": "code",
   "execution_count": 2,
   "metadata": {},
   "outputs": [
    {
     "name": "stdout",
     "output_type": "stream",
     "text": [
      "msft prices are correct\n"
     ]
    }
   ],
   "source": [
    "msft = [167.69, 151.72, 141.38, 136.95, 146.5, 157.5, 177.42, 152.06, 147.97, 174.94, 162.73, 183.69, 139.53, 181.82, 167.49, 176.05, 179.25, 149.65, 183.38, 149.73, 151.2, 189.22, 166.28, 187.13, 195.46, 158.8, 154.24, 190.19, 153.23, 192.82, 176.67, 192.04, 177.19, 165.53, 184.44, 186.13, 199.71, 174.14, 175.61, 184.14, 205.52, 202.13, 180.19, 198.55, 204.91, 187.49, 183.52, 199.76, 212.38, 191.2, 222.39, 195.15, 185.7, 224.32, 195.49, 208.56, 184.11, 211.48, 207.77, 202.89, 186.68, 203.91, 234.01, 202.05, 205.86, 193.8, 213.51, 220.2, 234.56, 200.86, 206.04, 243.46, 243.3, 208.68, 220.96, 237.67, 208.42, 214.33, 251.64, 212.35, 217.35, 213.11, 251.61, 247.34, 234.95, 256.97, 235.53, 240.86, 213.03, 235.38, 257.89, 246.18, 234.4, 222.91, 253.5, 257.53, 266.9, 226.3, 230.97, 270.01]\n",
    "\n",
    "# to verify your numbers are correct and have not been altered, uncomment and run the following:\n",
    "import hashlib; print(\"msft prices are correct\" if hashlib.md5(str(msft).encode()).hexdigest() == '5e0b3acc2d380c957f9db6487c0f4807' else \"msft prices are incorrect\")"
   ]
  },
  {
   "cell_type": "markdown",
   "metadata": {},
   "source": [
    "### How many shares of TSLA did we buy?\n",
    "\n",
    "Note: remember that for each buy, we bought 1 share."
   ]
  },
  {
   "cell_type": "code",
   "execution_count": 8,
   "metadata": {},
   "outputs": [
    {
     "data": {
      "text/plain": [
       "56"
      ]
     },
     "execution_count": 8,
     "metadata": {},
     "output_type": "execute_result"
    }
   ],
   "source": [
    "len(tsla)"
   ]
  },
  {
   "cell_type": "markdown",
   "metadata": {},
   "source": [
    "### What was the average price of our TSLA shares?\n",
    "\n",
    "Average price = cost of all shares / number of shares"
   ]
  },
  {
   "cell_type": "code",
   "execution_count": 53,
   "metadata": {},
   "outputs": [
    {
     "data": {
      "text/plain": [
       "140.07"
      ]
     },
     "execution_count": 53,
     "metadata": {},
     "output_type": "execute_result"
    }
   ],
   "source": [
    "float(format(sum(tsla)/len(tsla),'.2f'))"
   ]
  },
  {
   "cell_type": "markdown",
   "metadata": {},
   "source": [
    "### What was the lowest price we paid for a share of TSLA?"
   ]
  },
  {
   "cell_type": "code",
   "execution_count": 11,
   "metadata": {},
   "outputs": [
    {
     "data": {
      "text/plain": [
       "100.79"
      ]
     },
     "execution_count": 11,
     "metadata": {},
     "output_type": "execute_result"
    }
   ],
   "source": [
    "min(tsla)"
   ]
  },
  {
   "cell_type": "markdown",
   "metadata": {},
   "source": [
    "### What was the highest price we paid for a share of TSLA?"
   ]
  },
  {
   "cell_type": "code",
   "execution_count": 12,
   "metadata": {},
   "outputs": [
    {
     "data": {
      "text/plain": [
       "201.32"
      ]
     },
     "execution_count": 12,
     "metadata": {},
     "output_type": "execute_result"
    }
   ],
   "source": [
    "max(tsla)"
   ]
  },
  {
   "cell_type": "markdown",
   "metadata": {},
   "source": [
    "### Sort the list of TSLA shares in place. What was the five lowest prices we paid for TSLA shares?"
   ]
  },
  {
   "cell_type": "code",
   "execution_count": 54,
   "metadata": {},
   "outputs": [
    {
     "name": "stdout",
     "output_type": "stream",
     "text": [
      "[100.79, 102.37, 103.25, 105.2, 105.72]\n"
     ]
    }
   ],
   "source": [
    "tsla.sort()\n",
    "print(tsla[:5])\n"
   ]
  },
  {
   "cell_type": "markdown",
   "metadata": {},
   "source": [
    "### What were the five highest prices we paid for TSLA shares? \n",
    "\n",
    "Use a slice that includes a negative number"
   ]
  },
  {
   "cell_type": "code",
   "execution_count": 71,
   "metadata": {},
   "outputs": [
    {
     "data": {
      "text/plain": [
       "[201.32, 198.29, 193.8, 185.57, 184.2]"
      ]
     },
     "execution_count": 71,
     "metadata": {},
     "output_type": "execute_result"
    }
   ],
   "source": [
    "tsla[:-6:-1]"
   ]
  },
  {
   "cell_type": "markdown",
   "metadata": {},
   "source": [
    "### How many unique values do we have in our list of TSLA prices? "
   ]
  },
  {
   "cell_type": "code",
   "execution_count": 44,
   "metadata": {},
   "outputs": [
    {
     "data": {
      "text/plain": [
       "55"
      ]
     },
     "execution_count": 44,
     "metadata": {},
     "output_type": "execute_result"
    }
   ],
   "source": [
    "s = set(tsla)\n",
    "len(s)"
   ]
  },
  {
   "cell_type": "markdown",
   "metadata": {},
   "source": [
    "### We have another algo running that also buys shares of TSLA. Using the following list and the set from before, output a list of the unique set of prices of the combined lists."
   ]
  },
  {
   "cell_type": "code",
   "execution_count": 75,
   "metadata": {},
   "outputs": [
    {
     "name": "stdout",
     "output_type": "stream",
     "text": [
      "other tsla prices are correct\n"
     ]
    }
   ],
   "source": [
    "other_tsla_list = [114.12, 128.8, 102.37, 114.9, 132.4, 135.3, 151.3, 134.8, 111.1, 132.1]\n",
    "\n",
    "# to verify the above numbers are correct and have not been altered, uncomment and run the following:\n",
    "import hashlib; print(\"other tsla prices are correct\" if hashlib.md5(str(other_tsla_list).encode()).hexdigest() == '9d855ef64203308925c4259ca8864cda' else \"other prices are incorrect\")"
   ]
  },
  {
   "cell_type": "code",
   "execution_count": 51,
   "metadata": {},
   "outputs": [
    {
     "data": {
      "text/plain": [
       "{100.79,\n",
       " 102.37,\n",
       " 103.25,\n",
       " 105.2,\n",
       " 105.72,\n",
       " 108.02,\n",
       " 108.52,\n",
       " 111.1,\n",
       " 114.12,\n",
       " 114.58,\n",
       " 114.9,\n",
       " 116.63,\n",
       " 117.89,\n",
       " 121.49,\n",
       " 124.31,\n",
       " 124.54,\n",
       " 126.19,\n",
       " 126.36,\n",
       " 127.02,\n",
       " 128.8,\n",
       " 129.79,\n",
       " 129.99,\n",
       " 132.1,\n",
       " 132.4,\n",
       " 132.56,\n",
       " 132.64,\n",
       " 133.51,\n",
       " 134.8,\n",
       " 135.3,\n",
       " 137.54,\n",
       " 139.35,\n",
       " 140.42,\n",
       " 144.09,\n",
       " 144.75,\n",
       " 145.17,\n",
       " 146.97,\n",
       " 148.75,\n",
       " 148.95,\n",
       " 151.3,\n",
       " 151.98,\n",
       " 152.15,\n",
       " 156.31,\n",
       " 156.41,\n",
       " 157.89,\n",
       " 158.24,\n",
       " 161.55,\n",
       " 163.06,\n",
       " 164.27,\n",
       " 180.86,\n",
       " 183.68,\n",
       " 184.2,\n",
       " 185.57,\n",
       " 193.8,\n",
       " 198.29,\n",
       " 201.32}"
      ]
     },
     "execution_count": 51,
     "metadata": {},
     "output_type": "execute_result"
    }
   ],
   "source": [
    "second_set = set(other_tsla_list)\n",
    "s.union(second_set)"
   ]
  },
  {
   "cell_type": "markdown",
   "metadata": {},
   "source": [
    "### Create a dictionary from the list of TSLA prices. Use the index of the sorted list as the key."
   ]
  },
  {
   "cell_type": "code",
   "execution_count": 78,
   "metadata": {},
   "outputs": [
    {
     "data": {
      "text/plain": [
       "[100.79,\n",
       " 102.37,\n",
       " 103.25,\n",
       " 105.2,\n",
       " 105.72,\n",
       " 108.02,\n",
       " 108.52,\n",
       " 111.1,\n",
       " 114.12,\n",
       " 114.58,\n",
       " 114.9,\n",
       " 116.63,\n",
       " 117.89,\n",
       " 121.49,\n",
       " 124.31,\n",
       " 124.54,\n",
       " 126.19,\n",
       " 126.36,\n",
       " 127.02,\n",
       " 128.8,\n",
       " 129.79,\n",
       " 129.99,\n",
       " 132.1,\n",
       " 132.4,\n",
       " 132.56,\n",
       " 132.64,\n",
       " 133.51,\n",
       " 134.8,\n",
       " 135.3,\n",
       " 137.54,\n",
       " 139.35,\n",
       " 140.42,\n",
       " 144.09,\n",
       " 144.75,\n",
       " 145.17,\n",
       " 146.97,\n",
       " 148.75,\n",
       " 148.95,\n",
       " 151.3,\n",
       " 151.98,\n",
       " 152.15,\n",
       " 152.15,\n",
       " 156.31,\n",
       " 156.41,\n",
       " 157.89,\n",
       " 158.24,\n",
       " 161.55,\n",
       " 163.06,\n",
       " 164.27,\n",
       " 180.86,\n",
       " 183.68,\n",
       " 184.2,\n",
       " 185.57,\n",
       " 193.8,\n",
       " 198.29,\n",
       " 201.32]"
      ]
     },
     "execution_count": 78,
     "metadata": {},
     "output_type": "execute_result"
    }
   ],
   "source": [
    "d = {}\n",
    "for i in range(len(tsla)):\n",
    "    d[i] = tsla[i]\n",
    "\n",
    "d\n"
   ]
  },
  {
   "cell_type": "markdown",
   "metadata": {},
   "source": [
    "### How many shares of MSFT did we buy? \n",
    "\n",
    "Note: remember that for each buy, we bought only 1 share."
   ]
  },
  {
   "cell_type": "code",
   "execution_count": 62,
   "metadata": {},
   "outputs": [
    {
     "data": {
      "text/plain": [
       "100"
      ]
     },
     "execution_count": 62,
     "metadata": {},
     "output_type": "execute_result"
    }
   ],
   "source": [
    "len(msft)"
   ]
  },
  {
   "cell_type": "markdown",
   "metadata": {},
   "source": [
    "### What was the average price of our MSFT shares?"
   ]
  },
  {
   "cell_type": "code",
   "execution_count": 65,
   "metadata": {},
   "outputs": [
    {
     "data": {
      "text/plain": [
       "199.4"
      ]
     },
     "execution_count": 65,
     "metadata": {},
     "output_type": "execute_result"
    }
   ],
   "source": [
    "float(format(sum(msft)/len(msft),'.2f'))"
   ]
  },
  {
   "cell_type": "markdown",
   "metadata": {},
   "source": [
    "### What was the lowest price we paid for a share of MSFT?"
   ]
  },
  {
   "cell_type": "code",
   "execution_count": 66,
   "metadata": {},
   "outputs": [
    {
     "data": {
      "text/plain": [
       "136.95"
      ]
     },
     "execution_count": 66,
     "metadata": {},
     "output_type": "execute_result"
    }
   ],
   "source": [
    "min(msft)"
   ]
  },
  {
   "cell_type": "markdown",
   "metadata": {},
   "source": [
    "### What was the highest price we paid for a share of MSFT?"
   ]
  },
  {
   "cell_type": "code",
   "execution_count": 67,
   "metadata": {},
   "outputs": [
    {
     "data": {
      "text/plain": [
       "270.01"
      ]
     },
     "execution_count": 67,
     "metadata": {},
     "output_type": "execute_result"
    }
   ],
   "source": [
    "max(msft)"
   ]
  },
  {
   "cell_type": "markdown",
   "metadata": {},
   "source": [
    "### Sort the list of MSFT prices in place. What were the five lowest prices we paid for MSFT shares?"
   ]
  },
  {
   "cell_type": "code",
   "execution_count": 68,
   "metadata": {},
   "outputs": [
    {
     "data": {
      "text/plain": [
       "[136.95, 139.53, 141.38, 146.5, 147.97]"
      ]
     },
     "execution_count": 68,
     "metadata": {},
     "output_type": "execute_result"
    }
   ],
   "source": [
    "msft.sort()\n",
    "msft[:5]"
   ]
  },
  {
   "cell_type": "markdown",
   "metadata": {},
   "source": [
    "### What were the five highest prices we paid for MSFT shares? \n",
    "\n",
    "Use a slice that includes a negative number"
   ]
  },
  {
   "cell_type": "code",
   "execution_count": 70,
   "metadata": {},
   "outputs": [
    {
     "data": {
      "text/plain": [
       "[270.01, 266.9, 257.89, 257.53, 256.97]"
      ]
     },
     "execution_count": 70,
     "metadata": {},
     "output_type": "execute_result"
    }
   ],
   "source": [
    "msft[:-6:-1]"
   ]
  },
  {
   "cell_type": "markdown",
   "metadata": {},
   "source": [
    "### How many unique values do we have in our list of MSFT prices?"
   ]
  },
  {
   "cell_type": "code",
   "execution_count": 74,
   "metadata": {},
   "outputs": [
    {
     "data": {
      "text/plain": [
       "100"
      ]
     },
     "execution_count": 74,
     "metadata": {},
     "output_type": "execute_result"
    }
   ],
   "source": [
    "s_msft = set(msft)\n",
    "\n",
    "len(s_msft)"
   ]
  },
  {
   "cell_type": "markdown",
   "metadata": {},
   "source": [
    "### We have another algo running that also buys shares of TSLA. Using the following list and the set from before, output a list of the unique prices of the combined lists."
   ]
  },
  {
   "cell_type": "code",
   "execution_count": 77,
   "metadata": {},
   "outputs": [
    {
     "name": "stdout",
     "output_type": "stream",
     "text": [
      "other_msft_prices are correct\n"
     ]
    },
    {
     "data": {
      "text/plain": [
       "{136.95,\n",
       " 139.53,\n",
       " 141.38,\n",
       " 146.5,\n",
       " 147.97,\n",
       " 149.65,\n",
       " 149.73,\n",
       " 151.2,\n",
       " 151.72,\n",
       " 152.06,\n",
       " 153.23,\n",
       " 154.24,\n",
       " 157.5,\n",
       " 158.8,\n",
       " 162.73,\n",
       " 165.53,\n",
       " 166.28,\n",
       " 167.49,\n",
       " 167.69,\n",
       " 174.14,\n",
       " 174.94,\n",
       " 175.61,\n",
       " 176.05,\n",
       " 176.67,\n",
       " 177.19,\n",
       " 177.42,\n",
       " 179.25,\n",
       " 180.19,\n",
       " 181.82,\n",
       " 183.38,\n",
       " 183.52,\n",
       " 183.69,\n",
       " 184.11,\n",
       " 184.14,\n",
       " 184.44,\n",
       " 185.7,\n",
       " 186.13,\n",
       " 186.68,\n",
       " 187.13,\n",
       " 187.49,\n",
       " 189.22,\n",
       " 190.19,\n",
       " 191.2,\n",
       " 192.04,\n",
       " 192.82,\n",
       " 193.8,\n",
       " 195.15,\n",
       " 195.46,\n",
       " 195.49,\n",
       " 198.55,\n",
       " 199.71,\n",
       " 199.76,\n",
       " 200.86,\n",
       " 202.05,\n",
       " 202.13,\n",
       " 202.89,\n",
       " 203.91,\n",
       " 204.91,\n",
       " 205.52,\n",
       " 205.86,\n",
       " 206.04,\n",
       " 207.77,\n",
       " 208.42,\n",
       " 208.56,\n",
       " 208.68,\n",
       " 211.48,\n",
       " 212.35,\n",
       " 212.38,\n",
       " 213.03,\n",
       " 213.11,\n",
       " 213.51,\n",
       " 214.33,\n",
       " 217.35,\n",
       " 220.2,\n",
       " 220.96,\n",
       " 222.39,\n",
       " 222.91,\n",
       " 224.32,\n",
       " 226.3,\n",
       " 230.97,\n",
       " 234.01,\n",
       " 234.4,\n",
       " 234.56,\n",
       " 234.95,\n",
       " 235.38,\n",
       " 235.53,\n",
       " 237.67,\n",
       " 240.86,\n",
       " 243.3,\n",
       " 243.46,\n",
       " 246.18,\n",
       " 247.34,\n",
       " 251.61,\n",
       " 251.64,\n",
       " 253.5,\n",
       " 256.97,\n",
       " 257.53,\n",
       " 257.89,\n",
       " 266.9,\n",
       " 270.01}"
      ]
     },
     "execution_count": 77,
     "metadata": {},
     "output_type": "execute_result"
    }
   ],
   "source": [
    "other_msft_list = [149.73, 151.2, 189.22, 166.28, 187.13, 195.46, 158.8, 154.24, 190.19, 153.23, 192.82, 176.67, 192.04, 177.19]\n",
    "\n",
    "# to verify the above numbers are correct and have not been altered, uncomment and run the following:\n",
    "import hashlib; print(\"other_msft_prices are correct\" if hashlib.md5(str(other_msft_list).encode()).hexdigest() == '2340257f15e1472379a92741c3a83fdd' else \"other msft prices are incorrect\")\n",
    "\n",
    "set_other_msft_list = set(other_msft_list)\n",
    "s_msft.union(set_other_msft_list)"
   ]
  },
  {
   "cell_type": "markdown",
   "metadata": {},
   "source": [
    "### Create a dictionary from the list of MSFT prices. Use the index of the sorted list as the key."
   ]
  },
  {
   "cell_type": "code",
   "execution_count": 80,
   "metadata": {},
   "outputs": [
    {
     "data": {
      "text/plain": [
       "{0: 136.95,\n",
       " 1: 139.53,\n",
       " 2: 141.38,\n",
       " 3: 146.5,\n",
       " 4: 147.97,\n",
       " 5: 149.65,\n",
       " 6: 149.73,\n",
       " 7: 151.2,\n",
       " 8: 151.72,\n",
       " 9: 152.06,\n",
       " 10: 153.23,\n",
       " 11: 154.24,\n",
       " 12: 157.5,\n",
       " 13: 158.8,\n",
       " 14: 162.73,\n",
       " 15: 165.53,\n",
       " 16: 166.28,\n",
       " 17: 167.49,\n",
       " 18: 167.69,\n",
       " 19: 174.14,\n",
       " 20: 174.94,\n",
       " 21: 175.61,\n",
       " 22: 176.05,\n",
       " 23: 176.67,\n",
       " 24: 177.19,\n",
       " 25: 177.42,\n",
       " 26: 179.25,\n",
       " 27: 180.19,\n",
       " 28: 181.82,\n",
       " 29: 183.38,\n",
       " 30: 183.52,\n",
       " 31: 183.69,\n",
       " 32: 184.11,\n",
       " 33: 184.14,\n",
       " 34: 184.44,\n",
       " 35: 185.7,\n",
       " 36: 186.13,\n",
       " 37: 186.68,\n",
       " 38: 187.13,\n",
       " 39: 187.49,\n",
       " 40: 189.22,\n",
       " 41: 190.19,\n",
       " 42: 191.2,\n",
       " 43: 192.04,\n",
       " 44: 192.82,\n",
       " 45: 193.8,\n",
       " 46: 195.15,\n",
       " 47: 195.46,\n",
       " 48: 195.49,\n",
       " 49: 198.55,\n",
       " 50: 199.71,\n",
       " 51: 199.76,\n",
       " 52: 200.86,\n",
       " 53: 202.05,\n",
       " 54: 202.13,\n",
       " 55: 202.89,\n",
       " 56: 203.91,\n",
       " 57: 204.91,\n",
       " 58: 205.52,\n",
       " 59: 205.86,\n",
       " 60: 206.04,\n",
       " 61: 207.77,\n",
       " 62: 208.42,\n",
       " 63: 208.56,\n",
       " 64: 208.68,\n",
       " 65: 211.48,\n",
       " 66: 212.35,\n",
       " 67: 212.38,\n",
       " 68: 213.03,\n",
       " 69: 213.11,\n",
       " 70: 213.51,\n",
       " 71: 214.33,\n",
       " 72: 217.35,\n",
       " 73: 220.2,\n",
       " 74: 220.96,\n",
       " 75: 222.39,\n",
       " 76: 222.91,\n",
       " 77: 224.32,\n",
       " 78: 226.3,\n",
       " 79: 230.97,\n",
       " 80: 234.01,\n",
       " 81: 234.4,\n",
       " 82: 234.56,\n",
       " 83: 234.95,\n",
       " 84: 235.38,\n",
       " 85: 235.53,\n",
       " 86: 237.67,\n",
       " 87: 240.86,\n",
       " 88: 243.3,\n",
       " 89: 243.46,\n",
       " 90: 246.18,\n",
       " 91: 247.34,\n",
       " 92: 251.61,\n",
       " 93: 251.64,\n",
       " 94: 253.5,\n",
       " 95: 256.97,\n",
       " 96: 257.53,\n",
       " 97: 257.89,\n",
       " 98: 266.9,\n",
       " 99: 270.01}"
      ]
     },
     "execution_count": 80,
     "metadata": {},
     "output_type": "execute_result"
    }
   ],
   "source": [
    "msft_dict = {}\n",
    "\n",
    "for i in range(len(msft)):\n",
    "    msft_dict[i] = msft[i]\n",
    "    \n",
    "msft_dict"
   ]
  },
  {
   "cell_type": "code",
   "execution_count": null,
   "metadata": {},
   "outputs": [],
   "source": []
  }
 ],
 "metadata": {
  "kernelspec": {
   "display_name": "Python 3",
   "language": "python",
   "name": "python3"
  },
  "language_info": {
   "codemirror_mode": {
    "name": "ipython",
    "version": 3
   },
   "file_extension": ".py",
   "mimetype": "text/x-python",
   "name": "python",
   "nbconvert_exporter": "python",
   "pygments_lexer": "ipython3",
   "version": "3.8.3"
  }
 },
 "nbformat": 4,
 "nbformat_minor": 4
}
