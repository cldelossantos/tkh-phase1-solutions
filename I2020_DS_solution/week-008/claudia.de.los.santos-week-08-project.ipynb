{
 "cells": [
  {
   "cell_type": "markdown",
   "metadata": {},
   "source": [
    "<div style=\"background: #000;\n",
    "            color: #FFF;\n",
    "            margin: 0px;\n",
    "                padding: 10px 0px 20px 0px;\n",
    "            text-align: center; \n",
    "                \">\n",
    "    <h1>Week 8 - Project</h1>\n",
    "</div>"
   ]
  },
  {
   "cell_type": "markdown",
   "metadata": {},
   "source": [
    "#### Write a python script that:  \n",
    "- scrapes the following webpage:  \n",
    "https://en.wikipedia.org/wiki/Template:COVID-19_pandemic_data    \n",
    "- parses the html for the table of covid data  \n",
    "- fills missing values with `None`   \n",
    "- calculates the death and recovery rate for each  country   \n",
    "- writes the data in csv format to a file called:`{your-name}-covid-report.csv`\n",
    "\n",
    "Your csv file should contain the following \"header\" (and corresponding data):\n",
    "\n",
    "```csv\n",
    "country,cases,deaths,recoveries,death_rate,recovery_rate\n",
    "\n",
    "```\n",
    "\n",
    "Please ask for clarification if needed.\n"
   ]
  },
  {
   "cell_type": "code",
   "execution_count": 126,
   "metadata": {},
   "outputs": [],
   "source": [
    "from bs4 import BeautifulSoup\n",
    "import requests\n",
    "import csv\n",
    "\n",
    "def percentage_converter(float):\n",
    "    \n",
    "    percentage = float * 100\n",
    "    return f\"{'{0:.2f}'.format(percentage)}%\"\n",
    "\n",
    "def scraping_covid_data():\n",
    "    r = requests.get('https://en.wikipedia.org/wiki/Template:COVID-19_pandemic_data')\n",
    "    soup = BeautifulSoup(r.text)\n",
    "    covid_data = [['country', 'cases', 'deaths', 'recoveries', 'death_rate', 'recovery_rate']]\n",
    "    for row in soup.select('tr')[2:]:\n",
    "        try:\n",
    "            country_name = list(row.select('th')[1].strings)[0]\n",
    "\n",
    "            country_cases = list(row.select('td')[0].strings)[0][:-1]\n",
    "            if country_cases == 'No dat':\n",
    "                country_cases = None\n",
    "\n",
    "            country_deaths = list(row.select('td')[1].strings)[0][:-1]\n",
    "            if country_deaths == 'No dat':\n",
    "                country_deaths = None\n",
    "\n",
    "            country_recovery = list(row.select('td')[2].strings)[0][:-1]\n",
    "            if country_recovery == 'No dat':\n",
    "                country_recovery = None\n",
    "\n",
    "            country_death_rate = None\n",
    "            country_recovery_rate = None\n",
    "\n",
    "            if country_deaths and country_cases:\n",
    "                country_death_rate = percentage_converter(int(country_deaths.replace(',',''))/int(country_cases.replace(',',''))) \n",
    "\n",
    "            if country_recovery and country_cases:\n",
    "                country_recovery_rate = percentage_converter(int(country_recovery.replace(',',''))/int(country_cases.replace(',','')))\n",
    "\n",
    "            country_data = [country_name, country_cases, country_deaths, country_recovery, country_death_rate, country_recovery_rate]\n",
    "            covid_data.append(country_data)  \n",
    "        except:\n",
    "            break \n",
    "\n",
    "    return covid_data\n",
    "\n",
    "output_to_file = open('Claudia-DeLosSantos-covid-report.csv', 'w')\n",
    "writefile = csv.writer(output_to_file)\n",
    "writefile.writerows((scraping_covid_data()))\n",
    "output_to_file.close()"
   ]
  },
  {
   "cell_type": "code",
   "execution_count": null,
   "metadata": {},
   "outputs": [],
   "source": []
  },
  {
   "cell_type": "code",
   "execution_count": null,
   "metadata": {},
   "outputs": [],
   "source": []
  }
 ],
 "metadata": {
  "kernelspec": {
   "display_name": "Python 3",
   "language": "python",
   "name": "python3"
  },
  "language_info": {
   "codemirror_mode": {
    "name": "ipython",
    "version": 3
   },
   "file_extension": ".py",
   "mimetype": "text/x-python",
   "name": "python",
   "nbconvert_exporter": "python",
   "pygments_lexer": "ipython3",
   "version": "3.8.3"
  }
 },
 "nbformat": 4,
 "nbformat_minor": 4
}
