{
 "cells": [
  {
   "cell_type": "markdown",
   "metadata": {},
   "source": [
    "<div style=\"background: #000;\n",
    "            color: #FFF;\n",
    "            margin: 0px;\n",
    "                padding: 10px 0px 20px 0px;\n",
    "            text-align: center; \n",
    "                \">\n",
    "    <h1>Week 8 Homework</h1>\n",
    "</div>"
   ]
  },
  {
   "cell_type": "markdown",
   "metadata": {},
   "source": [
    "# Exercise 2:\n",
    "\n",
    "Given an int `n`, create a function that creates an `n` x `n` matrix containing increasing integers starting with 1 and write the matrix into a csv file. \n",
    "\n",
    "\n",
    "#### Example:\n",
    "```    \n",
    "Input: 1\n",
    "Output: output.csv\n",
    "```\n",
    "The `output.csv` file should contain:\n",
    "```\n",
    "1\n",
    "```\n",
    "#### Example:\n",
    "```    \n",
    "Input: 2\n",
    "Output: output.csv\n",
    "```\n",
    "The `output.csv` file should contain:\n",
    "\n",
    "```\n",
    "1,2\n",
    "3,4\n",
    "```\n",
    "\n",
    "\n",
    "#### Example:\n",
    "```    \n",
    "Input: 3\n",
    "Output: output.csv\n",
    "```\n",
    "The `output.csv` file should contain:\n",
    "\n",
    "```\n",
    "1,2,3\n",
    "4,5,6\n",
    "7,8,9\n",
    "```"
   ]
  },
  {
   "cell_type": "code",
   "execution_count": 8,
   "metadata": {},
   "outputs": [],
   "source": [
    "import csv\n",
    "\n",
    "# complete the following code:\n",
    "def matrix_to_csv(n):\n",
    "    matrix = []\n",
    "    x = 1\n",
    "    for lst in range(n):\n",
    "        inside_of_matrix = []\n",
    "        for i in range(n):\n",
    "            inside_of_matrix.append(x)\n",
    "            x+=1\n",
    "        matrix.append(inside_of_matrix)\n",
    "    return matrix\n",
    "        \n",
    "#     if i <= n:\n",
    "#         for i in range(n):\n",
    "#             i = (0 * n) += 1\n",
    "\n",
    "\n",
    "output_to_file = open('output.csv', 'w')\n",
    "writefile = csv.writer(output_to_file)\n",
    "writefile.writerows((matrix_to_csv(5)))\n",
    "output_to_file.close()\n"
   ]
  },
  {
   "cell_type": "code",
   "execution_count": null,
   "metadata": {},
   "outputs": [],
   "source": []
  }
 ],
 "metadata": {
  "kernelspec": {
   "display_name": "Python 3",
   "language": "python",
   "name": "python3"
  },
  "language_info": {
   "codemirror_mode": {
    "name": "ipython",
    "version": 3
   },
   "file_extension": ".py",
   "mimetype": "text/x-python",
   "name": "python",
   "nbconvert_exporter": "python",
   "pygments_lexer": "ipython3",
   "version": "3.8.3"
  }
 },
 "nbformat": 4,
 "nbformat_minor": 4
}
