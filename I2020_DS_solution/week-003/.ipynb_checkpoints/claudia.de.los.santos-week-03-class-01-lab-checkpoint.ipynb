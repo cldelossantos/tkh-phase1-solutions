{
 "cells": [
  {
   "cell_type": "markdown",
   "metadata": {},
   "source": [
    "<div style=\"background: #000;\n",
    "            color: #FFF;\n",
    "            margin: 0px;\n",
    "                padding: 10px 0px 20px 0px;\n",
    "            text-align: center; \n",
    "                \">\n",
    "    <h1>Week 3 - Class 1 - Lab</h1>\n",
    "</div>\n"
   ]
  },
  {
   "cell_type": "markdown",
   "metadata": {},
   "source": [
    "# Question 1\n",
    "    \n",
    "Why do we need control structures and conditionals? Name one scenario we've encountered in previous assignments that could have benefitted from the use of these things. How would it have helped?"
   ]
  },
  {
   "cell_type": "markdown",
   "metadata": {},
   "source": [
    "We need control structures to help us execute code depending on specific conditions. These can control the flow of our code and allow us to handle a variety of circumstances. Conditionals execute code based on the value of a statement."
   ]
  },
  {
   "cell_type": "markdown",
   "metadata": {},
   "source": [
    "This would have been helpful in scenarios where we are given an array and need to find either the odd or even numbers in an array. Without conditionals we would execute a code based on the indeces. With an if statement, we can easily check whether items in the array are odd or even without hard coding our code."
   ]
  },
  {
   "cell_type": "markdown",
   "metadata": {},
   "source": [
    "# Exercise 1\n",
    "\n",
    "Given the input variable, write conditional statements to return True if an element:\n",
    "* contains a string longer than 30.\n",
    "* is a number greater than 30.\n",
    "* is a string less than 30 characters containing a number.\n",
    "* otherwise store the value to a list."
   ]
  },
  {
   "cell_type": "code",
   "execution_count": 19,
   "metadata": {},
   "outputs": [
    {
     "name": "stdout",
     "output_type": "stream",
     "text": [
      "Please enter your address: 2511 #\n",
      "['2511 #']\n"
     ]
    }
   ],
   "source": [
    "other = []\n",
    "\n",
    "user_input = input(\"Please enter your address: \")\n",
    "\n",
    "if user_input.isalpha() and len(user_input) > 30:\n",
    "    print(True)\n",
    "elif user_input.isalnum() and len(user_input) < 30 and not user_input.isnumeric():\n",
    "    print(True)\n",
    "elif user_input.isnumeric() and int(user_input) > 30:\n",
    "    print(True)\n",
    "else:\n",
    "    other.append(user_input)\n",
    "    print(other)\n",
    "\n"
   ]
  },
  {
   "cell_type": "markdown",
   "metadata": {},
   "source": [
    "# Exercise 2\n",
    "\n",
    "Create a \"switch\" statement that takes a number and prints \"fizz\" if the number is greater than 0 **and** even, \"buzz\" if greater than 0 and odd, an absolute value of the number if negative, \"ZERO\" if 0 and \"not a number\" otherwise. \n"
   ]
  },
  {
   "cell_type": "code",
   "execution_count": 47,
   "metadata": {},
   "outputs": [
    {
     "name": "stdout",
     "output_type": "stream",
     "text": [
      "Enter a number: claudia\n",
      "not a number\n"
     ]
    }
   ],
   "source": [
    "number = input(\"Enter a number: \")\n",
    "\n",
    "if number.isnumeric():\n",
    "    if number > 0 and number % 2 == 0:\n",
    "        print(\"fizz\")\n",
    "    elif number > 0 and number % 2 == 1:\n",
    "        print(\"buzz\")\n",
    "    elif number < 0:\n",
    "        print(abs(number))\n",
    "    else:\n",
    "        print(\"ZERO\")\n",
    "else:\n",
    "    print(\"not a number\")\n",
    "    "
   ]
  },
  {
   "cell_type": "markdown",
   "metadata": {},
   "source": [
    "# Exercise 3\n",
    "\n",
    "Using the following code. Write an if statement that takes the `value` returned by the `random_function` and does the following:\n",
    "* print \"true\" if False\n",
    "* print \"false\" if True,\n",
    "* sorts a string and prints it if the string is all lowercase\n",
    "* prints \"one char\" if there's a single uppercase character\n",
    "* prints \"string\" if the other two don't apply (hint: nest)\n",
    "* append the value to a list if a number greater or equal to 0.\n",
    "* add the absolute value of a negative number to a sum\n"
   ]
  },
  {
   "cell_type": "code",
   "execution_count": 91,
   "metadata": {},
   "outputs": [],
   "source": [
    "import random\n",
    "import string\n",
    "\n",
    "def random_string():\n",
    "    letters = string.ascii_letters\n",
    "    r = [random.choice(letters) for i in range(4)]\n",
    "    return \"\".join(r)\n",
    "def random_number():\n",
    "    return random.randint(-1000,1000)\n",
    "def random_bool():\n",
    "    return bool(random.randint(0,1))\n",
    "def random_function():\n",
    "    s = {\n",
    "       0: random_string(),\n",
    "       1: random_number(),\n",
    "       2: random_bool(),\n",
    "   }\n",
    "    return s[random.randint(0, 2)]"
   ]
  },
  {
   "cell_type": "code",
   "execution_count": 93,
   "metadata": {},
   "outputs": [
    {
     "name": "stdout",
     "output_type": "stream",
     "text": [
      "True\n"
     ]
    }
   ],
   "source": [
    "value = random_function()\n",
    "print(value)"
   ]
  },
  {
   "cell_type": "code",
   "execution_count": 120,
   "metadata": {},
   "outputs": [
    {
     "name": "stdout",
     "output_type": "stream",
     "text": [
      "2\n"
     ]
    }
   ],
   "source": [
    "value = -2\n",
    "new_list = []\n",
    "Total = 0\n",
    "if type(value) == bool:\n",
    "    if value == False:\n",
    "        print(\"true\")\n",
    "    else:\n",
    "        print(\"false\")\n",
    "elif type(value) == str:\n",
    "    if value.islower():\n",
    "        print(\"\".join(sorted(value)))\n",
    "    elif len([i for i in value if i.isupper()]) == 1:\n",
    "        print(\"one char\")\n",
    "    else:\n",
    "        print(\"string\")\n",
    "elif type(value) == int:\n",
    "    if value >= 0:\n",
    "        print(new_list.append(value))\n",
    "    elif value < 0:\n",
    "        print(abs(value + Total))\n",
    "        \n",
    "        \n",
    "    "
   ]
  },
  {
   "cell_type": "code",
   "execution_count": null,
   "metadata": {},
   "outputs": [],
   "source": []
  },
  {
   "cell_type": "code",
   "execution_count": null,
   "metadata": {},
   "outputs": [],
   "source": []
  }
 ],
 "metadata": {
  "kernelspec": {
   "display_name": "Python 3",
   "language": "python",
   "name": "python3"
  },
  "language_info": {
   "codemirror_mode": {
    "name": "ipython",
    "version": 3
   },
   "file_extension": ".py",
   "mimetype": "text/x-python",
   "name": "python",
   "nbconvert_exporter": "python",
   "pygments_lexer": "ipython3",
   "version": "3.8.3"
  }
 },
 "nbformat": 4,
 "nbformat_minor": 4
}
