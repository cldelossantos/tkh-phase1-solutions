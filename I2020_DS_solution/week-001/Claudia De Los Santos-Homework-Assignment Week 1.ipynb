{
 "cells": [
  {
   "cell_type": "markdown",
   "metadata": {},
   "source": [
    "# Week 1 HW\n",
    "\n",
    "**Exercise 1 and 3 are due Monday 9/20**  \n",
    "**Exercise 2 and 4 are due Tuesday 9/21**  \n",
    "**Exercise 5 and 6 are due Wednesday 9/22**  "
   ]
  },
  {
   "cell_type": "markdown",
   "metadata": {},
   "source": [
    "# Exercise 1"
   ]
  },
  {
   "cell_type": "markdown",
   "metadata": {},
   "source": [
    "a. Set a variable to a user input. "
   ]
  },
  {
   "cell_type": "code",
   "execution_count": 5,
   "metadata": {},
   "outputs": [
    {
     "name": "stdout",
     "output_type": "stream",
     "text": [
      "Enter today's date: September 20, 2020\n"
     ]
    }
   ],
   "source": [
    "date = input(\"Enter today's date: \")"
   ]
  },
  {
   "cell_type": "markdown",
   "metadata": {},
   "source": [
    "b. Set two variables in the same statement."
   ]
  },
  {
   "cell_type": "code",
   "execution_count": 17,
   "metadata": {},
   "outputs": [
    {
     "data": {
      "text/plain": [
       "('January', 'October')"
      ]
     },
     "execution_count": 17,
     "metadata": {},
     "output_type": "execute_result"
    }
   ],
   "source": [
    "jan, oct = (\"January\", \"October\")\n",
    "jan, oct"
   ]
  },
  {
   "cell_type": "markdown",
   "metadata": {},
   "source": [
    "c. Create a variable with a value that when cast as a bool returns True."
   ]
  },
  {
   "cell_type": "code",
   "execution_count": 20,
   "metadata": {},
   "outputs": [
    {
     "data": {
      "text/plain": [
       "True"
      ]
     },
     "execution_count": 20,
     "metadata": {},
     "output_type": "execute_result"
    }
   ],
   "source": [
    "class_days = \"Monday, Tuesday, Wednesday\"\n",
    "\n",
    "bool(class_days)"
   ]
  },
  {
   "cell_type": "markdown",
   "metadata": {},
   "source": [
    "d. If we add up all the numbers from 0 to 100, we get 5050. \n",
    "\n",
    "What sum do we get if we add up all the numbers from 0 to 1000?\n",
    "\n",
    "(Show your work)"
   ]
  },
  {
   "cell_type": "code",
   "execution_count": 24,
   "metadata": {},
   "outputs": [
    {
     "data": {
      "text/plain": [
       "500500"
      ]
     },
     "execution_count": 24,
     "metadata": {},
     "output_type": "execute_result"
    }
   ],
   "source": [
    "sum(range(0,1001))"
   ]
  },
  {
   "cell_type": "markdown",
   "metadata": {},
   "source": [
    "# Exercise 2 \n",
    "\n",
    "Convert the following logical statements into python. Print the result for each possible combination (TT, TF, FT, FF)"
   ]
  },
  {
   "cell_type": "markdown",
   "metadata": {},
   "source": [
    "¬(p || q )  "
   ]
  },
  {
   "cell_type": "code",
   "execution_count": 52,
   "metadata": {},
   "outputs": [
    {
     "name": "stdout",
     "output_type": "stream",
     "text": [
      "False\n",
      "False\n",
      "False\n",
      "True\n"
     ]
    }
   ],
   "source": [
    "print(not(True or True))\n",
    "print(not(True or False))\n",
    "print(not(False or True))\n",
    "print(not(False or False))\n",
    "\n"
   ]
  },
  {
   "cell_type": "markdown",
   "metadata": {},
   "source": [
    "( p || q ) ⊕ ( p & q)"
   ]
  },
  {
   "cell_type": "code",
   "execution_count": 56,
   "metadata": {},
   "outputs": [
    {
     "name": "stdout",
     "output_type": "stream",
     "text": [
      "False\n",
      "True\n",
      "True\n",
      "False\n"
     ]
    }
   ],
   "source": [
    "print((True or True) and not (True and True))\n",
    "print((True or False) and not (True and False))\n",
    "print((False or True) and not (False and True))\n",
    "print((False or False) and not (False and False))"
   ]
  },
  {
   "cell_type": "markdown",
   "metadata": {},
   "source": [
    "(p & ¬q ) || (¬p & q)"
   ]
  },
  {
   "cell_type": "code",
   "execution_count": 58,
   "metadata": {},
   "outputs": [
    {
     "name": "stdout",
     "output_type": "stream",
     "text": [
      "False\n",
      "True\n",
      "True\n",
      "False\n"
     ]
    }
   ],
   "source": [
    "print((True and not True) or (not True and True))\n",
    "print((True and not False) or (not True and False))\n",
    "print((False and not True) or (not False and True))\n",
    "print((False and not False) or (not False and False))"
   ]
  },
  {
   "cell_type": "markdown",
   "metadata": {},
   "source": [
    "# Exercise 3"
   ]
  },
  {
   "cell_type": "markdown",
   "metadata": {},
   "source": [
    " a. Create an array of strings that consist of five individual zeros followed by five individual ones. Demonstrate that it's an array, and that this is an array of strings using a built-in python function."
   ]
  },
  {
   "cell_type": "code",
   "execution_count": 48,
   "metadata": {},
   "outputs": [
    {
     "name": "stdout",
     "output_type": "stream",
     "text": [
      "<class 'list'>\n",
      "Is string\n",
      "Is string\n",
      "Is string\n",
      "Is string\n",
      "Is string\n",
      "Is string\n",
      "Is string\n",
      "Is string\n",
      "Is string\n",
      "Is string\n"
     ]
    }
   ],
   "source": [
    "array = [\"0\" , \"0\" , \"0\" , \"0\", \"0\", \"1\", \"1\", \"1\", \"1\", \"1\"]\n",
    "print(type(array))\n",
    "\n",
    "for i in array:\n",
    "    if type(i) == str:\n",
    "        print(\"Is string\") \n",
    "    else:\n",
    "        print(\"Is not a string\")"
   ]
  },
  {
   "cell_type": "markdown",
   "metadata": {},
   "source": [
    "b. Create an array of integers that consists of the same. Output the number of elements in the array using a built-in python function"
   ]
  },
  {
   "cell_type": "code",
   "execution_count": 40,
   "metadata": {},
   "outputs": [
    {
     "data": {
      "text/plain": [
       "10"
      ]
     },
     "execution_count": 40,
     "metadata": {},
     "output_type": "execute_result"
    }
   ],
   "source": [
    "array = [0,0,0,0,0,1,1,1,1,1]\n",
    "len(array)"
   ]
  },
  {
   "cell_type": "markdown",
   "metadata": {},
   "source": [
    "c. Create an array of floats that consists of the same. Demonstrate that this array is one of floats using a built-in python function."
   ]
  },
  {
   "cell_type": "code",
   "execution_count": 45,
   "metadata": {},
   "outputs": [
    {
     "name": "stdout",
     "output_type": "stream",
     "text": [
      "Is a float\n",
      "Is a float\n",
      "Is a float\n",
      "Is a float\n",
      "Is a float\n",
      "Is a float\n",
      "Is a float\n",
      "Is a float\n",
      "Is a float\n"
     ]
    }
   ],
   "source": [
    "array = [0.0, 0.0, 0.0, 0.0, 1.0, 1.0, 1.0, 1.0, 1.0]\n",
    "for i in array:\n",
    "    if type(i) == float:\n",
    "        print(\"Is a float\")\n",
    "    else:\n",
    "        print(\"Not a float\")\n",
    "        "
   ]
  },
  {
   "cell_type": "markdown",
   "metadata": {},
   "source": [
    "d. Create an array of bools that consists of the same. Demonstrate that this array is one of bools using a built-in python function."
   ]
  },
  {
   "cell_type": "code",
   "execution_count": 51,
   "metadata": {},
   "outputs": [
    {
     "name": "stdout",
     "output_type": "stream",
     "text": [
      "Is a bool\n",
      "Is a bool\n",
      "Is a bool\n",
      "Is a bool\n",
      "Is a bool\n",
      "Is a bool\n",
      "Is a bool\n",
      "Is a bool\n",
      "Is a bool\n",
      "Is a bool\n"
     ]
    }
   ],
   "source": [
    "array = [False, False, False, False, False, True, True, True, True, True]\n",
    "for i in array:\n",
    "    if type(i) == bool:\n",
    "        print(\"Is a bool\")\n",
    "    else:\n",
    "        print(\"Not a bool\")\n",
    "        \n"
   ]
  },
  {
   "cell_type": "markdown",
   "metadata": {},
   "source": [
    "# Exercise 4\n",
    "\n",
    "Without actually using Python, determine what the following would evaluate\n",
    "to in Python and explain step-by-step how you arrived at this answer:\n",
    "\n",
    "    a. (1 or ((0 or 0) or 1)) or 1\n",
    "    b. ((1 or 0) or 0 or 1) or 1\n",
    "    c. 1 or 0 or 0 or 1 or 1\n",
    "    \n",
    "Change the following cells to markdown and fill your answer in them."
   ]
  },
  {
   "cell_type": "markdown",
   "metadata": {},
   "source": [
    "a. True:\n",
    "(T or((F or F) or T)) or T\n",
    "(T or ((F) or T)) or T\n",
    "(T or (T) or T\n",
    "(T) or T\n",
    "T\n",
    "b. True\n",
    "((True or False) or False or True) or True\n",
    "((True) or False or True) or True\n",
    "(True or True) or True\n",
    "(True)\n",
    "c. True\n",
    "True or False or False or True or True\n",
    "True or False or True or True\n",
    "True or True or True\n",
    "True True\n",
    "True"
   ]
  },
  {
   "cell_type": "markdown",
   "metadata": {},
   "source": [
    "# Exercise 5\n",
    "\n",
    "To convert Fahrenheit to Celsius, you use the following formula:\n",
    "\n",
    "$$\n",
    "    C^{\\circ} = \\frac{ (F^{\\circ} - 32)}{1.8}\n",
    "$$\n",
    "\n",
    "Given a Fahrenheit input `temperature`, write some python statements to print the temperature in Celsius.\n"
   ]
  },
  {
   "cell_type": "code",
   "execution_count": 66,
   "metadata": {},
   "outputs": [
    {
     "name": "stdout",
     "output_type": "stream",
     "text": [
      "Enter temperature in Fahrenheit: 98\n"
     ]
    },
    {
     "data": {
      "text/plain": [
       "36.67"
      ]
     },
     "execution_count": 66,
     "metadata": {},
     "output_type": "execute_result"
    }
   ],
   "source": [
    "temperature = input(\"Enter temperature in Fahrenheit: \")\n",
    "minus_32 = int(temperature) - 32\n",
    "final = float(format(minus_32/1.8, '.2f'))\n",
    "final"
   ]
  },
  {
   "cell_type": "markdown",
   "metadata": {},
   "source": [
    "# Exercise 6\n",
    "\n",
    "If given a height and a radius, print the volume of a cylinder.\n",
    "\n",
    "$$ \n",
    "    V = \\pi r^2h\n",
    "$$"
   ]
  },
  {
   "cell_type": "code",
   "execution_count": null,
   "metadata": {},
   "outputs": [],
   "source": [
    "height = input(\"Enter a height: \")\n",
    "radius = input(\"Enter a radius: \")"
   ]
  },
  {
   "cell_type": "code",
   "execution_count": 74,
   "metadata": {},
   "outputs": [
    {
     "name": "stdout",
     "output_type": "stream",
     "text": [
      "Enter a height: 2\n",
      "Enter a radius: 3\n"
     ]
    },
    {
     "data": {
      "text/plain": [
       "56.52"
      ]
     },
     "execution_count": 74,
     "metadata": {},
     "output_type": "execute_result"
    }
   ],
   "source": [
    "height = input(\"Enter a height: \")\n",
    "radius = input(\"Enter a radius: \")\n",
    "\n",
    "radius_sq = int(radius)** 2\n",
    "pi_radius_sq = 3.14 * radius_sq\n",
    "final = float(format(pi_radius_sq * float(height), '.2f'))\n",
    "final"
   ]
  }
 ],
 "metadata": {
  "kernelspec": {
   "display_name": "Python 3",
   "language": "python",
   "name": "python3"
  },
  "language_info": {
   "codemirror_mode": {
    "name": "ipython",
    "version": 3
   },
   "file_extension": ".py",
   "mimetype": "text/x-python",
   "name": "python",
   "nbconvert_exporter": "python",
   "pygments_lexer": "ipython3",
   "version": "3.8.3"
  }
 },
 "nbformat": 4,
 "nbformat_minor": 4
}
