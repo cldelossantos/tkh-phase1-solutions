{
 "cells": [
  {
   "cell_type": "code",
   "execution_count": 19,
   "metadata": {},
   "outputs": [],
   "source": [
    "companies = {\n",
    "  \"msft\": {\n",
    "  \"name\" : \"Microsoft\",\n",
    "      \"ceo\":\"satya nadella\",\n",
    "      \"location\":\"redmond, washington\"\n",
    "  },\n",
    "  \"tlsa\": {\n",
    "  \"name\" : \"Tesla\",\n",
    "      \"ceo\":\"elon musk\",\n",
    "      \"location\":\"palo alto, california\"\n",
    "  },\n",
    "  \"aapl\": {\n",
    "  \"name\": \"Apple\",\n",
    "      \"ceo\":\"tim cook\",\n",
    "      \"location\":\"cupertino, california\"\n",
    "  },\n",
    "  \"goog\": {\n",
    "   \"name\":\"Google\",\n",
    "      \"ceo\":\"sundar pichai\",\n",
    "      \"location\": \"mountain view, california\"\n",
    "  },\n",
    "  \"amzn\": {\n",
    "  \"name\":\"Amazon\",\n",
    "      \"ceo\":\"jeff bezos\",\n",
    "      \"location\":\"seattle, washington\"}\n",
    "}\n",
    "\n",
    "# Write a series of python statements that will:\n",
    "# 1. Access the value for key \"location\" of each element of dictionary `companies`\n",
    "# 2. Access the value of the key name of each element of dict companies\n",
    "# 3.Print the following \"<COMPANY NAME>, is located in <COMPANY LOCATION>\" for each dictionary element."
   ]
  },
  {
   "cell_type": "code",
   "execution_count": null,
   "metadata": {},
   "outputs": [],
   "source": []
  },
  {
   "cell_type": "code",
   "execution_count": null,
   "metadata": {},
   "outputs": [],
   "source": []
  },
  {
   "cell_type": "code",
   "execution_count": null,
   "metadata": {},
   "outputs": [],
   "source": []
  }
 ],
 "metadata": {
  "kernelspec": {
   "display_name": "Python 3",
   "language": "python",
   "name": "python3"
  },
  "language_info": {
   "codemirror_mode": {
    "name": "ipython",
    "version": 3
   },
   "file_extension": ".py",
   "mimetype": "text/x-python",
   "name": "python",
   "nbconvert_exporter": "python",
   "pygments_lexer": "ipython3",
   "version": "3.8.3"
  }
 },
 "nbformat": 4,
 "nbformat_minor": 4
}
