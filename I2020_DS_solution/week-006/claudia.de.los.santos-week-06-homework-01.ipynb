{
 "cells": [
  {
   "cell_type": "markdown",
   "metadata": {},
   "source": [
    "<div style=\"background: #000;\n",
    "            color: #FFF;\n",
    "            margin: 0px;\n",
    "                padding: 10px 0px 20px 0px;\n",
    "            text-align: center; \n",
    "                \">\n",
    "    <h1>Week 6 - Homework</h1>\n",
    "</div>\n",
    "\n",
    "<pre style=\"text-align:center;\">\n",
    "Exercise 1 is due Monday 10/26\n",
    "</pre>"
   ]
  },
  {
   "cell_type": "markdown",
   "metadata": {},
   "source": [
    "# Exercise 1\n",
    "\n",
    "Create a class called `Course` and a class called `Student` based on what you think they will need. Create a way to store 20 \"students\" (instances of the `Student` class into an instance of `Course` to represent our Data Science course. \n",
    "\n",
    "Demonstrate that your code works. Message on slack if stuck or need clarification."
   ]
  },
  {
   "cell_type": "code",
   "execution_count": 2,
   "metadata": {},
   "outputs": [
    {
     "name": "stdout",
     "output_type": "stream",
     "text": [
      "Claudia De Los Santos\n",
      "Eryca Gomez\n",
      "Jennifer De Los Santos\n",
      "Ingrid Ordonez\n",
      "Richard Astacio\n",
      "Joseph Biden\n",
      "Donald Trump\n",
      "Student1 Data Science\n",
      "Student2 Data Science\n",
      "Student3 Data Science\n",
      "Student4 Data Science\n",
      "Student5 Data Science\n",
      "Student6 Data Science\n",
      "Student7 Data Science\n",
      "Student8 Data Science\n",
      "Student9 Data Science\n",
      "Student10 Data Science\n",
      "Student11 Data Science\n",
      "Student12 Data Science\n",
      "Julia Roberts\n"
     ]
    }
   ],
   "source": [
    "class Course:\n",
    "    def __init__(self, school, subject):\n",
    "        self.school = school\n",
    "        self.subject = subject\n",
    "        self.roster = []\n",
    "   \n",
    "    def add_to_roster(self, student):\n",
    "        self.roster.append(student)\n",
    "\n",
    "class Student:\n",
    "    def __init__(self, first_name, last_name):\n",
    "        self.first_name = first_name\n",
    "        self.last_name = last_name\n",
    "        \n",
    "    \n",
    "\n",
    "claudia = Student(\"Claudia\", \"De Los Santos\")\n",
    "eryca = Student(\"Eryca\", \"Gomez\")\n",
    "jennifer = Student(\"Jennifer\", \"De Los Santos\")\n",
    "ingrid = Student(\"Ingrid\", \"Ordonez\")\n",
    "richard = Student(\"Richard\", \"Astacio\")\n",
    "joe = Student(\"Joseph\", \"Biden\")\n",
    "donald = Student(\"Donald\", \"Trump\")\n",
    "student1 = Student(\"Student1\", \"Data Science\")\n",
    "student2 = Student(\"Student2\", \"Data Science\")\n",
    "student3 = Student(\"Student3\", \"Data Science\")\n",
    "student4 = Student(\"Student4\", \"Data Science\")\n",
    "student5 = Student(\"Student5\", \"Data Science\")\n",
    "student6 = Student(\"Student6\", \"Data Science\")\n",
    "student7 = Student(\"Student7\", \"Data Science\")\n",
    "student8 = Student(\"Student8\", \"Data Science\")\n",
    "student9 = Student(\"Student9\", \"Data Science\")\n",
    "student10 = Student(\"Student10\", \"Data Science\")\n",
    "student11 = Student(\"Student11\", \"Data Science\")\n",
    "student12 = Student(\"Student12\", \"Data Science\")\n",
    "julia = Student(\"Julia\", \"Roberts\")\n",
    "\n",
    "ds = Course(\"TKH\", \"Data Science\")\n",
    "\n",
    "ds.roster\n",
    "\n",
    "students = [claudia, eryca, jennifer, ingrid, richard, joe,donald, student1, student2,student3, student4, student5, student6, student7, student8, student9, student10, student11, student12, julia]\n",
    "\n",
    "\n",
    "for student in students:\n",
    "    ds.add_to_roster(student)\n",
    "# ds.add_to_roster(claudia)\n",
    "# ds.add_to_roster(julia)\n",
    "\n",
    "\n",
    "\n",
    "ds.roster\n",
    "\n",
    "for s in ds.roster:\n",
    "    print(s.first_name + \" \" + s.last_name)"
   ]
  },
  {
   "cell_type": "code",
   "execution_count": null,
   "metadata": {},
   "outputs": [],
   "source": []
  }
 ],
 "metadata": {
  "kernelspec": {
   "display_name": "Python 3",
   "language": "python",
   "name": "python3"
  },
  "language_info": {
   "codemirror_mode": {
    "name": "ipython",
    "version": 3
   },
   "file_extension": ".py",
   "mimetype": "text/x-python",
   "name": "python",
   "nbconvert_exporter": "python",
   "pygments_lexer": "ipython3",
   "version": "3.8.3"
  }
 },
 "nbformat": 4,
 "nbformat_minor": 4
}
