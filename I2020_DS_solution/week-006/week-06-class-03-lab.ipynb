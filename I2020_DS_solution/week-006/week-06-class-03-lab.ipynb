{
 "cells": [
  {
   "cell_type": "markdown",
   "metadata": {},
   "source": [
    "<div style=\"background: #000;\n",
    "            color: #FFF;\n",
    "            margin: 0px;\n",
    "                padding: 10px 0px 20px 0px;\n",
    "            text-align: center; \n",
    "                \">\n",
    "    <h1>Lab</h1>\n",
    "</div>\n"
   ]
  },
  {
   "cell_type": "markdown",
   "metadata": {},
   "source": [
    "# Question 1\n",
    "\n",
    "What is object inheritance? What does it mean for a class instance to inherit another? How can this be useful in our programming?"
   ]
  },
  {
   "cell_type": "raw",
   "metadata": {},
   "source": [
    "Object inheritances is when you create and object whose structure is based off of another class, therefore the child class will inherit attributes of the parent class. Object inheritance is useful so that you avoid repeating code by making it less verbose."
   ]
  },
  {
   "cell_type": "markdown",
   "metadata": {},
   "source": [
    "# Exercise 1\n",
    "\n",
    "Create a class that uses `@property` with the associated `setter` and `deleter` methods."
   ]
  },
  {
   "cell_type": "code",
   "execution_count": 6,
   "metadata": {},
   "outputs": [
    {
     "name": "stdout",
     "output_type": "stream",
     "text": [
      "Albany NY\n"
     ]
    }
   ],
   "source": [
    "class State:\n",
    "    def __init__(self, capital, initial):\n",
    "        self.capital = capital\n",
    "        self.initial = initial\n",
    "        \n",
    "    @property\n",
    "    def capital_initial(self):\n",
    "        return f\"{self.capital} {self.initial}\"\n",
    "    \n",
    "    @capital_initial.setter\n",
    "    def capital_initial(self, capital_initial):\n",
    "        self.capital, self.initial = capital_initial.split(' ')\n",
    "        \n",
    "    @capital_initial.deleter\n",
    "    def capital_initial(self):\n",
    "        self.capital, self.initial = (None, None)\n",
    "        \n",
    "        \n",
    "s = State('Albany', 'NY')\n",
    "s.capital_initial = \"Albany NY\"\n",
    "# del p.full_name\n",
    "\n",
    "\n",
    "print(s.capital_initial)"
   ]
  },
  {
   "cell_type": "markdown",
   "metadata": {},
   "source": [
    "# Exercise 2\n",
    "\n",
    "Using the following class, overload the `+` operator so when the two instances are added, the salaries are added and the sum is outputted. Also override the `__repr__` method so you can output a string that will create the same exact class (`\"Employee(**insert correct values here**)\"`)"
   ]
  },
  {
   "cell_type": "code",
   "execution_count": 24,
   "metadata": {},
   "outputs": [
    {
     "name": "stdout",
     "output_type": "stream",
     "text": [
      "Employee 332000\n",
      "Employee 500000\n"
     ]
    },
    {
     "data": {
      "text/plain": [
       "416000"
      ]
     },
     "execution_count": 24,
     "metadata": {},
     "output_type": "execute_result"
    }
   ],
   "source": [
    "class Employee:\n",
    "    def __init__(self, name, age, salary):\n",
    "        self.name = name\n",
    "        self.age = age\n",
    "        self.salary = salary\n",
    "        \n",
    "    # fix this code:\n",
    "    #def __add__(self):\n",
    "    #    pass\n",
    "    \n",
    "    # fix this code:\n",
    "    \n",
    "    #def __repr__(self):\n",
    "    #    pass\n",
    "    \n",
    "#     def __eq__(self, other):\n",
    "#         if isinstance(other, Employee)\n",
    "#             return self.salary == other.salary and self.y == other.y\n",
    "   \n",
    "    def __add__(self, other):\n",
    "            return self.salary + other.salary\n",
    "    \n",
    "#     def __mul__(self, scalar):\n",
    "#         if isinstance(scalar,(int, float))\n",
    "#             return Vector(self.x * scalar, self.y * scalar)\n",
    "    \n",
    "    def __repr__(self):\n",
    "        return f'Employee {self.salary}, {other.salary}'\n",
    "    \n",
    "    def __str__(self):\n",
    "        return f'Employee {self.salary + self.salary}'\n",
    "        \n",
    "        \n",
    "    \n",
    "empl1 = Employee('Kamala', 55, 166000)\n",
    "empl2 = Employee('Joe', 77, 250000)\n",
    "\n",
    "print(empl1)\n",
    "print(empl2)\n",
    "\n",
    "empl1 + empl2"
   ]
  },
  {
   "cell_type": "markdown",
   "metadata": {},
   "source": [
    "# Exercise 3:\n",
    "\n",
    "Create a class called `Store`, create an attribute called `inventory` that holds the product name as key and an int representing the count/number of that product as the value. \n",
    "\n",
    "Create a method that decrements from the product's count each time a specific product is purchased. Create a least one addtional method to help your class simulate a store (e.g. a method that lists the products for sale could be one). Also consider how you might want to add products to the store via the `__init__` method and later when the instance has already been created.\n",
    "\n",
    "When you're finished, create an instance of `Store` and demonstrate that your methods/code work. Bonus points for addtional methods/functionality."
   ]
  },
  {
   "cell_type": "code",
   "execution_count": null,
   "metadata": {},
   "outputs": [],
   "source": []
  },
  {
   "cell_type": "markdown",
   "metadata": {},
   "source": [
    "# Exercise 4:\n",
    "\n",
    "Create two classes. One that acts as a parent class and the other that acts as a child class that inherits from the parent. Create a method of the child class that uses attributes from the parent class. Demonstrate your code works by creating an instance of the child class and showing that the method works."
   ]
  },
  {
   "cell_type": "code",
   "execution_count": null,
   "metadata": {},
   "outputs": [],
   "source": []
  }
 ],
 "metadata": {
  "kernelspec": {
   "display_name": "Python 3",
   "language": "python",
   "name": "python3"
  },
  "language_info": {
   "codemirror_mode": {
    "name": "ipython",
    "version": 3
   },
   "file_extension": ".py",
   "mimetype": "text/x-python",
   "name": "python",
   "nbconvert_exporter": "python",
   "pygments_lexer": "ipython3",
   "version": "3.8.3"
  }
 },
 "nbformat": 4,
 "nbformat_minor": 4
}
