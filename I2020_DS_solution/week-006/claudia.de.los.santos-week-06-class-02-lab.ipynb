{
 "cells": [
  {
   "cell_type": "markdown",
   "metadata": {},
   "source": [
    "<div style=\"background: #000;\n",
    "            color: #FFF;\n",
    "            margin: 0px;\n",
    "                padding: 10px 0px 20px 0px;\n",
    "            text-align: center; \n",
    "                \">\n",
    "    <h1>Week 6 - Class 2 - Lab</h1>\n",
    "</div>\n"
   ]
  },
  {
   "cell_type": "markdown",
   "metadata": {},
   "source": [
    "## Question 1:\n",
    "    \n",
    "Explain one of the dunder methods describing what it does, how it works and why we might need to use it."
   ]
  },
  {
   "cell_type": "raw",
   "metadata": {},
   "source": [
    "Dunder methods are native to Python and serve many purposes like in the case of __dict__, it's used to access a collection of class attributes. By calling .__dict__ on the actual class we will be able to see the list of attributes that belong to it. "
   ]
  },
  {
   "cell_type": "markdown",
   "metadata": {},
   "source": [
    "## Exercise 1:\n",
    "\n",
    "Create a class called `Employee`, add in attributes and methods you think would be associated with an employee. Use at least 2 attributes and 2 methods (not including the `__init__` method you'll create as well)."
   ]
  },
  {
   "cell_type": "code",
   "execution_count": 3,
   "metadata": {},
   "outputs": [
    {
     "data": {
      "text/plain": [
       "True"
      ]
     },
     "execution_count": 3,
     "metadata": {},
     "output_type": "execute_result"
    }
   ],
   "source": [
    "class Employee:\n",
    "    def __init__(self, name, dept):\n",
    "        self.name = name\n",
    "        self.dept = dept\n",
    "        self.in_times = []\n",
    "        self.out_times = []\n",
    "        \n",
    "    def clock_in(self, in_time):\n",
    "        self.in_times.append(in_time)\n",
    "        return f\"You were successfully clocked in at {in_time}\"\n",
    "    \n",
    "    def clock_out(self, out_time):\n",
    "        self.out_times.append(out_time)\n",
    "        return f\"You're clocked out. Enjoy the rest of your day\"\n",
    "    \n",
    "alex = Employee(\"Alexander Hamilton\", \"Federal Reserve\")\n",
    "\n",
    "alex.manager = True\n",
    "\n",
    "alex.clock_in('09:41')\n",
    "\n",
    "alex.manager"
   ]
  },
  {
   "cell_type": "markdown",
   "metadata": {},
   "source": [
    "## Exercise 2:\n",
    "\n",
    "Create a class called `Paper` with the `content`, `length`, `width`, `margin`, `print_layout` (landscape or portrait) and `doublesided` (boolean value) as attributes. Provide methods that allow us to change those attributes."
   ]
  },
  {
   "cell_type": "code",
   "execution_count": 26,
   "metadata": {},
   "outputs": [
    {
     "data": {
      "text/plain": [
       "'necessary'"
      ]
     },
     "execution_count": 26,
     "metadata": {},
     "output_type": "execute_result"
    }
   ],
   "source": [
    "class Paper:\n",
    "    def __init__(self, content, length, width, margin, print_layout, doublesided):\n",
    "        self.content = content\n",
    "        self.length = length\n",
    "        self.width = width \n",
    "        self.margin = margin\n",
    "        self.print_layout = print_layout\n",
    "        self.doublesided = doublesided\n",
    "        \n",
    "    def _set_content(self, value):\n",
    "        self.content = value\n",
    "        \n",
    "    def _set_length(self, value):\n",
    "        self.length = value\n",
    "    \n",
    "    def _set_width(self, value):\n",
    "        self.width = value\n",
    "    \n",
    "    def _set_print_layout(self, value):\n",
    "        self.print_layout = value\n",
    "        \n",
    "    def _set_doublesided(self, value):\n",
    "        self.doublesided = value\n",
    "    \n",
    "    \n",
    "paper = Paper('where content lives', 9, 11, 1, 'landscape', False)\n",
    "paper._set_content('necessary')\n",
    "paper.content"
   ]
  },
  {
   "cell_type": "markdown",
   "metadata": {},
   "source": [
    "## Exercise 3\n",
    "\n",
    "Create a class called `Printer` that implements a queue. You should be able to store `Paper` objects in this queue so provide methods that add instances of `Paper` to the `Printer`'s queue and a toy method that \"prints\" `n` amount of \"jobs\" from the queue at a time. Demonstrate that this code works."
   ]
  },
  {
   "cell_type": "code",
   "execution_count": 28,
   "metadata": {},
   "outputs": [
    {
     "name": "stdout",
     "output_type": "stream",
     "text": [
      "<__main__.Paper object at 0x106cbd5b0>\n",
      "<__main__.Paper object at 0x106c74f70>\n"
     ]
    }
   ],
   "source": [
    "class Printer():\n",
    "    def __init__(self):\n",
    "        self.queue = []\n",
    "    \n",
    "    def add_to_queue(self, *papers):\n",
    "        for p in papers:\n",
    "            self.queue.append(p)\n",
    "    \n",
    "    def print_this_many(self, n):\n",
    "        for p in range(n):\n",
    "            print(self.queue[p])\n",
    "            \n",
    "paper2 = Paper('second paper', 11, 9, 1, 'portrait', True)\n",
    "\n",
    "printer = Printer()\n",
    "printer.add_to_queue(paper, paper2)\n",
    "\n",
    "printer.print_this_many(2)"
   ]
  },
  {
   "cell_type": "markdown",
   "metadata": {},
   "source": [
    "## Exercise 4:\n",
    "    \n",
    "Create a class called `Square` that overloads the addition operator by adding the area of two squares. You will need at least an attribute for length, a method for calculating area and the overloaded `+` operator method.\n",
    "\n",
    "e.g. `Square(3) + Square(4) == 25`"
   ]
  },
  {
   "cell_type": "code",
   "execution_count": 30,
   "metadata": {},
   "outputs": [
    {
     "data": {
      "text/plain": [
       "20"
      ]
     },
     "execution_count": 30,
     "metadata": {},
     "output_type": "execute_result"
    }
   ],
   "source": [
    "class Square:\n",
    "    def __init__(self, length):\n",
    "        self.length = length\n",
    "        \n",
    "    def area(self):\n",
    "        return self.length**2\n",
    "        \n",
    "    def __add__(self, other_obj):\n",
    "        if type(other_obj) == Square:\n",
    "            return self.area() + other_obj.area()\n",
    "        \n",
    "Square(2) + Square(4)"
   ]
  }
 ],
 "metadata": {
  "kernelspec": {
   "display_name": "Python 3",
   "language": "python",
   "name": "python3"
  },
  "language_info": {
   "codemirror_mode": {
    "name": "ipython",
    "version": 3
   },
   "file_extension": ".py",
   "mimetype": "text/x-python",
   "name": "python",
   "nbconvert_exporter": "python",
   "pygments_lexer": "ipython3",
   "version": "3.8.3"
  }
 },
 "nbformat": 4,
 "nbformat_minor": 4
}
