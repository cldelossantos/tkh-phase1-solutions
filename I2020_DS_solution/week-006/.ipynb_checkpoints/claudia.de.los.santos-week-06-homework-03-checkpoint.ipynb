{
 "cells": [
  {
   "cell_type": "markdown",
   "metadata": {},
   "source": [
    "<div style=\"background: #000;\n",
    "            color: #FFF;\n",
    "            margin: 0px;\n",
    "                padding: 10px 0px 20px 0px;\n",
    "            text-align: center; \n",
    "                \">\n",
    "    <h1>Week 6 - Homework</h1>\n",
    "</div>\n",
    "\n",
    "<pre style=\"text-align:center;\">\n",
    "Exercise 3 is due Wednesday 10/28\n",
    "</pre>"
   ]
  },
  {
   "cell_type": "markdown",
   "metadata": {},
   "source": [
    "# Exercise 3\n",
    "\n",
    "Create a base class `Shape` and two classes that inherits that base class called `Triangle` and `Rectangle`. Consider what those two share in common (height and width) and use that to create your base class `Shape`. Create a method for base class called `area` that returns `None` for the base class. Override that method for `Triangle` and `Rectangle` so instances of those two classes can calculate the correct area.\n",
    "\n",
    "Demonstrate that your code works."
   ]
  },
  {
   "cell_type": "code",
   "execution_count": 1,
   "metadata": {},
   "outputs": [
    {
     "name": "stdout",
     "output_type": "stream",
     "text": [
      "15\n",
      "32\n"
     ]
    }
   ],
   "source": [
    "class Shape:\n",
    "    def __init__(self, width, height):\n",
    "        self.width = width\n",
    "        self.height = height\n",
    "           \n",
    "    def area(self):\n",
    "        return self.height * self.width\n",
    "   \n",
    "   \n",
    "class Triangle(Shape):\n",
    "    def __init__(self, width, height):\n",
    "        Shape.__init__(self, width, height)\n",
    "   \n",
    "    def tri_area(self):\n",
    "        return self.area()\n",
    "\n",
    "class Rectangle(Shape):\n",
    "    def __init__(self, width, height):\n",
    "        Shape.__init__(self, width, height)\n",
    "       \n",
    "    def rect_area(self):\n",
    "        return self.area()\n",
    "\n",
    "tri = Triangle(5,3)\n",
    "print(tri.tri_area())\n",
    "\n",
    "rect = Rectangle(4,8)\n",
    "print(rect.rect_area())"
   ]
  },
  {
   "cell_type": "code",
   "execution_count": null,
   "metadata": {},
   "outputs": [],
   "source": []
  }
 ],
 "metadata": {
  "kernelspec": {
   "display_name": "Python 3",
   "language": "python",
   "name": "python3"
  },
  "language_info": {
   "codemirror_mode": {
    "name": "ipython",
    "version": 3
   },
   "file_extension": ".py",
   "mimetype": "text/x-python",
   "name": "python",
   "nbconvert_exporter": "python",
   "pygments_lexer": "ipython3",
   "version": "3.8.3"
  }
 },
 "nbformat": 4,
 "nbformat_minor": 4
}
