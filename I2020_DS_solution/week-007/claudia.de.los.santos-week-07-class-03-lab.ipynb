{
 "cells": [
  {
   "cell_type": "markdown",
   "metadata": {},
   "source": [
    "<div style=\"background: #000;\n",
    "            color: #FFF;\n",
    "            margin: 0px;\n",
    "                padding: 10px 0px 20px 0px;\n",
    "            text-align: center; \n",
    "                \">\n",
    "    <h1>Week 7 - Class 3 - Lab</h1>\n",
    "</div>\n"
   ]
  },
  {
   "cell_type": "markdown",
   "metadata": {},
   "source": [
    "# Question 1\n",
    "\n",
    "What is an example of a situation where you might want to use a `try`/`except`? Why?"
   ]
  },
  {
   "cell_type": "markdown",
   "metadata": {},
   "source": [
    "An example of when it might be useful to use try/except is when you're in a for loop and your code comes across the incorrect data , truncating your code. By using the try/except, the code will skip over the error, and let you code continue."
   ]
  },
  {
   "cell_type": "markdown",
   "metadata": {},
   "source": []
  },
  {
   "cell_type": "markdown",
   "metadata": {},
   "source": [
    "# Exercise 1\n",
    "\n",
    "Create a base class called `Person` that stores `name`, `birthday`, `age` and `location`. Create methods that allow you to change those attributes (change name, birthday, age and location).\n",
    "\n",
    "Then create a class that inherits from `Person` called `Employee` that stores everything that `Person` sets but also `income`, `position` and `office_location`. Create methods that allow you to change/set those three attributes.\n",
    "\n",
    "Demonstrate that the `Employee` class can change all the attributes mentioned above.\n",
    "\n",
    "Bonus Points: Create a class attribute called `raise` and set that to 10% company wide. Create a method that applies that raise to `income` and demonstrate that you can use it to give employees a raise (company wide and per employee)."
   ]
  },
  {
   "cell_type": "code",
   "execution_count": 11,
   "metadata": {},
   "outputs": [
    {
     "name": "stdout",
     "output_type": "stream",
     "text": [
      "6\n",
      "7\n"
     ]
    }
   ],
   "source": [
    "class Person:\n",
    "    def __init__(self, name, birthday, age, location):\n",
    "        self.name = name\n",
    "        self.birthday = birthday\n",
    "        self.age = age\n",
    "        self.location = location\n",
    "    \n",
    "    def change_name(self, name):\n",
    "        self.name = name\n",
    "    \n",
    "    def change_age(self, age):\n",
    "        self.age = age\n",
    "    \n",
    "    def change_location(self, location):\n",
    "        self.location = location\n",
    "\n",
    "class Employee(Person):\n",
    "    def __init__(self, name, birthday, age, location, income, positon, office_location):\n",
    "        self.income = income\n",
    "        self.postion_location = office_location\n",
    "        Person.__init__(self, name, birthday, age, location)\n",
    "\n",
    "olivia = Employee(\"Olivia\", \"10/17/2014\", 6 , \"The Bronx\", 10000, \"Full time cute dog\", \"My home\")        \n",
    "\n",
    "print(olivia.age)\n",
    "olivia.change_age(7)\n",
    "print(olivia.age)"
   ]
  },
  {
   "cell_type": "markdown",
   "metadata": {},
   "source": [
    "# Exercise 2\n",
    "\n",
    "Fix the following code by catching the `IndexError` using try/except."
   ]
  },
  {
   "cell_type": "code",
   "execution_count": 5,
   "metadata": {},
   "outputs": [
    {
     "name": "stdout",
     "output_type": "stream",
     "text": [
      "1\n",
      "2\n",
      "3\n",
      "4\n",
      "5\n",
      "6\n",
      "7\n",
      "8\n",
      "Error\n"
     ]
    }
   ],
   "source": [
    "s = [[1,2,3], [4,5,6], [7,8]]\n",
    "\n",
    "for row in range(3):\n",
    "    for col in range(3):\n",
    "        try:\n",
    "            print(s[row][col])\n",
    "        except:\n",
    "            print(\"Error\")"
   ]
  },
  {
   "cell_type": "markdown",
   "metadata": {},
   "source": [
    "# Exercise 3\n",
    "\n",
    "Create a module that contains a single function. The function should be executable from the command line. It should take a series of `int`'s, sum them, and then output the result to the command line. Submit your *.py file with your name in the filename."
   ]
  },
  {
   "cell_type": "code",
   "execution_count": null,
   "metadata": {},
   "outputs": [],
   "source": []
  }
 ],
 "metadata": {
  "kernelspec": {
   "display_name": "Python 3",
   "language": "python",
   "name": "python3"
  },
  "language_info": {
   "codemirror_mode": {
    "name": "ipython",
    "version": 3
   },
   "file_extension": ".py",
   "mimetype": "text/x-python",
   "name": "python",
   "nbconvert_exporter": "python",
   "pygments_lexer": "ipython3",
   "version": "3.8.3"
  }
 },
 "nbformat": 4,
 "nbformat_minor": 4
}
