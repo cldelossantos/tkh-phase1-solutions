{
 "cells": [
  {
   "cell_type": "markdown",
   "metadata": {},
   "source": [
    "<div style=\"background: #000;\n",
    "            color: #FFF;\n",
    "            margin: 0px;\n",
    "                padding: 10px 0px 20px 0px;\n",
    "            text-align: center; \n",
    "                \">\n",
    "    <h1>Lab</h1>\n",
    "</div>\n"
   ]
  },
  {
   "cell_type": "markdown",
   "metadata": {},
   "source": [
    "# HW Exercise 1\n",
    "\n",
    "Create a class called `Course` and a class called `Student` based on what you think they will need. Create a way to store 20 \"students\" (instances of the `Student` class into an instance of `Course` to represent our Data Science course. \n",
    "\n",
    "Demonstrate that your code works. Message on slack if stuck or need clarification."
   ]
  },
  {
   "cell_type": "code",
   "execution_count": 8,
   "metadata": {},
   "outputs": [
    {
     "name": "stdout",
     "output_type": "stream",
     "text": [
      "Barack Obama\n",
      "George W. Bush\n",
      "Bill Clinton\n",
      "George H.W. Bush\n",
      "Ronald Reagan\n",
      "Jimmy Carter\n",
      "Gerald Ford\n",
      "Richard Nixon\n",
      "Lyndon B. Johnson\n",
      "John F. Kennedy\n",
      "Dwight D. Einsenhower\n",
      "Harry S Truman\n",
      "Franklin D. Roosevelt\n",
      "Herbet Hoover\n",
      "Calvin Coolidge\n",
      "Warren G. Harding\n",
      "Woodrow Wilson\n",
      "William Howard Taft\n",
      "Theodore Rooselvelt\n",
      "William McKinley\n"
     ]
    }
   ],
   "source": [
    "class Course:\n",
    "    def __init__(self, school, subject):\n",
    "        self.school = school\n",
    "        self.subject = subject\n",
    "        self.roster = []\n",
    "   \n",
    "    def add_to_roster(self, student):\n",
    "        self.roster.append(student)\n",
    "\n",
    "class Student:\n",
    "    def __init__(self, first_name, last_name):\n",
    "        self.first_name = first_name\n",
    "        self.last_name = last_name\n",
    "        \n",
    "    \n",
    "\n",
    "obama = Student(\"Barack\", \"Obama\")\n",
    "bush = Student(\"George W.\", \"Bush\")\n",
    "clinton = Student(\"Bill\", \"Clinton\")\n",
    "bush_jr = Student(\"George H.W.\", \"Bush\")\n",
    "reagan = Student(\"Ronald\", \"Reagan\")\n",
    "carter = Student(\"Jimmy\", \"Carter\")\n",
    "ford = Student(\"Gerald\", \"Ford\")\n",
    "nixon = Student(\"Richard\", \"Nixon\")\n",
    "johnson = Student(\"Lyndon B.\", \"Johnson\")\n",
    "kennedy = Student(\"John F.\", \"Kennedy\")\n",
    "einsenhower = Student(\"Dwight D.\", \"Einsenhower\")\n",
    "truman = Student(\"Harry S\", \"Truman\")\n",
    "roosevelt = Student(\"Franklin D.\", \"Roosevelt\")\n",
    "hoover = Student(\"Herbet\", \"Hoover\")\n",
    "cooloidge = Student(\"Calvin\", \"Coolidge\")\n",
    "harding = Student(\"Warren G.\", \"Harding\")\n",
    "wilson = Student(\"Woodrow\", \"Wilson\")\n",
    "taft = Student(\"William\", \"Howard Taft\")\n",
    "rooselvelt2 = Student(\"Theodore\", \"Rooselvelt\")\n",
    "mckinley = Student(\"William\", \"McKinley\")\n",
    "\n",
    "ds = Course(\"TKH\", \"Data Science\")\n",
    "\n",
    "ds.roster\n",
    "\n",
    "students = [obama, bush, clinton, bush_jr, reagan, carter, ford, nixon, johnson, kennedy, einsenhower, truman, roosevelt, hoover, cooloidge, harding, wilson, taft, rooselvelt2, mckinley]\n",
    "\n",
    "\n",
    "for student in students:\n",
    "    ds.add_to_roster(student)\n",
    "\n",
    "\n",
    "\n",
    "ds.roster\n",
    "\n",
    "for s in ds.roster:\n",
    "    print(s.first_name + \" \" + s.last_name)"
   ]
  },
  {
   "cell_type": "markdown",
   "metadata": {},
   "source": [
    "# Complete previous weeks Labs"
   ]
  },
  {
   "cell_type": "markdown",
   "metadata": {},
   "source": [
    "# Question 1:\n",
    "\n",
    "Give an example of how we could use what we learned today in our python programming."
   ]
  },
  {
   "cell_type": "raw",
   "metadata": {},
   "source": [
    "The access mode 'w' can be useful in opening a file for writing."
   ]
  },
  {
   "cell_type": "markdown",
   "metadata": {},
   "source": [
    "# Exercise 1:\n",
    "\n",
    "Create a file called `sample.txt`. Create a function takes one argument that opens the file and writes that argument to it."
   ]
  },
  {
   "cell_type": "code",
   "execution_count": 15,
   "metadata": {},
   "outputs": [
    {
     "data": {
      "text/plain": [
       "'This function opens the file and writes an argument'"
      ]
     },
     "execution_count": 15,
     "metadata": {},
     "output_type": "execute_result"
    }
   ],
   "source": [
    "new_file = open('sample.txt', 'w')\n",
    "\n",
    "def write_file(text):\n",
    "    new_file.write(text)\n",
    "    new_file.close()\n",
    "\n",
    "write_file(\"This function opens the file and writes an argument\")\n",
    "\n",
    "new_file = open('sample.txt', 'r')\n",
    "new_file.read()\n",
    "new_file.close()"
   ]
  },
  {
   "cell_type": "markdown",
   "metadata": {},
   "source": [
    "# Exercise 2:\n",
    "    \n",
    "Create a function that takes an argument and opens the argument as a file and prints the contents.\n",
    "\n",
    "Demonstrate that this works for `sample.txt`"
   ]
  },
  {
   "cell_type": "code",
   "execution_count": 2,
   "metadata": {},
   "outputs": [
    {
     "name": "stdout",
     "output_type": "stream",
     "text": [
      "This function opens the file and writes an argument\n"
     ]
    }
   ],
   "source": [
    "def open_file(file):\n",
    "    opens_file = open(file, 'r')\n",
    "    print(opens_file.read())\n",
    "    open_file.close()\n",
    "    \n",
    "open_file('sample.txt')"
   ]
  },
  {
   "cell_type": "markdown",
   "metadata": {},
   "source": [
    "# Week 6 Project\n",
    "\n",
    "#### For this project, you'll be using your solution exercise 2 from week-05-class-01-lab.ipynb and the following piece of code:"
   ]
  },
  {
   "cell_type": "code",
   "execution_count": 26,
   "metadata": {},
   "outputs": [
    {
     "data": {
      "text/plain": [
       "(0, 'rock')"
      ]
     },
     "execution_count": 26,
     "metadata": {},
     "output_type": "execute_result"
    }
   ],
   "source": [
    "import random\n",
    "def computers_turn():\n",
    "    choices = {\n",
    "        0: 'rock',\n",
    "        1: 'paper',\n",
    "        2: 'scissors',\n",
    "    }\n",
    "    turn = random.randint(0,2)\n",
    "    return (turn, choices[turn])\n",
    "\n",
    "computers_turn()"
   ]
  },
  {
   "cell_type": "markdown",
   "metadata": {},
   "source": [
    "#### Your solution for exercise 2"
   ]
  },
  {
   "cell_type": "code",
   "execution_count": 31,
   "metadata": {},
   "outputs": [
    {
     "name": "stdout",
     "output_type": "stream",
     "text": [
      "Rock, paper, scissors???0\n"
     ]
    }
   ],
   "source": [
    "import random\n",
    "def computers_turn():\n",
    "    choices = {\n",
    "        0: 'rock',\n",
    "        1: 'paper',\n",
    "        2: 'scissors',\n",
    "    }\n",
    "    turn = random.randint(0,2)\n",
    "    return (turn, choices[turn])\n",
    "\n",
    "\n",
    "def my_turn():\n",
    "    turn = int(input(\"Rock, paper, scissors???\"))\n",
    "    choices = {\n",
    "        0: 'rock',\n",
    "        1: 'paper',\n",
    "        2: 'scissors',\n",
    "    }\n",
    "    return (turn, choices[turn])\n",
    "\n",
    "def winner():\n",
    "    comp = computers_turn()\n",
    "    player = my_turn()\n",
    "    if comp == player:\n",
    "        return winner()\n",
    "    elif comp == 'rock' and player == 'scissors':\n",
    "        return \"Computer Wins\"\n",
    "    elif comp == 'scissors' and player == 'paper':\n",
    "        return \"Computer Wins\"\n",
    "    elif comp == 'paper'and player == 'rock':\n",
    "        return \"Computer Wins\"\n",
    "    elif comp == 'scissors'and player == 'rock':\n",
    "        return \"Player Wins\"\n",
    "    elif comp == 'rock'and player == 'paper':\n",
    "        return \"Player Wins\"\n",
    "    elif comp == 'paper' and player == 'scissors':\n",
    "        return \"Player Wins\"\n",
    "    \n",
    "winner()\n",
    "    "
   ]
  },
  {
   "cell_type": "markdown",
   "metadata": {},
   "source": [
    "Take your solution to exercise 2 and break it up into two separate functions:\n",
    "\n",
    "`your_turn` -  which takes an input and returns `(turn, choices[turn])` similar to `computers_turn`.\n",
    "\n",
    "`compare_turns` - which takes the two-tuples from `your_turn` and `computers_turn` to declare a winner\n",
    "\n"
   ]
  },
  {
   "cell_type": "code",
   "execution_count": 32,
   "metadata": {},
   "outputs": [],
   "source": [
    "def my_turn():\n",
    "    turn = int(input(\"Rock, paper, scissors???\"))\n",
    "    choices = {\n",
    "        0: 'rock',\n",
    "        1: 'paper',\n",
    "        2: 'scissors',\n",
    "    }\n",
    "    return (turn, choices[turn])"
   ]
  },
  {
   "cell_type": "code",
   "execution_count": 35,
   "metadata": {},
   "outputs": [],
   "source": [
    "def compare_turns(computer_tuple, human_tuple):\n",
    "    comp = computer_tuple[1]\n",
    "    player = human_tuple[1]\n",
    "    if comp == player:\n",
    "        return \"It's a tie!\"\n",
    "    elif comp == 'rock' and player == 'scissors':\n",
    "        return \"Computer Wins\"\n",
    "    elif comp == 'scissors' and player == 'paper':\n",
    "        return \"Computer Wins\"\n",
    "    elif comp == 'paper'and player == 'rock':\n",
    "        return \"Computer Wins\"\n",
    "    elif comp == 'scissors'and player == 'rock':\n",
    "        return \"Player Wins\"\n",
    "    elif comp == 'rock'and player == 'paper':\n",
    "        return \"Player Wins\"\n",
    "    elif comp == 'paper' and player == 'scissors':\n",
    "        return \"Player Wins\""
   ]
  },
  {
   "cell_type": "markdown",
   "metadata": {},
   "source": [
    "Now create a function called `won_round` that calls `computers_turn`, `your_turn` and then `compare_turns` within the function body and then returns True if you won the round, else False."
   ]
  },
  {
   "cell_type": "code",
   "execution_count": 38,
   "metadata": {},
   "outputs": [
    {
     "name": "stdout",
     "output_type": "stream",
     "text": [
      "Rock, paper, scissors???1\n"
     ]
    },
    {
     "data": {
      "text/plain": [
       "True"
      ]
     },
     "execution_count": 38,
     "metadata": {},
     "output_type": "execute_result"
    }
   ],
   "source": [
    "def won_round():\n",
    "    player = my_turn()\n",
    "    computer = computers_turn()\n",
    "    winner = compare_turns(computer, player)\n",
    "    return 'Player' in winner\n",
    "\n",
    "won_round()"
   ]
  },
  {
   "cell_type": "markdown",
   "metadata": {},
   "source": [
    "Create a class using these functions (converting them to methods that take `self`) tha has attributes to store the details of who's won. Create an `__init__` function that takes, at minimum, an argument asking how many rounds to play. Also create a function that displays the details of who won each round. Bonus points for implementing other features.\n",
    "\n",
    "Demonstrate that this class can be used to run games of Rock-Paper-Scissors.\n",
    "\n",
    "When submitting, make sure all of your code from above is in this class declaration below and that the below two cells run without error. Failure to do so will result in points taken off."
   ]
  },
  {
   "cell_type": "code",
   "execution_count": 50,
   "metadata": {},
   "outputs": [],
   "source": [
    "class RockPaperScissors:\n",
    "    def __init__(self, rounds=3):\n",
    "        self.rounds = rounds\n",
    "        \n",
    "    def computers_turn():\n",
    "        choices = {\n",
    "            0: 'rock',\n",
    "            1: 'paper',\n",
    "            2: 'scissors',\n",
    "        }\n",
    "        turn = random.randint(0,2)\n",
    "        return (turn, choices[turn])\n",
    "\n",
    "    def my_turn():\n",
    "        turn = int(input(\"Rock, paper, scissors???\"))\n",
    "        choices = {\n",
    "            0: 'rock',\n",
    "            1: 'paper',\n",
    "            2: 'scissors',\n",
    "        }\n",
    "        return (turn, choices[turn])\n",
    "    \n",
    "\n",
    "    def compare_turns(computer_tuple, human_tuple):\n",
    "        comp = computer_tuple[1]\n",
    "        player = human_tuple[1]\n",
    "        if comp == player:\n",
    "            return \"It's a tie!\"\n",
    "        elif comp == 'rock' and player == 'scissors':\n",
    "            return \"Computer Wins\"\n",
    "        elif comp == 'scissors' and player == 'paper':\n",
    "            return \"Computer Wins\"\n",
    "        elif comp == 'paper'and player == 'rock':\n",
    "            return \"Computer Wins\"\n",
    "        elif comp == 'scissors'and player == 'rock':\n",
    "            return \"Player Wins\"\n",
    "        elif comp == 'rock'and player == 'paper':\n",
    "            return \"Player Wins\"\n",
    "        elif comp == 'paper' and player == 'scissors':\n",
    "            return \"Player Wins\"\n",
    "        \n",
    "    def play(self):\n",
    "        wins = 0\n",
    "        while self.rounds > 0:\n",
    "            player = my_turn()\n",
    "            computer = computers_turn()\n",
    "            winner = compare_turns(computer, player)\n",
    "            \n",
    "            if 'Player' in winner:\n",
    "                wins += 1\n",
    "            self.rounds -= 1\n",
    "        \n",
    "        return f\"You won {wins} games.\"\n"
   ]
  },
  {
   "cell_type": "markdown",
   "metadata": {},
   "source": [
    "Create an instance of your class below and run a game of 3 rounds. Then output the results\n",
    "\n"
   ]
  },
  {
   "cell_type": "code",
   "execution_count": 51,
   "metadata": {},
   "outputs": [
    {
     "name": "stdout",
     "output_type": "stream",
     "text": [
      "Rock, paper, scissors???2\n",
      "Rock, paper, scissors???1\n",
      "Rock, paper, scissors???2\n"
     ]
    },
    {
     "data": {
      "text/plain": [
       "'You won 2 games.'"
      ]
     },
     "execution_count": 51,
     "metadata": {},
     "output_type": "execute_result"
    }
   ],
   "source": [
    "game = RockPaperScissors()\n",
    "\n",
    "game.play()"
   ]
  },
  {
   "cell_type": "code",
   "execution_count": null,
   "metadata": {},
   "outputs": [],
   "source": []
  }
 ],
 "metadata": {
  "kernelspec": {
   "display_name": "Python 3",
   "language": "python",
   "name": "python3"
  },
  "language_info": {
   "codemirror_mode": {
    "name": "ipython",
    "version": 3
   },
   "file_extension": ".py",
   "mimetype": "text/x-python",
   "name": "python",
   "nbconvert_exporter": "python",
   "pygments_lexer": "ipython3",
   "version": "3.8.3"
  }
 },
 "nbformat": 4,
 "nbformat_minor": 4
}
